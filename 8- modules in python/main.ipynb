{
 "cells": [
  {
   "cell_type": "markdown",
   "metadata": {},
   "source": [
    "# Modules in python\n",
    "\n",
    "ماژول ها روشی هستند برای لینک کردن بخش های مختلف و فایل های مختلف یک پروژه بهم.\n",
    "\n",
    "- برای نوشتن اسم فایل های ماژول ها باید اونهارو به صورت اسنیک کیس بنویسیم"
   ]
  },
  {
   "cell_type": "markdown",
   "metadata": {},
   "source": [
    "## import filename\n",
    "\n",
    "با استفاده از این کیورد میتونیم فایل مورد نظر رو به عنوان ماژول در فایل ها و قسمت های مختلف پروژه اد کنیم.\n",
    "\n",
    "## py cache\n",
    "این پای کش با هربار ایمپورت کردن ماژول توسط پایتون درون پروژمون ساخته میشه. این فایل چیه این فایل نسخه کامپایل شده اون ماژول مورد نظر ما هستش که پایتون جای اینکه بیاد هربار اون ماژولی که ما فراخان کردیمو از اول کامپایل بکنه یه نسخه کامپایل شده فایل سی رو آماده داره و اونو فراخانی میکنه که سرعت پروژه ما چندین برابر میشه.اما اگر تغییری در ماژول ما اتفاق بیوفته پایتون دوباره اونو کامپایل میکنه و درون پویشه کش قرار میده."
   ]
  },
  {
   "cell_type": "markdown",
   "metadata": {},
   "source": [
    "# package\n",
    "\n",
    "پکیج به طور خلاصه یک فولدری تشکیل شده از چندین فایل پایتونه که ما میتونیم در پروژه ها ازش برای مصارف خاصی استفاده کنیم.\n",
    "یک پکیج تشکیل شده از چندین ماژوله.\n",
    "\n",
    "> برای استفاده از پکیج خودمون اول باید اسم فولدر و بعد اسم اون فایل ماژول رو بنویسیم و بعد میتونیم به همون ترتیب اسم فولدر و بعد فایل و اون فانکشن مشخص تو پروژمون استفاده کنیم\n",
    "```py\n",
    "\n",
    "import folder.file\n",
    "\n",
    "print(folder.file.helloworld)\n",
    "\n",
    "```"
   ]
  },
  {
   "cell_type": "markdown",
   "metadata": {},
   "source": [
    "## \\__init__.py\n",
    "این یکجور شناسه برای پایتون هستش که میاد به پایتون اعلام میکنه که آقا اینجا یک پکیج پایتونه و درون این پکیج ماژول های مختلفی استفاده شده است"
   ]
  },
  {
   "cell_type": "markdown",
   "metadata": {},
   "source": [
    "```py\n",
    "\n",
    "from package_name import module_name1, module_name2\n",
    "\n",
    "```"
   ]
  },
  {
   "cell_type": "markdown",
   "metadata": {},
   "source": [
    "-------"
   ]
  },
  {
   "cell_type": "markdown",
   "metadata": {},
   "source": [
    "```py \n",
    "from module import * \n",
    "```\n",
    "\n",
    "این میاد از یک ماژول تمامی فانکشن های درون اون ماژول رو برای ما میاره"
   ]
  },
  {
   "cell_type": "markdown",
   "metadata": {},
   "source": [
    "----"
   ]
  },
  {
   "cell_type": "markdown",
   "metadata": {},
   "source": [
    "> اگر ساید افکتی مانند پرینت گرفتن در یک ماژولی رخ دهد. وقتی آن ماژول را ایمپورت میکنیم آن حرکت بعد از اجرا شدن فایل اصلی همزمان اجرا میشود یعنی همان پرینت گرفتن."
   ]
  },
  {
   "cell_type": "markdown",
   "metadata": {},
   "source": [
    "## \\__name__ and \\__main__\n",
    "\n",
    "اینترپرتر پایتون وقتی یک فایلی رو به صورت مستقل نه به صورت ماژول ران میکنه به اون اسم main رو میده\n",
    "ما میتونیم با تعریف شرط بگیم که اگر مستقل ران شدن شما یکسری حرکت هارو بزن\n",
    "و اگر به صورت ماژول ران شد یکسری حرکت های دیگه رو بزن\n",
    "\n",
    "----"
   ]
  },
  {
   "cell_type": "markdown",
   "metadata": {},
   "source": [
    "help() : با استفاده از این فانکشن میتونیم درباره یک ماژولی اطلاعات کسب کنیم"
   ]
  },
  {
   "cell_type": "markdown",
   "metadata": {},
   "source": [
    "random.shuffle() : کار این اینه که هربار میاد ایتریتور مارو به صورت شافل یا بهم ریخته میکنه."
   ]
  },
  {
   "cell_type": "code",
   "execution_count": 2,
   "metadata": {
    "ExecuteTime": {
     "end_time": "2024-09-19T15:06:56.319317Z",
     "start_time": "2024-09-19T15:06:56.308475Z"
    }
   },
   "outputs": [
    {
     "name": "stdout",
     "output_type": "stream",
     "text": [
      "[5, 3, 2, 4, 1]\n"
     ]
    }
   ],
   "source": [
    "import random\n",
    "\n",
    "my_list = [1, 2, 3, 4, 5]\n",
    "random.shuffle(my_list)\n",
    "print(my_list)"
   ]
  },
  {
   "cell_type": "markdown",
   "metadata": {},
   "source": [
    "----\n",
    "\n",
    "## sys module\n",
    "\n",
    "- sys.argv : این ماژول این قدرت رو به ما میده که ما بتونیم از طریق ترمینال پارامتر دریافت بکنیم و از طریق یک لیست به اون پارامتر ها دسترسی داشته باشیم.\n",
    "  \n",
    "- sys.exit() : این متود هرجا فراخانی بشه برنامه مرا وایمیستونه."
   ]
  },
  {
   "cell_type": "markdown",
   "metadata": {},
   "source": [
    "----"
   ]
  },
  {
   "cell_type": "markdown",
   "metadata": {},
   "source": [
    "## PIP = Python Package Index\n",
    "\n",
    "- pip install packagename\n",
    "- pip list : لیست پکیج های نصب شده رو برای ما میاره"
   ]
  },
  {
   "cell_type": "markdown",
   "metadata": {},
   "source": [
    "---\n",
    "\n",
    "### versioning : \n",
    "اعداد مختلف هر ورژن از یک پکیج معانی مختلفی دارند.\n",
    "<br>\n",
    "0 . &ensp;&ensp;&ensp;&ensp; 5 &ensp;&ensp;&ensp;&ensp;  . 0\n",
    "<br>\n",
    "major version . new feather . bug fixes\n",
    "\n",
    "### install specific version of package : \n",
    "```pip install pyjokes==0.4.0```"
   ]
  },
  {
   "cell_type": "markdown",
   "metadata": {},
   "source": [
    "---\n",
    "\n",
    "## virtual environment : \n",
    "ما برای پروژه های مختلف نیاز به پکیج های مختلف با ورژن های مختلف داریم.\n",
    "مثلا تو کامپیوتر یک پروژه دارم که از ورژن 3 نامپای استفاده میکنه و پروژه دیگه ای از ورژن 2 \n",
    "چطوری میتونیم همزمان ورژن های مختلفی از پکیج های پایتون رو درون پروژه های مختلفمون استفاده کنیم؟ با استفاده از ظرف مجازی"
   ]
  },
  {
   "cell_type": "markdown",
   "metadata": {},
   "source": [
    "----\n",
    "\n",
    "## Collections : \n",
    "به list tuple dict set یک کانتینر از مجوعه ها گفته میشود\n",
    "ما با استفاده از ماژول کالکشن میتونیم قابلیت های اضافه ای رو به کانتینرهامون اضافه کنیم.\n",
    "\n",
    "`from collection import Counter, defaultDict, OrderdDict`\n",
    "\n",
    "\n",
    "- counter : این ماژول کارش اینه که به ما میگه یک ایتم از یک مجموعه چندبار درون کانتینر تکرار شده.\n",
    "به عنوان مثال ما میخوایم چک بکنیم که ایا یوزری به این اسم توی دیتابیس یا نه برای این کار بخوایم حلقه بزنیم یا برنامه ای براش بنویسیم خیلی سنگینه پس میایم از کانتر برای سریع پیدا کردن تعداد این یوزرنیم استفاده میکنیم.\n",
    "\n",
    "- defaultdict : با استفاده از این ماژول ما میتونیم مقدار دیفالت برای دیکشنریمون تعریف بکنیم برای موقعی که درخواست کردیم یک آیتمی رو برای ما برگردونه ولی اون آیتم نبود.\n",
    "- OrderedDict : اگر در حالت معمولی ما بیایم یک دیکشنری رو که داده ها همونه ولی غیر مرتب مقایسه بکنیم پایتون میگه همونه.\n",
    "  اما وفتی بیایم از حالت اوردردیکت استفاده بکنیم اما دو دیکشنری بهم ریخته باشن این میگه این همون دیکت نیست.\n"
   ]
  },
  {
   "cell_type": "code",
   "execution_count": 17,
   "metadata": {},
   "outputs": [
    {
     "name": "stdout",
     "output_type": "stream",
     "text": [
      "Counter({'sara': 3, 'reza': 2, 'ali': 1, 'javad': 1})\n",
      "Counter({'a': 6, ' ': 6, 'j': 3, 'e': 3, 'b': 2, 'v': 1, 'd': 1, 's': 1, 'l': 1, 'm': 1, 'r': 1, 'o': 1, 'y': 1})\n",
      "NOT FOUND LOL\n",
      "False\n"
     ]
    }
   ],
   "source": [
    "from collections import Counter, OrderedDict, defaultdict\n",
    "\n",
    "\n",
    "names = [\"reza\", \"ali\", \"reza\", \"sara\", \"javad\", \"sara\", \"sara\"]\n",
    "\n",
    "sentence = \"ja ja javad salam be be roye\"\n",
    "\n",
    "def def_dict():\n",
    "    return \"Not Found\"\n",
    "\n",
    "# new_dict = defaultdict(def_dict, {\"a\": 1, \"b\": 2})\n",
    "new_dict = defaultdict(lambda: \"NOT FOUND LOL\", {\"a\": 1, \"b\": 2})\n",
    "\n",
    "print(Counter(names))\n",
    "print(Counter(sentence))\n",
    "\n",
    "print(new_dict[\"c\"])\n",
    "\n",
    "d1 = {'a': 1, 'b': 2}\n",
    "d2 = {'a': 1, 'b': 2}\n",
    "d3 = {'b': 2, 'a': 1}\n",
    "d4 = OrderedDict(d1)\n",
    "d5 = OrderedDict(d3)\n",
    "\n",
    "print(d4 == d5)\n",
    "\n"
   ]
  },
  {
   "cell_type": "markdown",
   "metadata": {},
   "source": [
    "## Date and Time : \n",
    "با استفاده از ماژول \n",
    "<br>\n",
    "datetime\n",
    "<br>\n",
    "میتونیم به تاریخ و ساعت و زمان دسترسی باشیم و باهاش کار کنیم"
   ]
  },
  {
   "cell_type": "code",
   "execution_count": 36,
   "metadata": {},
   "outputs": [
    {
     "name": "stdout",
     "output_type": "stream",
     "text": [
      "2024-09-21\n"
     ]
    }
   ],
   "source": [
    "import datetime\n",
    "\n",
    "print(datetime.date.today())\n",
    "# print(datetime.date.fromtimestamp())\n",
    "# datetime.time.tzname(\"UTC\")"
   ]
  },
  {
   "cell_type": "markdown",
   "metadata": {},
   "source": [
    "## Array module in python :\n",
    " آرایه در پایتون سرعت بالاتر و پرفرمنس بهتری داره به این دلیل که باید نوع دیتا تایپی که در آرایه استفاده میشه تعریف بشه و از همون استفاده بشه چون یک نوع دیتا تایپه یک جای مشخصی در مموری رو میگیره از این نظر سرعت بالاتری هم \n",
    " \n",
    " > این ماژول فقط برای اعداد هستش"
   ]
  },
  {
   "cell_type": "code",
   "execution_count": 38,
   "metadata": {},
   "outputs": [
    {
     "name": "stdout",
     "output_type": "stream",
     "text": [
      "array('i', [1, 2, 3, 4, 5])\n"
     ]
    }
   ],
   "source": [
    "from array import array\n",
    "\n",
    "nums = array('i', [1 ,2, 3, 4, 5])\n",
    "\n",
    "print(nums)"
   ]
  }
 ],
 "metadata": {
  "kernelspec": {
   "display_name": "base",
   "language": "python",
   "name": "python3"
  },
  "language_info": {
   "codemirror_mode": {
    "name": "ipython",
    "version": 3
   },
   "file_extension": ".py",
   "mimetype": "text/x-python",
   "name": "python",
   "nbconvert_exporter": "python",
   "pygments_lexer": "ipython3",
   "version": "3.12.4"
  }
 },
 "nbformat": 4,
 "nbformat_minor": 2
}
