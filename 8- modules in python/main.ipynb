{
 "cells": [
  {
   "cell_type": "markdown",
   "metadata": {},
   "source": [
    "# Modules in python\n",
    "\n",
    "ماژول ها روشی هستند برای لینک کردن بخش های مختلف و فایل های مختلف یک پروژه بهم.\n",
    "\n",
    "- برای نوشتن اسم فایل های ماژول ها باید اونهارو به صورت اسنیک کیس بنویسیم"
   ]
  },
  {
   "cell_type": "markdown",
   "metadata": {},
   "source": [
    "## import filename\n",
    "\n",
    "با استفاده از این کیورد میتونیم فایل مورد نظر رو به عنوان ماژول در فایل ها و قسمت های مختلف پروژه اد کنیم.\n",
    "\n",
    "## py cache\n",
    "این پای کش با هربار ایمپورت کردن ماژول توسط پایتون درون پروژمون ساخته میشه. این فایل چیه این فایل نسخه کامپایل شده اون ماژول مورد نظر ما هستش که پایتون جای اینکه بیاد هربار اون ماژولی که ما فراخان کردیمو از اول کامپایل بکنه یه نسخه کامپایل شده فایل سی رو آماده داره و اونو فراخانی میکنه که سرعت پروژه ما چندین برابر میشه.اما اگر تغییری در ماژول ما اتفاق بیوفته پایتون دوباره اونو کامپایل میکنه و درون پویشه کش قرار میده."
   ]
  },
  {
   "cell_type": "markdown",
   "metadata": {},
   "source": [
    "# package\n",
    "\n",
    "پکیج به طور خلاصه یک فولدری تشکیل شده از چندین فایل پایتونه که ما میتونیم در پروژه ها ازش برای مصارف خاصی استفاده کنیم.\n",
    "یک پکیج تشکیل شده از چندین ماژوله.\n",
    "\n",
    "> برای استفاده از پکیج خودمون اول باید اسم فولدر و بعد اسم اون فایل ماژول رو بنویسیم و بعد میتونیم به همون ترتیب اسم فولدر و بعد فایل و اون فانکشن مشخص تو پروژمون استفاده کنیم\n",
    "```py\n",
    "\n",
    "import folder.file\n",
    "\n",
    "print(folder.file.helloworld)\n",
    "\n",
    "```"
   ]
  },
  {
   "cell_type": "markdown",
   "metadata": {},
   "source": [
    "## \\__init__.py\n",
    "این یکجور شناسه برای پایتون هستش که میاد به پایتون اعلام میکنه که آقا اینجا یک پکیج پایتونه و درون این پکیج ماژول های مختلفی استفاده شده است"
   ]
  },
  {
   "cell_type": "markdown",
   "metadata": {},
   "source": [
    "```py\n",
    "\n",
    "from package_name import module_name1, module_name2\n",
    "\n",
    "```"
   ]
  },
  {
   "metadata": {},
   "cell_type": "markdown",
   "source": "-------"
  },
  {
   "cell_type": "markdown",
   "metadata": {},
   "source": [
    "```py \n",
    "from module import * \n",
    "```\n",
    "\n",
    "این میاد از یک ماژول تمامی فانکشن های درون اون ماژول رو برای ما میاره"
   ]
  },
  {
   "cell_type": "markdown",
   "metadata": {},
   "source": [
    "----"
   ]
  },
  {
   "cell_type": "markdown",
   "metadata": {},
   "source": [
    "> اگر ساید افکتی مانند پرینت گرفتن در یک ماژولی رخ دهد. وقتی آن ماژول را ایمپورت میکنیم آن حرکت بعد از اجرا شدن فایل اصلی همزمان اجرا میشود یعنی همان پرینت گرفتن."
   ]
  },
  {
   "cell_type": "markdown",
   "metadata": {},
   "source": [
    "## \\__name__ and \\__main__\n",
    "\n",
    "اینترپرتر پایتون وقتی یک فایلی رو به صورت مستقل نه به صورت ماژول ران میکنه به اون اسم main رو میده\n",
    "ما میتونیم با تعریف شرط بگیم که اگر مستقل ران شدن شما یکسری حرکت هارو بزن\n",
    "و اگر به صورت ماژول ران شد یکسری حرکت های دیگه رو بزن\n",
    "\n",
    "----"
   ]
  },
  {
   "cell_type": "markdown",
   "metadata": {},
   "source": [
    "help() : با استفاده از این فانکشن میتونیم درباره یک ماژولی اطلاعات کسب کنیم"
   ]
  },
  {
   "cell_type": "markdown",
   "metadata": {},
   "source": [
    "random.shuffle() : کار این اینه که هربار میاد ایتریتور مارو به صورت شافل یا بهم ریخته میکنه."
   ]
  },
  {
   "cell_type": "code",
   "metadata": {
    "ExecuteTime": {
     "end_time": "2024-09-19T15:06:56.319317Z",
     "start_time": "2024-09-19T15:06:56.308475Z"
    }
   },
   "source": [
    "import random\n",
    "\n",
    "my_list = [1, 2, 3, 4, 5]\n",
    "random.shuffle(my_list)\n",
    "print(my_list)"
   ],
   "outputs": [
    {
     "name": "stdout",
     "output_type": "stream",
     "text": [
      "[5, 3, 2, 4, 1]\n"
     ]
    }
   ],
   "execution_count": 2
  },
  {
   "cell_type": "markdown",
   "metadata": {},
   "source": [
    "----\n",
    "\n",
    "## sys module\n",
    "\n",
    "- sys.argv : این ماژول این قدرت رو به ما میده که ما بتونیم از طریق ترمینال پارامتر دریافت بکنیم و از طریق یک لیست به اون پارامتر ها دسترسی داشته باشیم."
   ]
  }
 ],
 "metadata": {
  "kernelspec": {
   "display_name": "base",
   "language": "python",
   "name": "python3"
  },
  "language_info": {
   "codemirror_mode": {
    "name": "ipython",
    "version": 3
   },
   "file_extension": ".py",
   "mimetype": "text/x-python",
   "name": "python",
   "nbconvert_exporter": "python",
   "pygments_lexer": "ipython3",
   "version": "3.12.4"
  }
 },
 "nbformat": 4,
 "nbformat_minor": 2
}
