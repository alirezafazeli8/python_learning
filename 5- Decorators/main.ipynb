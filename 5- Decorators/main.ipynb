{
 "cells": [
  {
   "cell_type": "markdown",
   "metadata": {},
   "source": [
    "# Decorators :\n",
    "\n",
    "Higher order function (HOC) : \n",
    "its a function that accepts inside of its parameters another function.\n",
    "به فانکشنی گفته میشه که در درون پارامتر خودش یک فانکشنی میگیره و اون فانکشنو درون خودش صدا میزنه.\n",
    "مثل نمونه زیر : \n"
   ]
  },
  {
   "cell_type": "code",
   "execution_count": null,
   "metadata": {},
   "outputs": [],
   "source": []
  }
 ],
 "metadata": {
  "language_info": {
   "name": "python"
  }
 },
 "nbformat": 4,
 "nbformat_minor": 2
}
