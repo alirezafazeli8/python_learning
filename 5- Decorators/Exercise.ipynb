{
 "cells": [
  {
   "cell_type": "markdown",
   "metadata": {},
   "source": [
    "# Authentication Exercise :"
   ]
  },
  {
   "cell_type": "code",
   "execution_count": 13,
   "metadata": {},
   "outputs": [
    {
     "name": "stdout",
     "output_type": "stream",
     "text": [
      "First Pleas Login !\n"
     ]
    }
   ],
   "source": [
    "# Create an @authenticated decorator that only allows the function to run is user1 has 'valid' set to True:\n",
    "user1 = {\n",
    "    'name': 'Sorna',\n",
    "    'valid': False #changing this will either run or not run the message_friends function.\n",
    "}\n",
    "\n",
    "def authenticated(fn):\n",
    "    # code here\n",
    "    def wrapper(*args, **kwargs):\n",
    "        # get user\n",
    "        user = args[0]\n",
    "        \n",
    "        # check user validation\n",
    "        if user[\"valid\"]:\n",
    "            return fn(*args, **kwargs)\n",
    "        else:\n",
    "            return \"First Pleas Login !\"\n",
    "        \n",
    "    \n",
    "    return wrapper\n",
    "\n",
    "\n",
    "@authenticated\n",
    "def message_friends(user):\n",
    "    return 'message has been sent'\n",
    "\n",
    "print(message_friends(user1))"
   ]
  }
 ],
 "metadata": {
  "kernelspec": {
   "display_name": "Python 3",
   "language": "python",
   "name": "python3"
  },
  "language_info": {
   "codemirror_mode": {
    "name": "ipython",
    "version": 3
   },
   "file_extension": ".py",
   "mimetype": "text/x-python",
   "name": "python",
   "nbconvert_exporter": "python",
   "pygments_lexer": "ipython3",
   "version": "3.11.5"
  }
 },
 "nbformat": 4,
 "nbformat_minor": 2
}
