{
 "cells": [
  {
   "cell_type": "markdown",
   "metadata": {},
   "source": [
    "## Error Handling : \n",
    "\n",
    "ارور و خطا در برنامه چیزی اجتناب ناپذیر  هستش و هر لحظه ممکنه رخ بده پس ما در برناممون باید این ارور هارو هندل و مدیریت بکنیم تا اگر یکجایی از برنامه دچار خطا شدش برنامه متوقف نشو و به کار خودش ادامه بده.\n",
    "\n",
    "> error handling allows us to let the script continue running, even if there is an error.\n",
    "\n",
    "اگر اروری در ترای رخ بده سریعا کد درون اکسپت اجرا میشه"
   ]
  },
  {
   "cell_type": "code",
   "execution_count": 7,
   "metadata": {},
   "outputs": [
    {
     "name": "stdout",
     "output_type": "stream",
     "text": [
      "Your Age is 19\n",
      "correct\n"
     ]
    }
   ],
   "source": [
    "try:\n",
    "    age = int(input(\"Enter Your Age : \"))\n",
    "    print(f\"Your Age is {age}\")\n",
    "except:\n",
    "    print(\"Pleas Enter Number Not STR\")\n",
    "else:\n",
    "    print(\"correct\")"
   ]
  },
  {
   "cell_type": "code",
   "execution_count": 5,
   "metadata": {},
   "outputs": [
    {
     "name": "stdout",
     "output_type": "stream",
     "text": [
      "Your Age is 19\n"
     ]
    }
   ],
   "source": [
    "while True:\n",
    "    try:\n",
    "        age = int(input(\"Enter Your Age : \"))\n",
    "        print(f\"Your Age is {age}\")\n",
    "    except:\n",
    "        print(\"Pleas Enter Number Not STR\")\n",
    "    else:\n",
    "        break"
   ]
  },
  {
   "cell_type": "markdown",
   "metadata": {},
   "source": [
    "Expect Specific Error : "
   ]
  },
  {
   "cell_type": "code",
   "execution_count": 14,
   "metadata": {},
   "outputs": [
    {
     "name": "stdout",
     "output_type": "stream",
     "text": [
      "Your Age is 19\n",
      "Thanks\n"
     ]
    }
   ],
   "source": [
    "while True:\n",
    "    try:\n",
    "        age = int(input(\"Enter Your Age : \"))\n",
    "        10/age\n",
    "        print(f\"Your Age is {age}\")\n",
    "    except ZeroDivisionError:\n",
    "        print(\"Pleas Enter Valid Age.\")\n",
    "    except ValueError:\n",
    "        print(\"Pleas Enter Number Not STR\")\n",
    "    else:\n",
    "        print(\"Thanks\")\n",
    "        break"
   ]
  },
  {
   "cell_type": "markdown",
   "metadata": {},
   "source": [
    "> نکته : اگر ما دو اکسپت ارور خاصی رو دوتا ازش داشته باشیم ، اون اولی رو برای ما اجرا میکنه."
   ]
  },
  {
   "cell_type": "code",
   "execution_count": 19,
   "metadata": {},
   "outputs": [
    {
     "name": "stdout",
     "output_type": "stream",
     "text": [
      "Pleas Enter Int\n"
     ]
    }
   ],
   "source": [
    "def sum(num1, num2):\n",
    "    try:\n",
    "        return num1+num2   \n",
    "    except TypeError:\n",
    "        return \"Pleas Enter Int\"\n",
    "         \n",
    "\n",
    "print(sum(1, \"2\"))"
   ]
  },
  {
   "cell_type": "markdown",
   "metadata": {},
   "source": [
    "User Error in Error Handling : "
   ]
  },
  {
   "cell_type": "code",
   "execution_count": 21,
   "metadata": {},
   "outputs": [
    {
     "name": "stdout",
     "output_type": "stream",
     "text": [
      "Pleas Enter Int | unsupported operand type(s) for +: 'int' and 'str'\n"
     ]
    }
   ],
   "source": [
    "def sum(num1, num2):\n",
    "    try:\n",
    "        return num1 + num2\n",
    "    except TypeError as type_err:\n",
    "        return f\"Pleas Enter Int | {type_err}\"\n",
    "\n",
    "\n",
    "print(sum(1, \"2\"))"
   ]
  },
  {
   "cell_type": "markdown",
   "metadata": {},
   "source": [
    "finally keyword in error handling : \\\n",
    "کار این کلمه کلیدی اینه که هرچی شد این اجرا میشه. چه با ارور چه بدون ارور "
   ]
  },
  {
   "cell_type": "code",
   "execution_count": 23,
   "metadata": {},
   "outputs": [
    {
     "name": "stdout",
     "output_type": "stream",
     "text": [
      "Pleas Enter Valid Age.\n",
      "This is finally\n",
      "Pleas Enter Valid Age.\n",
      "This is finally\n",
      "Pleas Enter Valid Age.\n",
      "This is finally\n",
      "Your Age is 5\n",
      "Thanks\n",
      "This is finally\n"
     ]
    }
   ],
   "source": [
    "while True:\n",
    "    try:\n",
    "        age = int(input(\"Enter Your Age : \"))\n",
    "        10 / age\n",
    "        print(f\"Your Age is {age}\")\n",
    "    except ZeroDivisionError:\n",
    "        print(\"Pleas Enter Valid Age.\")\n",
    "    except ValueError:\n",
    "        print(\"Pleas Enter Number Not STR\")\n",
    "    else:\n",
    "        print(\"Thanks\")\n",
    "        break\n",
    "    finally:\n",
    "        print(\"This is finally\")"
   ]
  },
  {
   "cell_type": "markdown",
   "metadata": {},
   "source": [
    "raise keyword in error handling : این کلمه کلیدی خیلی به درد زمانی میخوره که میخوایم لایبری یا فریمورک یا ابزار خودمون رو بنویسیم. با استفاده از این کلمه کلیدی میتونیم یک ارور ایجاد بکنیم و در مورد اون ارور پیام به خصوصی رو ینویسیم"
   ]
  },
  {
   "cell_type": "code",
   "execution_count": 24,
   "metadata": {},
   "outputs": [
    {
     "name": "stdout",
     "output_type": "stream",
     "text": [
      "Your Age is 5\n",
      "This is finally\n"
     ]
    },
    {
     "ename": "ValueError",
     "evalue": "Pleas Enter Int my friend",
     "output_type": "error",
     "traceback": [
      "\u001b[1;31m---------------------------------------------------------------------------\u001b[0m",
      "\u001b[1;31mValueError\u001b[0m                                Traceback (most recent call last)",
      "Cell \u001b[1;32mIn[24], line 8\u001b[0m\n\u001b[0;32m      5\u001b[0m     \u001b[38;5;28mprint\u001b[39m(\u001b[38;5;124mf\u001b[39m\u001b[38;5;124m\"\u001b[39m\u001b[38;5;124mYour Age is \u001b[39m\u001b[38;5;132;01m{\u001b[39;00mage\u001b[38;5;132;01m}\u001b[39;00m\u001b[38;5;124m\"\u001b[39m)\n\u001b[0;32m      7\u001b[0m     \u001b[38;5;66;03m# create fake error\u001b[39;00m\n\u001b[1;32m----> 8\u001b[0m     \u001b[38;5;28;01mraise\u001b[39;00m \u001b[38;5;167;01mValueError\u001b[39;00m(\u001b[38;5;124m\"\u001b[39m\u001b[38;5;124mPleas Enter Int my friend\u001b[39m\u001b[38;5;124m\"\u001b[39m)\n\u001b[0;32m      9\u001b[0m \u001b[38;5;28;01mexcept\u001b[39;00m \u001b[38;5;167;01mZeroDivisionError\u001b[39;00m:\n\u001b[0;32m     10\u001b[0m     \u001b[38;5;28mprint\u001b[39m(\u001b[38;5;124m\"\u001b[39m\u001b[38;5;124mPleas Enter Valid Age.\u001b[39m\u001b[38;5;124m\"\u001b[39m)\n",
      "\u001b[1;31mValueError\u001b[0m: Pleas Enter Int my friend"
     ]
    }
   ],
   "source": [
    "while True:\n",
    "    try:\n",
    "        age = int(input(\"Enter Your Age : \"))\n",
    "        10 / age\n",
    "        print(f\"Your Age is {age}\")\n",
    "        \n",
    "        # create fake error\n",
    "        raise ValueError(\"Pleas Enter Int my friend\")\n",
    "    except ZeroDivisionError:\n",
    "        print(\"Pleas Enter Valid Age.\")\n",
    "    else:\n",
    "        print(\"Thanks\")\n",
    "        break\n",
    "    finally:\n",
    "        print(\"This is finally\")"
   ]
  }
 ],
 "metadata": {
  "kernelspec": {
   "display_name": "Python 3",
   "language": "python",
   "name": "python3"
  },
  "language_info": {
   "codemirror_mode": {
    "name": "ipython",
    "version": 3
   },
   "file_extension": ".py",
   "mimetype": "text/x-python",
   "name": "python",
   "nbconvert_exporter": "python",
   "pygments_lexer": "ipython3",
   "version": "3.11.5"
  }
 },
 "nbformat": 4,
 "nbformat_minor": 2
}
