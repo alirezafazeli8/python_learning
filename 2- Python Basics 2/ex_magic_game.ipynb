{
 "cells": [
  {
   "cell_type": "markdown",
   "metadata": {},
   "source": [
    "# Wizard Game"
   ]
  },
  {
   "cell_type": "code",
   "execution_count": 7,
   "metadata": {},
   "outputs": [
    {
     "name": "stdout",
     "output_type": "stream",
     "text": [
      "you need magic powers\n"
     ]
    }
   ],
   "source": [
    "is_magician = False\n",
    "is_expert = False\n",
    "\n",
    "if is_magician and is_expert:\n",
    "    print(\"you are a  master magician\")\n",
    "elif is_magician and not is_expert: \n",
    "    print(\"at least you are getting there.\")\n",
    "elif not is_magician:\n",
    "    print(\"you need magic powers\")\n"
   ]
  }
 ],
 "metadata": {
  "kernelspec": {
   "display_name": "Python 3",
   "language": "python",
   "name": "python3"
  },
  "language_info": {
   "codemirror_mode": {
    "name": "ipython",
    "version": 3
   },
   "file_extension": ".py",
   "mimetype": "text/x-python",
   "name": "python",
   "nbconvert_exporter": "python",
   "pygments_lexer": "ipython3",
   "version": "3.11.5"
  }
 },
 "nbformat": 4,
 "nbformat_minor": 2
}
