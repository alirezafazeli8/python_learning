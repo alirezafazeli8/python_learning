{
 "cells": [
  {
   "cell_type": "markdown",
   "metadata": {},
   "source": [
    "# Practice all things in Python Basics Two"
   ]
  },
  {
   "cell_type": "markdown",
   "metadata": {},
   "source": [
    "User Login To office project"
   ]
  },
  {
   "cell_type": "code",
   "execution_count": 39,
   "metadata": {},
   "outputs": [
    {
     "name": "stdout",
     "output_type": "stream",
     "text": [
      "Welcome To Office ❤️\n",
      "Try Again ! ❌\n",
      "Login Successful ✅\n",
      "m1- Hello alireza\n",
      "m2- Im Coming\n",
      "m3- im ali zare\n",
      "m4- where are you alireza ? \n"
     ]
    }
   ],
   "source": [
    "# login message\n",
    "print(\"Welcome To Office ❤️\")\n",
    "\n",
    "# fake database\n",
    "database = [\n",
    "    {\n",
    "       \"username\" : \"alireza\",\n",
    "       \"password\" : \"1234\",\n",
    "       \"msg\" : [\"Hello Ali\", \"Im Coming\", \"im alireza\", \"where are you sara ? \"] \n",
    "    },\n",
    "    {\n",
    "       \"username\" : \"sara\",\n",
    "       \"password\" : \"sara123\",\n",
    "       \"msg\" : [\"Hello sara\", \"Im on\", \"im sara\", \"where are you alireza ? \"] \n",
    "    },\n",
    "    {\n",
    "       \"username\" : \"javad\",\n",
    "       \"password\" : \"jj656\",\n",
    "       \"msg\" : [\"Hello amir\", \"Im Coming tazare\", \"im javad\", \"where are you amir ? \"] \n",
    "    },\n",
    "    {\n",
    "       \"username\" : \"alizare\",\n",
    "       \"password\" : \"alizare123\",\n",
    "       \"msg\" : [\"Hello alireza\", \"Im Coming\", \"im ali zare\", \"where are you alireza ? \"] \n",
    "    },\n",
    "]\n",
    "\n",
    "# check user function\n",
    "def check_user(username, password):\n",
    "\n",
    "\n",
    "    not_found = True\n",
    "\n",
    "    # search in database\n",
    "    for user in database:\n",
    "        # check username and password\n",
    "        if user[\"username\"] == username and user[\"password\"] == password:\n",
    "            \n",
    "            # bring not found to found\n",
    "            not_found = False\n",
    "            \n",
    "            return user[\"msg\"]\n",
    "    \n",
    "    # incorrect username and password message\n",
    "    if not_found:\n",
    "        return False\n",
    "\n",
    "while True:\n",
    "    # get username\n",
    "    user_name = input(\"Pleas Enter Your Username : \")\n",
    "\n",
    "    # get password\n",
    "    user_password = input(\"Pleas Enter Your Password\")\n",
    "\n",
    "    get_user_info = check_user(user_name, user_password)\n",
    "\n",
    "    if get_user_info:\n",
    "        print(\"Login Successful ✅\")\n",
    "        for time, msg in enumerate(get_user_info):\n",
    "            print(f\"m{time + 1}- {msg}\")\n",
    "        break\n",
    "    else:\n",
    "        print(\"Try Again ! ❌\")\n",
    "        continue"
   ]
  },
  {
   "cell_type": "markdown",
   "metadata": {},
   "source": [
    "practice : "
   ]
  },
  {
   "cell_type": "code",
   "execution_count": 43,
   "metadata": {},
   "outputs": [
    {
     "name": "stdout",
     "output_type": "stream",
     "text": [
      "You cant enter\n"
     ]
    }
   ],
   "source": [
    "age = 19\n",
    "gender = \"female\"\n",
    "\n",
    "can_do = \"You can Enter\" if age >= 19 and gender == \"male\" else \"You cant enter\"\n",
    "\n",
    "print(can_do)"
   ]
  },
  {
   "cell_type": "code",
   "execution_count": 45,
   "metadata": {},
   "outputs": [
    {
     "name": "stdout",
     "output_type": "stream",
     "text": [
      "False\n",
      "True\n"
     ]
    }
   ],
   "source": [
    "# print(ord(\"a\"))\n",
    "# print(ord(\"A\"))\n",
    "\n",
    "# print(not True)\n",
    "# print(not False)\n",
    "\n"
   ]
  },
  {
   "cell_type": "code",
   "execution_count": 52,
   "metadata": {},
   "outputs": [
    {
     "name": "stdout",
     "output_type": "stream",
     "text": [
      "True\n"
     ]
    }
   ],
   "source": [
    "num_one = [1, 2, 3]\n",
    "num_two = num_one\n",
    "\n",
    "print(num_one is num_two)"
   ]
  },
  {
   "cell_type": "code",
   "execution_count": 53,
   "metadata": {},
   "outputs": [
    {
     "name": "stdout",
     "output_type": "stream",
     "text": [
      "1856526927616\n",
      "1856526892800\n"
     ]
    }
   ],
   "source": [
    "a = [1, 2]\n",
    "b = [1, 2]\n",
    "\n",
    "print(id(a))\n",
    "print(id(b))"
   ]
  },
  {
   "cell_type": "code",
   "execution_count": 58,
   "metadata": {},
   "outputs": [
    {
     "name": "stdout",
     "output_type": "stream",
     "text": [
      "key : name | value : alireza\n",
      "key : last_name | value : fazeli\n",
      "key : age | value : 19\n"
     ]
    }
   ],
   "source": [
    "user_information = {\n",
    "    \"name\": \"alireza\",\n",
    "    \"last_name\" : \"fazeli\",\n",
    "    \"age\": \"19\"\n",
    "}\n",
    "\n",
    "\n",
    "for user in user_information.items():\n",
    "    print(f\"key : {user[0]} | value : {user[1]}\")"
   ]
  },
  {
   "cell_type": "code",
   "execution_count": 3,
   "metadata": {},
   "outputs": [
    {
     "name": "stdout",
     "output_type": "stream",
     "text": [
      "range(10, 0)\n"
     ]
    }
   ],
   "source": [
    "\n",
    "print(range(10, 0))"
   ]
  },
  {
   "cell_type": "code",
   "execution_count": 7,
   "metadata": {},
   "outputs": [
    {
     "name": "stdout",
     "output_type": "stream",
     "text": [
      "10\n",
      "9\n",
      "8\n",
      "7\n",
      "6\n",
      "5\n",
      "4\n",
      "3\n",
      "2\n",
      "1\n"
     ]
    }
   ],
   "source": [
    "# reverse range number creation\n",
    "for i in range(10, 0, -1):\n",
    "    print(i)"
   ]
  },
  {
   "cell_type": "code",
   "execution_count": 18,
   "metadata": {},
   "outputs": [
    {
     "name": "stdout",
     "output_type": "stream",
     "text": [
      "(0, 1)\n",
      "(1, 2)\n",
      "(2, 3)\n",
      "(3, 4)\n",
      "(4, 5)\n",
      "(5, 6)\n",
      "(6, 7)\n",
      "(7, 8)\n",
      "(8, 9)\n",
      "(9, 10)\n",
      "(10, 11)\n",
      "(11, 12)\n",
      "(12, 13)\n",
      "(13, 14)\n",
      "(14, 15)\n",
      "(15, 16)\n",
      "(16, 17)\n",
      "(17, 18)\n",
      "(18, 19)\n",
      "(19, 20)\n",
      "(20, 21)\n",
      "(21, 22)\n",
      "(22, 23)\n",
      "(23, 24)\n",
      "(24, 25)\n",
      "(25, 26)\n",
      "(26, 27)\n",
      "(27, 28)\n",
      "(28, 29)\n",
      "(29, 30)\n",
      "(30, 31)\n",
      "(31, 32)\n",
      "(32, 33)\n",
      "(33, 34)\n",
      "(34, 35)\n",
      "(35, 36)\n",
      "(36, 37)\n",
      "(37, 38)\n",
      "(38, 39)\n",
      "(39, 40)\n",
      "(40, 41)\n",
      "(41, 42)\n",
      "(42, 43)\n",
      "(43, 44)\n",
      "(44, 45)\n",
      "(45, 46)\n",
      "(46, 47)\n",
      "(47, 48)\n",
      "(48, 49)\n",
      "(49, 50)\n",
      "(50, 51)\n",
      "(51, 52)\n",
      "(52, 53)\n",
      "(53, 54)\n",
      "(54, 55)\n",
      "(55, 56)\n",
      "(56, 57)\n",
      "(57, 58)\n",
      "(58, 59)\n",
      "(59, 60)\n",
      "(60, 61)\n",
      "(61, 62)\n",
      "(62, 63)\n",
      "(63, 64)\n",
      "(64, 65)\n",
      "(65, 66)\n",
      "(66, 67)\n",
      "(67, 68)\n",
      "(68, 69)\n",
      "(69, 70)\n",
      "(70, 71)\n",
      "(71, 72)\n",
      "(72, 73)\n",
      "(73, 74)\n",
      "(74, 75)\n",
      "(75, 76)\n",
      "(76, 77)\n",
      "(77, 78)\n",
      "(78, 79)\n",
      "(79, 80)\n",
      "(80, 81)\n",
      "(81, 82)\n",
      "(82, 83)\n",
      "(83, 84)\n",
      "(84, 85)\n",
      "(85, 86)\n",
      "(86, 87)\n",
      "(87, 88)\n",
      "(88, 89)\n",
      "(89, 90)\n",
      "(90, 91)\n",
      "(91, 92)\n",
      "(92, 93)\n",
      "(93, 94)\n",
      "(94, 95)\n",
      "(95, 96)\n",
      "(96, 97)\n",
      "(97, 98)\n",
      "(98, 99)\n"
     ]
    }
   ],
   "source": [
    "# names = [\"alireza\", \"sara\", \"sassan\", \"javad\", \"ali\", \"mohammad\"]\n",
    "\n",
    "# # num = 1\n",
    "# for index, name in enumerate(names):\n",
    "#     print(index + 1, name)\n",
    "#     # num += 1\n",
    "\n",
    "for i,  in enumerate(list(range(1, 100))):\n",
    "    print(i)"
   ]
  },
  {
   "cell_type": "code",
   "execution_count": 3,
   "metadata": {},
   "outputs": [
    {
     "name": "stdout",
     "output_type": "stream",
     "text": [
      "Wrong !\n",
      "Wrong !\n",
      "Wrong !\n",
      "Wrong !\n",
      "Wrong !\n",
      "password correct \n"
     ]
    }
   ],
   "source": [
    "while True:\n",
    "    user_input = input(\"Enter : \")\n",
    "    \n",
    "    if user_input == '88':\n",
    "        print(\"password correct \")\n",
    "        break\n",
    "    else:\n",
    "        print(\"Wrong !\")\n",
    "        continue"
   ]
  },
  {
   "cell_type": "code",
   "execution_count": 57,
   "metadata": {},
   "outputs": [
    {
     "name": "stdout",
     "output_type": "stream",
     "text": [
      "..........\n",
      "..........\n",
      "       ...\n",
      "      ..  \n",
      "     ..   \n",
      "   ...    \n",
      ".....     \n",
      "...       \n",
      "..........\n",
      "..........\n"
     ]
    }
   ],
   "source": [
    "picture_pixel = [\n",
    "    [1, 1, 1, 1, 1, 1, 1, 1, 1, 1],\n",
    "    [1, 1, 1, 1, 1, 1, 1, 1, 1, 1],\n",
    "    [0, 0, 0, 0, 0, 0, 0, 1, 1, 1],\n",
    "    [0, 0, 0, 0, 0, 0, 1, 1, 0, 0],\n",
    "    [0, 0, 0, 0, 0, 1, 1, 0, 0, 0],\n",
    "    [0, 0, 0, 1, 1, 1, 0, 0, 0, 0],\n",
    "    [1, 1,1, 1, 1, 0, 0, 0, 0, 0],\n",
    "    [1, 1,1, 0, 0, 0, 0, 0, 0, 0],\n",
    "    [1, 1, 1, 1, 1, 1, 1, 1, 1, 1],\n",
    "    [1, 1, 1, 1, 1, 1, 1, 1, 1, 1]\n",
    "]\n",
    "\n",
    "for line_h in picture_pixel:\n",
    "    for line_v in line_h:\n",
    "        if line_v == 1:\n",
    "            print(\".\", end=\"\")\n",
    "        elif line_v == 0:\n",
    "            print(\"\", end=\" \")\n",
    "    print(\"\")"
   ]
  },
  {
   "cell_type": "code",
   "execution_count": 62,
   "metadata": {},
   "outputs": [
    {
     "name": "stdout",
     "output_type": "stream",
     "text": [
      "['a', 'd', 'e']\n"
     ]
    }
   ],
   "source": [
    "alphabet  = [\"a\", \"b\", \"a\", \"c\", \"d\", \"d\", \"e\", \"e\"]\n",
    "duplicate = []\n",
    "\n",
    "for alpha in alphabet:\n",
    "    if alphabet.count(alpha) >= 2:\n",
    "        if not(duplicate.count(alpha)):\n",
    "            duplicate.append(alpha)\n",
    "\n",
    "            \n",
    "\n",
    "print(duplicate)"
   ]
  },
  {
   "cell_type": "code",
   "execution_count": 65,
   "metadata": {},
   "outputs": [
    {
     "name": "stdout",
     "output_type": "stream",
     "text": [
      "hello sara. you are 19 years old.\n"
     ]
    }
   ],
   "source": [
    "def greet(name, age):\n",
    "    print(f'hello {name}. you are {age} years old.')\n",
    "    \n",
    "# positional argument\n",
    "# greet(\"alireza\", 19)\n",
    "\n",
    "\n",
    "# keyword argument\n",
    "greet(age=19, name=\"sara\")"
   ]
  },
  {
   "cell_type": "markdown",
   "metadata": {},
   "source": [
    "docstring"
   ]
  },
  {
   "cell_type": "code",
   "execution_count": 71,
   "metadata": {},
   "outputs": [
    {
     "name": "stdout",
     "output_type": "stream",
     "text": [
      "\n",
      "        hi\n",
      "        this is greet function we are use.\n",
      "        \n",
      "        --alireza fazeli--  \n",
      "    \n",
      "Prints the values to a stream, or to sys.stdout by default.\n",
      "\n",
      "  sep\n",
      "    string inserted between values, default a space.\n",
      "  end\n",
      "    string appended after the last value, default a newline.\n",
      "  file\n",
      "    a file-like object (stream); defaults to the current sys.stdout.\n",
      "  flush\n",
      "    whether to forcibly flush the stream.\n"
     ]
    }
   ],
   "source": [
    "def greet(name, age):\n",
    "    \"\"\"\n",
    "        hi\n",
    "        this is greet function we are use.\n",
    "        \n",
    "        --alireza fazeli--  \n",
    "    \"\"\"\n",
    "    \n",
    "    print(f\"hello {name}. you are {age} years old.\")\n",
    "    \n",
    "# print(help(print))\n",
    "print(greet.__doc__)\n",
    "print(print.__doc__)"
   ]
  },
  {
   "cell_type": "code",
   "execution_count": 81,
   "metadata": {},
   "outputs": [
    {
     "name": "stdout",
     "output_type": "stream",
     "text": [
      "alireza fazeli\n",
      "(1, 2, 3, 4)\n",
      "33\n",
      "{'firstname': 'alireza', 'age': 19}\n"
     ]
    }
   ],
   "source": [
    "def super_func(name, lastname, *args, phone=98, **kwargs):\n",
    "    print(name, lastname)\n",
    "    print(args)\n",
    "    print(phone)\n",
    "    print(kwargs)\n",
    "    \n",
    "super_func(\"alireza\", \"fazeli\", 1, 2, 3, 4, phone=33, firstname=\"alireza\", age=19)\n",
    "    \n",
    "    "
   ]
  },
  {
   "cell_type": "code",
   "execution_count": 83,
   "metadata": {},
   "outputs": [
    {
     "name": "stdout",
     "output_type": "stream",
     "text": [
      "its to long . you word is 22\n"
     ]
    }
   ],
   "source": [
    "n = \"dasdsadasdsdadasdasdda\"\n",
    "\n",
    "if len(n) >= 10:\n",
    "    print(f\"its to long . you word is {len(n)}\")"
   ]
  },
  {
   "cell_type": "code",
   "execution_count": 92,
   "metadata": {},
   "outputs": [
    {
     "name": "stdout",
     "output_type": "stream",
     "text": [
      "11\n"
     ]
    }
   ],
   "source": [
    "total = 10\n",
    "\n",
    "\n",
    "# if total == 10:\n",
    "#     total += 1\n",
    "#     print(total)\n",
    "\n",
    "# def counter():\n",
    "#     global total\n",
    "#     total += 1\n",
    "#     return total\n",
    "\n",
    "# print(counter())\n",
    "\n",
    "#  dependency injection\n",
    "# def counter(total):\n",
    "#     total += 1\n",
    "#     return total\n",
    "\n",
    "# print(counter(total))\n",
    "\n",
    "\n",
    "def counter():\n",
    "    a = 10\n",
    "    \n",
    "    def counter_two():\n",
    "        nonlocal a\n",
    "        a += 1\n",
    "    \n",
    "    counter_two()\n",
    "    return a\n",
    "\n",
    "\n",
    "print(counter())"
   ]
  },
  {
   "cell_type": "code",
   "execution_count": 94,
   "metadata": {},
   "outputs": [
    {
     "name": "stdout",
     "output_type": "stream",
     "text": [
      "a\n"
     ]
    }
   ],
   "source": [
    "name  = \"    a    \"\n",
    "name = name.strip()\n",
    "\n",
    "print(name)"
   ]
  }
 ],
 "metadata": {
  "kernelspec": {
   "display_name": "Python 3",
   "language": "python",
   "name": "python3"
  },
  "language_info": {
   "codemirror_mode": {
    "name": "ipython",
    "version": 3
   },
   "file_extension": ".py",
   "mimetype": "text/x-python",
   "name": "python",
   "nbconvert_exporter": "python",
   "pygments_lexer": "ipython3",
   "version": "3.11.5"
  }
 },
 "nbformat": 4,
 "nbformat_minor": 2
}
