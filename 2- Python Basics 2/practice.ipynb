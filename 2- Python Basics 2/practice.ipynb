{
 "cells": [
  {
   "cell_type": "markdown",
   "metadata": {},
   "source": [
    "# Practice all things in Python Basics Two"
   ]
  },
  {
   "cell_type": "markdown",
   "metadata": {},
   "source": [
    "User Login To office project"
   ]
  },
  {
   "cell_type": "code",
   "execution_count": 39,
   "metadata": {},
   "outputs": [
    {
     "name": "stdout",
     "output_type": "stream",
     "text": [
      "Welcome To Office ❤️\n",
      "Try Again ! ❌\n",
      "Login Successful ✅\n",
      "m1- Hello alireza\n",
      "m2- Im Coming\n",
      "m3- im ali zare\n",
      "m4- where are you alireza ? \n"
     ]
    }
   ],
   "source": [
    "# login message\n",
    "print(\"Welcome To Office ❤️\")\n",
    "\n",
    "# fake database\n",
    "database = [\n",
    "    {\n",
    "       \"username\" : \"alireza\",\n",
    "       \"password\" : \"1234\",\n",
    "       \"msg\" : [\"Hello Ali\", \"Im Coming\", \"im alireza\", \"where are you sara ? \"] \n",
    "    },\n",
    "    {\n",
    "       \"username\" : \"sara\",\n",
    "       \"password\" : \"sara123\",\n",
    "       \"msg\" : [\"Hello sara\", \"Im on\", \"im sara\", \"where are you alireza ? \"] \n",
    "    },\n",
    "    {\n",
    "       \"username\" : \"javad\",\n",
    "       \"password\" : \"jj656\",\n",
    "       \"msg\" : [\"Hello amir\", \"Im Coming tazare\", \"im javad\", \"where are you amir ? \"] \n",
    "    },\n",
    "    {\n",
    "       \"username\" : \"alizare\",\n",
    "       \"password\" : \"alizare123\",\n",
    "       \"msg\" : [\"Hello alireza\", \"Im Coming\", \"im ali zare\", \"where are you alireza ? \"] \n",
    "    },\n",
    "]\n",
    "\n",
    "# check user function\n",
    "def check_user(username, password):\n",
    "\n",
    "\n",
    "    not_found = True\n",
    "\n",
    "    # search in database\n",
    "    for user in database:\n",
    "        # check username and password\n",
    "        if user[\"username\"] == username and user[\"password\"] == password:\n",
    "            \n",
    "            # bring not found to found\n",
    "            not_found = False\n",
    "            \n",
    "            return user[\"msg\"]\n",
    "    \n",
    "    # incorrect username and password message\n",
    "    if not_found:\n",
    "        return False\n",
    "\n",
    "while True:\n",
    "    # get username\n",
    "    user_name = input(\"Pleas Enter Your Username : \")\n",
    "\n",
    "    # get password\n",
    "    user_password = input(\"Pleas Enter Your Password\")\n",
    "\n",
    "    get_user_info = check_user(user_name, user_password)\n",
    "\n",
    "    if get_user_info:\n",
    "        print(\"Login Successful ✅\")\n",
    "        for time, msg in enumerate(get_user_info):\n",
    "            print(f\"m{time + 1}- {msg}\")\n",
    "        break\n",
    "    else:\n",
    "        print(\"Try Again ! ❌\")\n",
    "        continue"
   ]
  },
  {
   "cell_type": "markdown",
   "metadata": {},
   "source": [
    "practice : "
   ]
  },
  {
   "cell_type": "code",
   "execution_count": 43,
   "metadata": {},
   "outputs": [
    {
     "name": "stdout",
     "output_type": "stream",
     "text": [
      "You cant enter\n"
     ]
    }
   ],
   "source": [
    "age = 19\n",
    "gender = \"female\"\n",
    "\n",
    "can_do = \"You can Enter\" if age >= 19 and gender == \"male\" else \"You cant enter\"\n",
    "\n",
    "print(can_do)"
   ]
  },
  {
   "cell_type": "code",
   "execution_count": 45,
   "metadata": {},
   "outputs": [
    {
     "name": "stdout",
     "output_type": "stream",
     "text": [
      "False\n",
      "True\n"
     ]
    }
   ],
   "source": [
    "# print(ord(\"a\"))\n",
    "# print(ord(\"A\"))\n",
    "\n",
    "# print(not True)\n",
    "# print(not False)\n",
    "\n"
   ]
  },
  {
   "cell_type": "code",
   "execution_count": 52,
   "metadata": {},
   "outputs": [
    {
     "name": "stdout",
     "output_type": "stream",
     "text": [
      "True\n"
     ]
    }
   ],
   "source": [
    "num_one = [1, 2, 3]\n",
    "num_two = num_one\n",
    "\n",
    "print(num_one is num_two)"
   ]
  },
  {
   "cell_type": "code",
   "execution_count": 53,
   "metadata": {},
   "outputs": [
    {
     "name": "stdout",
     "output_type": "stream",
     "text": [
      "1856526927616\n",
      "1856526892800\n"
     ]
    }
   ],
   "source": [
    "a = [1, 2]\n",
    "b = [1, 2]\n",
    "\n",
    "print(id(a))\n",
    "print(id(b))"
   ]
  },
  {
   "cell_type": "code",
   "execution_count": 58,
   "metadata": {},
   "outputs": [
    {
     "name": "stdout",
     "output_type": "stream",
     "text": [
      "key : name | value : alireza\n",
      "key : last_name | value : fazeli\n",
      "key : age | value : 19\n"
     ]
    }
   ],
   "source": [
    "user_information = {\n",
    "    \"name\": \"alireza\",\n",
    "    \"last_name\" : \"fazeli\",\n",
    "    \"age\": \"19\"\n",
    "}\n",
    "\n",
    "\n",
    "for user in user_information.items():\n",
    "    print(f\"key : {user[0]} | value : {user[1]}\")"
   ]
  },
  {
   "cell_type": "code",
   "execution_count": 59,
   "metadata": {},
   "outputs": [
    {
     "name": "stdout",
     "output_type": "stream",
     "text": [
      "range(0, 100)\n"
     ]
    }
   ],
   "source": [
    "for \n",
    "\n",
    "print(range(0, 100))"
   ]
  }
 ],
 "metadata": {
  "kernelspec": {
   "display_name": "Python 3",
   "language": "python",
   "name": "python3"
  },
  "language_info": {
   "codemirror_mode": {
    "name": "ipython",
    "version": 3
   },
   "file_extension": ".py",
   "mimetype": "text/x-python",
   "name": "python",
   "nbconvert_exporter": "python",
   "pygments_lexer": "ipython3",
   "version": "3.11.5"
  }
 },
 "nbformat": 4,
 "nbformat_minor": 2
}
