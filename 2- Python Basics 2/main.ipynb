{
 "cells": [
  {
   "cell_type": "markdown",
   "metadata": {},
   "source": [
    "# Welcome to python basics part two\n",
    "\n",
    "![](../image/flow.png)"
   ]
  },
  {
   "cell_type": "markdown",
   "metadata": {},
   "source": [
    "# Conditional Logic\n",
    "\n",
    "conditional logic refers to executing different actions in a program or process based on whether certain conditions are met. It's like the brain's decision-making process: if 'this' happens, do 'that. ' Programming languages represent conditional logic with 'if,' 'else,' and 'switch' statements.\n",
    "\n"
   ]
  },
  {
   "cell_type": "markdown",
   "metadata": {},
   "source": [
    "### If statement\n",
    "\n",
    "- if\n",
    "- else\n",
    "- elif\n",
    "- and"
   ]
  },
  {
   "cell_type": "code",
   "execution_count": null,
   "metadata": {
    "is_executing": true
   },
   "outputs": [],
   "source": [
    "# is_old = False\n",
    "# is_licensed = False\n",
    "\n",
    "# if is_old:\n",
    "#     print(\"You are old. 🔴\")\n",
    "# elif is_licensed:\n",
    "#     print(\"You have license 🚓.\")\n",
    "# else:\n",
    "#     print(\"You are not old. 🟩\")\n",
    "    \n",
    "# print(\"System Check\")\n",
    "\n",
    "user_age = 18\n",
    "user_licensed = False\n",
    "\n",
    "# if user_age >= 18:\n",
    "#     print(\"You can drive a car 🚓.\")\n",
    "# elif user_age < 18:\n",
    "#     print(\"Go back to home 🔴\")\n",
    "# else: \n",
    "#     print(\"System Error, Try Again 🔴🔴\")\n",
    "\n",
    "if user_age >= 18 and user_licensed:\n",
    "    print(\"You can drive 🚓\")\n",
    "else:\n",
    "    print(\"go back to home \")\n"
   ]
  },
  {
   "cell_type": "markdown",
   "metadata": {},
   "source": [
    "## Indentation in Python\n",
    "فاصله گذاری ها در زبان پایتون یک معنای خاصی برای مفسر پایتون دارن. فاصله گذاری ها نحوه استفاده از این زبانه. به عنوان مثال ما بعد شرط میایم فاصله میزاریم این برای پایتون این معنی رو داره که این دستور برای شرط نوشته شده."
   ]
  },
  {
   "cell_type": "markdown",
   "metadata": {},
   "source": [
    "# Truthy vs. Falsey\n",
    "وقتی در شرط ها ما از متغیر ها استفاده میکنم در درون اون شرط به عنوان مثال  و while , if , میاد اونو به boolean تبدیل میکنه\n",
    "جالا در این تبدیل ها ، یکسری چیزا در زبان پایتون بعد از تبدیل True هستند\n",
    "و یکسری چیز ها بعد تبدیل False هستند"
   ]
  },
  {
   "cell_type": "markdown",
   "metadata": {},
   "source": [
    "اگر ما، مقادیر زیر رو به بولین تبدیل کنیم میبینیم که این مقادیر تبدیل به True میشن\n",
    "ما به این مقادیر Truthy میگیم.\n",
    "هر نوع مقادیری که در درون اون پر باشن از ایتمی اونا بعداز تبدیل truthy میشن."
   ]
  },
  {
   "cell_type": "code",
   "execution_count": 3,
   "metadata": {},
   "outputs": [
    {
     "name": "stdout",
     "output_type": "stream",
     "text": [
      "True\n",
      "True\n",
      "True\n",
      "True\n",
      "False\n",
      "False\n"
     ]
    }
   ],
   "source": [
    "name = \"alireza\"\n",
    "age = 19\n",
    "arr = [\"ali\", \"sara\"]\n",
    "obj = {\"name\" : \"alireza\"}\n",
    "\n",
    "print(bool(name))\n",
    "print(bool(age))\n",
    "print(bool(arr))\n",
    "print(bool(obj))"
   ]
  },
  {
   "cell_type": "markdown",
   "metadata": {},
   "source": [
    "هرچیزی که خالی باشه ، مثل استرینگ خالی ، دیشکنری خالیف لیست خالی ، ست خالی ....\n",
    "اینا falsey هستند.\n",
    "و عدد 0 هم جزو فالسی ها هستش.\n",
    "None فالسی است."
   ]
  },
  {
   "cell_type": "code",
   "execution_count": 6,
   "metadata": {},
   "outputs": [
    {
     "name": "stdout",
     "output_type": "stream",
     "text": [
      "False\n",
      "False\n",
      "False\n",
      "False\n",
      "False\n",
      "False\n"
     ]
    }
   ],
   "source": [
    "print(bool(0))\n",
    "print(bool([]))\n",
    "print(bool({}))\n",
    "print(bool(()))\n",
    "print(bool(\"\"))\n",
    "print(bool(None))"
   ]
  },
  {
   "cell_type": "code",
   "execution_count": 8,
   "metadata": {},
   "outputs": [
    {
     "name": "stdout",
     "output_type": "stream",
     "text": [
      "Pleas complete the fill (X)\n"
     ]
    }
   ],
   "source": [
    "username = \"\"\n",
    "password = 12345\n",
    "\n",
    "if username and password:\n",
    "    print(\"You can continue -> \")\n",
    "else:\n",
    "    print(\"Pleas complete the fill (X)\")"
   ]
  },
  {
   "cell_type": "markdown",
   "metadata": {},
   "source": [
    "## Ternary Operator or Conditional Expression\n",
    "we can write conditional or if statement code in one line.\n",
    "با این روش میتونیم در یک خط شرط بنویسیم"
   ]
  },
  {
   "cell_type": "code",
   "execution_count": 15,
   "metadata": {},
   "outputs": [
    {
     "name": "stdout",
     "output_type": "stream",
     "text": [
      "You cant send Message, He is Married 💍\n"
     ]
    }
   ],
   "source": [
    "is_married = True\n",
    "\n",
    "# print(\"Hes is Married\") if is_married else print(\"He is not married\")\n",
    "is_married_msg = \"You cant send Message, He is Married 💍\" if is_married else \"Yay He is single. let message to him 💬\"\n",
    "print(is_married_msg)\n",
    "\n",
    "\n"
   ]
  },
  {
   "cell_type": "markdown",
   "metadata": {},
   "source": [
    "## Short Circuiting "
   ]
  },
  {
   "cell_type": "code",
   "execution_count": 23,
   "metadata": {},
   "outputs": [
    {
     "name": "stdout",
     "output_type": "stream",
     "text": [
      "True\n",
      "False\n",
      "False\n",
      "True\n",
      "True\n",
      "False\n"
     ]
    }
   ],
   "source": [
    "print(True and True) # True\n",
    "print(True and False) # False\n",
    "print(False and False) # False\n",
    "print(True or True) # True\n",
    "print(True or False) # True\n",
    "print(False or False) # False\n",
    "\n",
    "\n"
   ]
  },
  {
   "cell_type": "markdown",
   "metadata": {},
   "source": [
    "# Logical Operator\n",
    "\n",
    "allows us to perform logic\n",
    "\n",
    "- and\n",
    "- or\n",
    "- \\>\n",
    "- =>\n",
    "- <=\n",
    "- \\<\n",
    "- ==\n",
    "- !="
   ]
  },
  {
   "cell_type": "code",
   "execution_count": 6,
   "metadata": {},
   "outputs": [
    {
     "name": "stdout",
     "output_type": "stream",
     "text": [
      "False\n",
      "True\n",
      "True\n",
      "True\n",
      "97\n",
      "65\n"
     ]
    }
   ],
   "source": [
    "number_one = 3\n",
    "number_two = 3\n",
    "number_three = 6\n",
    "\n",
    "print(number_two > number_three)\n",
    "print(number_two < number_three)\n",
    "print(number_two == number_one)\n",
    "print(number_two >= number_one)\n",
    "\n",
    "print(ord(\"a\"))\n",
    "print(ord(\"A\"))"
   ]
  },
  {
   "cell_type": "code",
   "execution_count": 11,
   "metadata": {},
   "outputs": [
    {
     "name": "stdout",
     "output_type": "stream",
     "text": [
      "97\n"
     ]
    }
   ],
   "source": [
    "print(ord('a'))"
   ]
  },
  {
   "cell_type": "code",
   "execution_count": 10,
   "metadata": {},
   "outputs": [
    {
     "name": "stdout",
     "output_type": "stream",
     "text": [
      "65\n"
     ]
    }
   ],
   "source": [
    "print(ord('A'))"
   ]
  },
  {
   "cell_type": "code",
   "execution_count": 3,
   "metadata": {},
   "outputs": [
    {
     "name": "stdout",
     "output_type": "stream",
     "text": [
      "False\n",
      "True\n"
     ]
    }
   ],
   "source": [
    "print(0 != 0)\n",
    "print(0 == 0)"
   ]
  },
  {
   "cell_type": "markdown",
   "metadata": {},
   "source": [
    "# not , keyword\n",
    "In its simplest form, the ‘not’ keyword in Python is used to reverse the truth value of the operand it precedes. If the operand is True, ‘not’ will return False, and if the operand is False, ‘not’ will return True. This is a fundamental aspect of Python’s logical operations.\n",
    "این کلمه کلیدی کارش اینه که هرچی بولین ما بودش رو برعکس میکنه\n",
    "یعنی اگه True بود\\\n",
    "میکنه false\\\n",
    "اگه false بود\\\n",
    "میکنه True"
   ]
  },
  {
   "cell_type": "code",
   "execution_count": 11,
   "metadata": {},
   "outputs": [
    {
     "name": "stdout",
     "output_type": "stream",
     "text": [
      "False\n",
      "True\n",
      "True\n",
      "False\n",
      "True\n"
     ]
    }
   ],
   "source": [
    "print(not True)\n",
    "print(not False)\n",
    "print(not 0)\n",
    "print(not \"a\")\n",
    "print(not None)"
   ]
  },
  {
   "cell_type": "markdown",
   "metadata": {},
   "source": [
    "## not()\n",
    "این تابع کارش اینه که هرچی بولین ما بودش رو برعکس میکنه\n",
    "یعنی اگه True بود\\\n",
    "میکنه false\\\n",
    "اگه false بود\\\n",
    "میکنه True"
   ]
  },
  {
   "cell_type": "code",
   "execution_count": 8,
   "metadata": {},
   "outputs": [
    {
     "name": "stdout",
     "output_type": "stream",
     "text": [
      "False\n",
      "False\n",
      "True\n"
     ]
    }
   ],
   "source": [
    "married = True\n",
    "married =  not(married)\n",
    "\n",
    "print(married)\n",
    "\n",
    "print(not(\"a\"))\n",
    "print(not(0))"
   ]
  }
 ],
 "metadata": {
  "kernelspec": {
   "display_name": "Python 3",
   "language": "python",
   "name": "python3"
  },
  "language_info": {
   "codemirror_mode": {
    "name": "ipython",
    "version": 3
   },
   "file_extension": ".py",
   "mimetype": "text/x-python",
   "name": "python",
   "nbconvert_exporter": "python",
   "pygments_lexer": "ipython3",
   "version": "3.11.5"
  }
 },
 "nbformat": 4,
 "nbformat_minor": 2
}
