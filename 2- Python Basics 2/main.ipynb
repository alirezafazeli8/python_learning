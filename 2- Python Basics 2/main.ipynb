{
 "cells": [
  {
   "cell_type": "markdown",
   "metadata": {},
   "source": [
    "# Welcome to python basics part two\n",
    "\n",
    "![](../image/flow.png)"
   ]
  },
  {
   "cell_type": "markdown",
   "metadata": {},
   "source": [
    "# Conditional Logic\n",
    "\n",
    "conditional logic refers to executing different actions in a program or process based on whether certain conditions are met. It's like the brain's decision-making process: if 'this' happens, do 'that. ' Programming languages represent conditional logic with 'if,' 'else,' and 'switch' statements.\n",
    "\n"
   ]
  },
  {
   "cell_type": "markdown",
   "metadata": {},
   "source": [
    "### If statement\n",
    "\n",
    "- if\n",
    "- else\n",
    "- elif\n",
    "- and"
   ]
  },
  {
   "cell_type": "code",
   "execution_count": null,
   "metadata": {
    "is_executing": true
   },
   "outputs": [],
   "source": [
    "# is_old = False\n",
    "# is_licensed = False\n",
    "\n",
    "# if is_old:\n",
    "#     print(\"You are old. 🔴\")\n",
    "# elif is_licensed:\n",
    "#     print(\"You have license 🚓.\")\n",
    "# else:\n",
    "#     print(\"You are not old. 🟩\")\n",
    "    \n",
    "# print(\"System Check\")\n",
    "\n",
    "user_age = 18\n",
    "user_licensed = False\n",
    "\n",
    "# if user_age >= 18:\n",
    "#     print(\"You can drive a car 🚓.\")\n",
    "# elif user_age < 18:\n",
    "#     print(\"Go back to home 🔴\")\n",
    "# else: \n",
    "#     print(\"System Error, Try Again 🔴🔴\")\n",
    "\n",
    "if user_age >= 18 and user_licensed:\n",
    "    print(\"You can drive 🚓\")\n",
    "else:\n",
    "    print(\"go back to home \")\n"
   ]
  },
  {
   "cell_type": "markdown",
   "metadata": {},
   "source": [
    "## Indentation in Python\n",
    "فاصله گذاری ها در زبان پایتون یک معنای خاصی برای مفسر پایتون دارن. فاصله گذاری ها نحوه استفاده از این زبانه. به عنوان مثال ما بعد شرط میایم فاصله میزاریم این برای پایتون این معنی رو داره که این دستور برای شرط نوشته شده."
   ]
  },
  {
   "cell_type": "markdown",
   "metadata": {},
   "source": [
    "# Truthy vs. Falsey\n",
    "وقتی در شرط ها ما از متغیر ها استفاده میکنم در درون اون شرط به عنوان مثال  و while , if , میاد اونو به boolean تبدیل میکنه\n",
    "جالا در این تبدیل ها ، یکسری چیزا در زبان پایتون بعد از تبدیل True هستند\n",
    "و یکسری چیز ها بعد تبدیل False هستند"
   ]
  },
  {
   "cell_type": "markdown",
   "metadata": {},
   "source": [
    "اگر ما، مقادیر زیر رو به بولین تبدیل کنیم میبینیم که این مقادیر تبدیل به True میشن\n",
    "ما به این مقادیر Truthy میگیم.\n",
    "هر نوع مقادیری که در درون اون پر باشن از ایتمی اونا بعداز تبدیل truthy میشن."
   ]
  },
  {
   "cell_type": "code",
   "execution_count": 3,
   "metadata": {},
   "outputs": [
    {
     "name": "stdout",
     "output_type": "stream",
     "text": [
      "True\n",
      "True\n",
      "True\n",
      "True\n",
      "False\n",
      "False\n"
     ]
    }
   ],
   "source": [
    "name = \"alireza\"\n",
    "age = 19\n",
    "arr = [\"ali\", \"sara\"]\n",
    "obj = {\"name\" : \"alireza\"}\n",
    "\n",
    "print(bool(name))\n",
    "print(bool(age))\n",
    "print(bool(arr))\n",
    "print(bool(obj))"
   ]
  },
  {
   "cell_type": "markdown",
   "metadata": {},
   "source": [
    "هرچیزی که خالی باشه ، مثل استرینگ خالی ، دیشکنری خالیف لیست خالی ، ست خالی ....\n",
    "اینا falsey هستند.\n",
    "و عدد 0 هم جزو فالسی ها هستش.\n",
    "None فالسی است."
   ]
  },
  {
   "cell_type": "code",
   "execution_count": 6,
   "metadata": {},
   "outputs": [
    {
     "name": "stdout",
     "output_type": "stream",
     "text": [
      "False\n",
      "False\n",
      "False\n",
      "False\n",
      "False\n",
      "False\n"
     ]
    }
   ],
   "source": [
    "print(bool(0))\n",
    "print(bool([]))\n",
    "print(bool({}))\n",
    "print(bool(()))\n",
    "print(bool(\"\"))\n",
    "print(bool(None))"
   ]
  },
  {
   "cell_type": "code",
   "execution_count": 8,
   "metadata": {},
   "outputs": [
    {
     "name": "stdout",
     "output_type": "stream",
     "text": [
      "Pleas complete the fill (X)\n"
     ]
    }
   ],
   "source": [
    "username = \"\"\n",
    "password = 12345\n",
    "\n",
    "if username and password:\n",
    "    print(\"You can continue -> \")\n",
    "else:\n",
    "    print(\"Pleas complete the fill (X)\")"
   ]
  },
  {
   "cell_type": "markdown",
   "metadata": {},
   "source": [
    "## Ternary Operator or Conditional Expression\n",
    "we can write conditional or if statement code in one line.\n",
    "با این روش میتونیم در یک خط شرط بنویسیم"
   ]
  },
  {
   "cell_type": "code",
   "execution_count": 15,
   "metadata": {},
   "outputs": [
    {
     "name": "stdout",
     "output_type": "stream",
     "text": [
      "You cant send Message, He is Married 💍\n"
     ]
    }
   ],
   "source": [
    "is_married = True\n",
    "\n",
    "# print(\"Hes is Married\") if is_married else print(\"He is not married\")\n",
    "is_married_msg = \"You cant send Message, He is Married 💍\" if is_married else \"Yay He is single. let message to him 💬\"\n",
    "print(is_married_msg)\n",
    "\n",
    "\n"
   ]
  },
  {
   "cell_type": "markdown",
   "metadata": {},
   "source": [
    "## Short Circuiting "
   ]
  },
  {
   "cell_type": "code",
   "execution_count": 23,
   "metadata": {},
   "outputs": [
    {
     "name": "stdout",
     "output_type": "stream",
     "text": [
      "True\n",
      "False\n",
      "False\n",
      "True\n",
      "True\n",
      "False\n"
     ]
    }
   ],
   "source": [
    "print(True and True) # True\n",
    "print(True and False) # False\n",
    "print(False and False) # False\n",
    "print(True or True) # True\n",
    "print(True or False) # True\n",
    "print(False or False) # False\n",
    "\n",
    "\n"
   ]
  },
  {
   "cell_type": "markdown",
   "metadata": {},
   "source": [
    "# Logical Operator\n",
    "\n",
    "allows us to perform logic\n",
    "\n",
    "- and\n",
    "- or\n",
    "- \\>\n",
    "- =>\n",
    "- <=\n",
    "- \\<\n",
    "- ==\n",
    "- !="
   ]
  },
  {
   "cell_type": "code",
   "execution_count": 6,
   "metadata": {},
   "outputs": [
    {
     "name": "stdout",
     "output_type": "stream",
     "text": [
      "False\n",
      "True\n",
      "True\n",
      "True\n",
      "97\n",
      "65\n"
     ]
    }
   ],
   "source": [
    "number_one = 3\n",
    "number_two = 3\n",
    "number_three = 6\n",
    "\n",
    "print(number_two > number_three)\n",
    "print(number_two < number_three)\n",
    "print(number_two == number_one)\n",
    "print(number_two >= number_one)\n",
    "\n",
    "print(ord(\"a\"))\n",
    "print(ord(\"A\"))"
   ]
  },
  {
   "cell_type": "code",
   "execution_count": 11,
   "metadata": {},
   "outputs": [
    {
     "name": "stdout",
     "output_type": "stream",
     "text": [
      "97\n"
     ]
    }
   ],
   "source": [
    "print(ord('a'))"
   ]
  },
  {
   "cell_type": "code",
   "execution_count": 10,
   "metadata": {},
   "outputs": [
    {
     "name": "stdout",
     "output_type": "stream",
     "text": [
      "65\n"
     ]
    }
   ],
   "source": [
    "print(ord('A'))"
   ]
  },
  {
   "cell_type": "code",
   "execution_count": 3,
   "metadata": {},
   "outputs": [
    {
     "name": "stdout",
     "output_type": "stream",
     "text": [
      "False\n",
      "True\n"
     ]
    }
   ],
   "source": [
    "print(0 != 0)\n",
    "print(0 == 0)"
   ]
  },
  {
   "cell_type": "markdown",
   "metadata": {},
   "source": [
    "# not , keyword\n",
    "In its simplest form, the ‘not’ keyword in Python is used to reverse the truth value of the operand it precedes. If the operand is True, ‘not’ will return False, and if the operand is False, ‘not’ will return True. This is a fundamental aspect of Python’s logical operations.\n",
    "این کلمه کلیدی کارش اینه که هرچی بولین ما بودش رو برعکس میکنه\n",
    "یعنی اگه True بود\\\n",
    "میکنه false\\\n",
    "اگه false بود\\\n",
    "میکنه True"
   ]
  },
  {
   "cell_type": "code",
   "execution_count": 11,
   "metadata": {},
   "outputs": [
    {
     "name": "stdout",
     "output_type": "stream",
     "text": [
      "False\n",
      "True\n",
      "True\n",
      "False\n",
      "True\n"
     ]
    }
   ],
   "source": [
    "print(not True)\n",
    "print(not False)\n",
    "print(not 0)\n",
    "print(not \"a\")\n",
    "print(not None)"
   ]
  },
  {
   "cell_type": "markdown",
   "metadata": {},
   "source": [
    "## not()\n",
    "این تابع کارش اینه که هرچی بولین ما بودش رو برعکس میکنه\n",
    "یعنی اگه True بود\\\n",
    "میکنه false\\\n",
    "اگه false بود\\\n",
    "میکنه True"
   ]
  },
  {
   "cell_type": "code",
   "execution_count": 8,
   "metadata": {},
   "outputs": [
    {
     "name": "stdout",
     "output_type": "stream",
     "text": [
      "False\n",
      "False\n",
      "True\n"
     ]
    }
   ],
   "source": [
    "married = True\n",
    "married =  not(married)\n",
    "\n",
    "print(married)\n",
    "\n",
    "print(not(\"a\"))\n",
    "print(not(0))"
   ]
  },
  {
   "cell_type": "markdown",
   "metadata": {},
   "source": [
    "# Quote \n",
    "## There are many ways to solve a problem, but the  key is to solve it in a simple manner that is readable."
   ]
  },
  {
   "cell_type": "markdown",
   "metadata": {},
   "source": [
    "_____________________________________________________________________________________"
   ]
  },
  {
   "cell_type": "markdown",
   "metadata": {},
   "source": [
    "## is vs. =="
   ]
  },
  {
   "cell_type": "markdown",
   "metadata": {},
   "source": [
    "double quote check equality of value\\\n",
    "دابل کوت میاد از لحاظ مقداری مقایسه میکنه.\n",
    "## نکته : موقعی که یک بولین با یک مقدار دیگه داره مقایسه میشه اون مقدار دیگه در این مقایسه تبدیل به بولین میشه و بعد مقایسه میشه"
   ]
  },
  {
   "cell_type": "code",
   "execution_count": 14,
   "metadata": {},
   "outputs": [
    {
     "name": "stdout",
     "output_type": "stream",
     "text": [
      "True\n",
      "False\n",
      "False\n",
      "True\n",
      "True\n"
     ]
    }
   ],
   "source": [
    "print(True == 1) # True\n",
    "print('' == 1) # False\n",
    "print([] == 1) # False\n",
    "print(10 == 10.0) # True\n",
    "print([] == []) # True"
   ]
  },
  {
   "cell_type": "markdown",
   "metadata": {},
   "source": [
    "# is, keyword\n",
    "is is for reference equality. It's used to know if two references refer (or point) to the same object, i.e if they're identical. Two objects are identical if they have the same memory address.\n",
    "برای این استفاده میشه که چک بکنیم آیا دوتا مقدار از یک آدرس مموری استفاده میکنن ؟ از یک آبجکت استفاده میکنن؟ در یک ادرس مموری قرار دارند آیا؟"
   ]
  },
  {
   "cell_type": "code",
   "execution_count": 20,
   "metadata": {},
   "outputs": [
    {
     "name": "stdout",
     "output_type": "stream",
     "text": [
      "True\n",
      "False\n",
      "2622291842112\n",
      "2622291842112\n",
      "2622292169792\n"
     ]
    }
   ],
   "source": [
    "a = [1, 2]\n",
    "b = a\n",
    "c = a.copy()\n",
    "\n",
    "print(a is b) # because reference memory is same\n",
    "print(c is a) # because reference memory is not same\n",
    "\n",
    "# memory address\n",
    "print(id(a)) \n",
    "print(id(b))\n",
    "print(id(c))"
   ]
  },
  {
   "cell_type": "markdown",
   "metadata": {},
   "source": [
    "## id()\n",
    "its return object memory address"
   ]
  },
  {
   "cell_type": "code",
   "execution_count": 21,
   "metadata": {},
   "outputs": [
    {
     "name": "stdout",
     "output_type": "stream",
     "text": [
      "2622291956480\n",
      "2622292192256\n"
     ]
    }
   ],
   "source": [
    "a = [1, 2]\n",
    "b = [3, 4]\n",
    "print(id(a))\n",
    "print(id(b))"
   ]
  },
  {
   "cell_type": "markdown",
   "metadata": {},
   "source": [
    "# Loops"
   ]
  },
  {
   "cell_type": "markdown",
   "metadata": {},
   "source": [
    "## For loop"
   ]
  },
  {
   "cell_type": "code",
   "execution_count": 39,
   "metadata": {},
   "outputs": [],
   "source": [
    "# for item in \"Hello From Iran\":\n",
    "#     print(item)\n",
    "    \n",
    "# num = [1, 2, 3, 4, 5]\n",
    "# names = [\"ali\", \"sara\", \"hasan\", \"javad\", \"amir\"]\n",
    "\n",
    "# for nums in num:\n",
    "#     for name in names:\n",
    "#         print(names[nums])"
   ]
  },
  {
   "cell_type": "markdown",
   "metadata": {},
   "source": [
    "## Iterable\n",
    "یعنی چیزی که قابل تکرار شدن است . مانند : \\\n",
    "list - dict - tuple - set - str \\ \n",
    "چون قابل تکرار شدن هستند\\\n",
    "به این معنا که ما میتونیم تک تک آیتم های درون یک کالکشنی مانند لیست رو ، یک به یک چک بکنیم.\\"
   ]
  },
  {
   "cell_type": "code",
   "execution_count": 49,
   "metadata": {},
   "outputs": [
    {
     "name": "stdout",
     "output_type": "stream",
     "text": [
      "name alireza\n",
      "age 19\n",
      "country iran\n",
      "single True\n"
     ]
    }
   ],
   "source": [
    "user_info = {\n",
    "    \"name\": \"alireza\",\n",
    "    \"age\": 19,\n",
    "    \"country\": \"iran\",\n",
    "    \"single\": True\n",
    "}\n",
    "\n",
    "# for info in user_info.items():\n",
    "#     # print(f'{info[0]} :|: {info[1]}')\n",
    "#     key_item, value_item = info # sexy code\n",
    "#     print(key_item, value_item) \n",
    "\n",
    "\n",
    "# more sexy code\n",
    "for key_item, value_item in user_info.items():\n",
    "    print(key_item, value_item) "
   ]
  },
  {
   "cell_type": "markdown",
   "metadata": {},
   "source": [
    ".items() method in dict : this method return key value tuple for us."
   ]
  },
  {
   "cell_type": "markdown",
   "metadata": {},
   "source": [
    "note: int is not iterable"
   ]
  },
  {
   "cell_type": "markdown",
   "metadata": {},
   "source": [
    "## range()\n",
    "ما بهش عدد میدیم . میگیم از عدد فلان تا فلان رو برای ما بر گردن . مثلا عدد 100. این میاد یک رینجی که یک ابجکت مخصوص در پایتون هستش رو از صفر تا عدد 100 برای ما بر میگردونه. حالا که برگردوند ما میتونیم روی اون لوپ بزنیم و کارهامون رو بر اساس اون تعداد عدد پیش ببریم\n",
    "این تابع سه تا پارامتر میگیره . به ترتیب : \\\n",
    "start - stop - stepover"
   ]
  },
  {
   "cell_type": "code",
   "execution_count": 63,
   "metadata": {},
   "outputs": [
    {
     "name": "stdout",
     "output_type": "stream",
     "text": [
      "0\n",
      "5\n",
      "10\n",
      "15\n",
      "20\n",
      "25\n",
      "30\n",
      "35\n",
      "40\n",
      "45\n",
      "50\n",
      "55\n",
      "60\n",
      "65\n",
      "70\n",
      "75\n",
      "80\n",
      "85\n",
      "90\n",
      "95\n"
     ]
    }
   ],
   "source": [
    "for i in range(0, 100, 5):\n",
    "    print(i)\n",
    "\n",
    "# list_numbers = list(range(0, 100))\n",
    "\n",
    "# print(list_numbers)"
   ]
  },
  {
   "cell_type": "code",
   "execution_count": 52,
   "metadata": {},
   "outputs": [
    {
     "name": "stdout",
     "output_type": "stream",
     "text": [
      "number  1\n",
      "number  2\n",
      "number  3\n",
      "number  4\n",
      "number  5\n",
      "number  6\n",
      "number  7\n",
      "number  8\n",
      "number  9\n",
      "number  10\n"
     ]
    }
   ],
   "source": [
    "user_input = int(input(\"pleas enter your number : \"))\n",
    "\n",
    "for num in range(user_input):\n",
    "    print(\"number \", num + 1)"
   ]
  },
  {
   "cell_type": "markdown",
   "metadata": {},
   "source": [
    "reverse number in python : "
   ]
  },
  {
   "cell_type": "code",
   "execution_count": 61,
   "metadata": {},
   "outputs": [
    {
     "name": "stdout",
     "output_type": "stream",
     "text": [
      "10\n",
      "9\n",
      "8\n",
      "7\n",
      "6\n",
      "5\n",
      "4\n",
      "3\n",
      "2\n",
      "1\n"
     ]
    }
   ],
   "source": [
    "# print(range(10,0, -1))\n",
    "for i in range(10, 0, -1):\n",
    "    print(i)"
   ]
  },
  {
   "cell_type": "markdown",
   "metadata": {},
   "source": [
    "## Enumerate\n",
    "این میاد هر چیز ایتربلی رو برای ما به شکل قابل شمارش و تکه تکه میکنه. مثلا میاد میگه که اقا ، کرکتر اول این استرینگ فلانه اینم ایندکسش. به همین آسونی"
   ]
  },
  {
   "cell_type": "code",
   "execution_count": 66,
   "metadata": {},
   "outputs": [
    {
     "name": "stdout",
     "output_type": "stream",
     "text": [
      "0 a\n",
      "1 b\n",
      "2 c\n"
     ]
    }
   ],
   "source": [
    "for a, b in enumerate(['a', 'b', 'c']):\n",
    "    print(a, b)"
   ]
  },
  {
   "cell_type": "code",
   "execution_count": 73,
   "metadata": {},
   "outputs": [
    {
     "name": "stdout",
     "output_type": "stream",
     "text": [
      "51\n"
     ]
    }
   ],
   "source": [
    "for index, item in enumerate(list(range(1, 100))):\n",
    "    if index == 50:\n",
    "        print(item)"
   ]
  },
  {
   "cell_type": "markdown",
   "metadata": {},
   "source": [
    "## While loop\n",
    "why we use else ? because if we use break in while loop , after that not show the else block."
   ]
  },
  {
   "cell_type": "code",
   "execution_count": null,
   "metadata": {},
   "outputs": [],
   "source": [
    "i = 0\n",
    "while i < 50:\n",
    "    print(i)\n",
    "    i += 1"
   ]
  },
  {
   "cell_type": "code",
   "execution_count": 80,
   "metadata": {},
   "outputs": [
    {
     "name": "stdout",
     "output_type": "stream",
     "text": [
      "Enter Correct Number !\n",
      "Enter Correct Number !\n",
      "Enter Correct Number !\n",
      "Enter Correct Number !\n",
      "Enter Correct Number !\n",
      "Enter Correct Number !\n",
      "Enter Correct Number !\n",
      "Enter Correct Number !\n",
      "Enter Correct Number !\n",
      "Enter Correct Number !\n",
      "Correct !\n",
      "Your Password is : 1234\n"
     ]
    }
   ],
   "source": [
    "user_input = int(input(\"enter 1 : \"))\n",
    "\n",
    "while user_input != 1:\n",
    "    user_input = int(input(\"enter 1 : \"))\n",
    "    print(\"Enter Correct Number !\")\n",
    "else:\n",
    "    print(\"Correct !\")\n",
    "    print(\"Your Password is : 1234\")"
   ]
  },
  {
   "cell_type": "code",
   "execution_count": 4,
   "metadata": {},
   "outputs": [
    {
     "name": "stdout",
     "output_type": "stream",
     "text": [
      "sara\n",
      "sasan\n",
      "mohammad\n",
      "ali\n",
      "javad\n",
      "sara\n",
      "sasan\n",
      "mohammad\n",
      "ali\n",
      "javad\n"
     ]
    }
   ],
   "source": [
    "names = [\"sara\", \"sasan\", \"mohammad\", \"ali\", \"javad\"]\n",
    "\n",
    "# iterate with for loop\n",
    "for item in names:\n",
    "    print(item)\n",
    "    \n",
    "# iterate with while loop \n",
    "i = 0\n",
    "while i < len(names):\n",
    "    print(names[i])\n",
    "    i +=1"
   ]
  },
  {
   "cell_type": "markdown",
   "metadata": {},
   "source": [
    "note : while loop is flexible, because we can run conditional.\\\n",
    "infinite : بی نهایت"
   ]
  },
  {
   "cell_type": "code",
   "execution_count": 6,
   "metadata": {},
   "outputs": [
    {
     "name": "stdout",
     "output_type": "stream",
     "text": [
      "Try Again !\n",
      "Try Again !\n",
      "Try Again !\n",
      "Try Again !\n",
      "Try Again !\n",
      "Try Again !\n",
      "Correct !\n"
     ]
    }
   ],
   "source": [
    "while True:\n",
    "    user_input = int(input(\"Enter 0 : \"))\n",
    "    \n",
    "    if user_input == 1:\n",
    "        print(\"Correct !\")\n",
    "        break\n",
    "    else: \n",
    "        print(\"Try Again !\")"
   ]
  },
  {
   "cell_type": "markdown",
   "metadata": {},
   "source": [
    "infinite loop : یعنی اجرا کردن یک حلقه بی نهایت برای یک شرطی. مثل کد بالا."
   ]
  },
  {
   "cell_type": "code",
   "execution_count": 7,
   "metadata": {},
   "outputs": [],
   "source": [
    "while True:\n",
    "    user_input = input(\"Enter any key : \")\n",
    "    \n",
    "    if user_input:\n",
    "        break"
   ]
  },
  {
   "cell_type": "markdown",
   "metadata": {},
   "source": [
    "## Exercise : Bomb Game"
   ]
  },
  {
   "cell_type": "code",
   "execution_count": 23,
   "metadata": {},
   "outputs": [
    {
     "name": "stdout",
     "output_type": "stream",
     "text": [
      "number is less , chose greater than. 4 time remain\n",
      "number is less , chose greater than. 3 time remain\n",
      "number is less , chose greater than. 2 time remain\n",
      "number is less , chose greater than. 1 time remain\n",
      "number is less , chose greater than. 0 time remain\n",
      "You Died 🥹\n"
     ]
    }
   ],
   "source": [
    "# import random library\n",
    "import random\n",
    "\n",
    "# numbers list\n",
    "numbers = [1, 2, 3, 4, 5, 6, 7, 8, 9, 10]\n",
    "\n",
    "# computer random choice list numbers\n",
    "computer_choice = random.choice(numbers)\n",
    "\n",
    "# user try counter\n",
    "user_try = 5\n",
    "\n",
    "while True:\n",
    "\n",
    "    # user input choice\n",
    "    user_input = int(input(\"Guess Number between 1 and 10 :\"))\n",
    "    \n",
    "    if user_input == computer_choice:\n",
    "        print('God damn right choice 💣')\n",
    "        break\n",
    "    elif user_try == 0:\n",
    "        print(\"You Died 🥹\")\n",
    "        break\n",
    "    elif user_input > computer_choice:\n",
    "        print(f'number is greater , chose less than. {user_try} time remain')\n",
    "        user_try -= 1\n",
    "    elif user_input < computer_choice:\n",
    "        print(f'number is less , chose greater than. {user_try} time remain')\n",
    "        user_try -= 1\n",
    "\n",
    "\n",
    "        "
   ]
  },
  {
   "cell_type": "markdown",
   "metadata": {},
   "source": [
    "## Break\n",
    "its break our loop.\n",
    "\n",
    "## Continue\n",
    "The continue keyword is used to end the current iteration in a for loop (or a while loop), and continues to the next iteration.\n",
    "بیشتر کانتینیو در یک شرطی استفاده میشود. به این صورت که اگر یک شرطی اتفاق افتاد و بعد از کانتینیو استفاده شد. پایتون میاد از بقیه کد میگذره و دوباره ادامه حلقه رو ران میکنه.\n",
    "\n",
    "## Pass\n",
    "The pass statement is used as a placeholder for future code.\n",
    "عبارت pass به عنوان یک مکان نگهدار برای کدهای آینده استفاده می شود. کارش اینه که ما اینو دریک جایی قرار میدیم که به عنوان یک کد خونده بشه ولی کاری انجام نمیده. مثل یک برچسب نوبت میمونه که اونجا قراره در آینده یک کدی نوشته بشه."
   ]
  },
  {
   "cell_type": "code",
   "execution_count": 5,
   "metadata": {},
   "outputs": [
    {
     "name": "stdout",
     "output_type": "stream",
     "text": [
      "1\n",
      "3\n",
      "4\n",
      "5\n",
      "6\n",
      "7\n",
      "8\n",
      "9\n",
      "10\n"
     ]
    }
   ],
   "source": [
    "numbers = [1, 2, 3, 2, 4,2, 5,2, 6, 7,2, 8, 9, 10]\n",
    "\n",
    "for n in numbers:\n",
    "    if n == 2:\n",
    "        continue\n",
    "    else:\n",
    "        print(n)\n"
   ]
  },
  {
   "cell_type": "code",
   "execution_count": 26,
   "metadata": {},
   "outputs": [],
   "source": [
    "def say_my_name():\n",
    "    pass"
   ]
  },
  {
   "cell_type": "markdown",
   "metadata": {},
   "source": [
    "## end parameter in print function\n",
    "تابع پرینت در حالت عادی یک متنی رو چاپ میگیره و میره خط بعدی و وقتی از پرینت بعدی استفاده میکنیم در خط جدید اجرا میشه. حالا این پارامتر میگه که در خط بعدی من چه اتفاقی بیوفته؟ بره خط بعدی یا اسپیس بخوره یا یک متن جدید بیاد و یا هرچی."
   ]
  },
  {
   "cell_type": "code",
   "execution_count": 43,
   "metadata": {},
   "outputs": [
    {
     "name": "stdout",
     "output_type": "stream",
     "text": [
      "0000000\n",
      "----000\n",
      "---00--\n",
      "--00---\n",
      "000----\n",
      "0000000\n"
     ]
    }
   ],
   "source": [
    "picture_one = [\n",
    "    [0, 0, 0, 1, 0, 0, 0],\n",
    "    [0, 0, 1, 1, 1, 0, 0],\n",
    "    [0, 1, 1, 1, 1, 1, 0],\n",
    "    [1, 1, 1, 1, 1, 1, 1],\n",
    "    [0, 0, 0, 1, 0, 0, 0],\n",
    "    [0, 0, 0, 1, 0, 0, 0]\n",
    "]\n",
    "\n",
    "picture_two = [\n",
    "    [1, 1, 1, 1, 1, 1, 1],\n",
    "    [0, 0, 0, 0, 1, 1, 1],\n",
    "    [0, 0, 0, 1, 1, 0, 0],\n",
    "    [0, 0, 1, 1, 0, 0, 0],\n",
    "    [1, 1, 1, 0, 0, 0, 0],\n",
    "    [1, 1, 1, 1, 1, 1, 1]\n",
    "]\n",
    "\n",
    "def pixel_generator(picture, fill=\"*\", empty= \" \"):\n",
    "    for line in picture:\n",
    "\n",
    "        for pixel in line:\n",
    "            if pixel:\n",
    "                print(fill, end=\"\")\n",
    "            else:\n",
    "                print(empty, end=\"\")\n",
    "        print(\"\")\n",
    "        \n",
    "# pixel_generator(picture_one)\n",
    "pixel_generator(picture_two, 0, \"-\")"
   ]
  },
  {
   "cell_type": "markdown",
   "metadata": {},
   "source": [
    "# Developer Fundamental\n",
    "## what is good code ?\n",
    "- code should be clean. dont write weird code.\n",
    "- Readability\n",
    "- Predictability = قابل پیشبینی بودن\n",
    "- DRY : Do not repeat your self. like use function"
   ]
  },
  {
   "cell_type": "markdown",
   "metadata": {},
   "source": [
    "## Duplicate Exercise"
   ]
  },
  {
   "cell_type": "code",
   "execution_count": 59,
   "metadata": {},
   "outputs": [
    {
     "name": "stdout",
     "output_type": "stream",
     "text": [
      "{'b', 'c'}\n"
     ]
    }
   ],
   "source": [
    "alphabet = ['a', 'b', 'c', 'c', 'b', 'd', 'e']\n",
    "duplicate = []\n",
    "\n",
    "for alpha in alphabet:\n",
    "    if alphabet.count(alpha) > 1: \n",
    "        if alpha not in duplicate:\n",
    "            duplicate.append(alpha)\n",
    "    else:\n",
    "        continue\n",
    "\n"
   ]
  },
  {
   "cell_type": "markdown",
   "metadata": {},
   "source": [
    "# Function\n",
    "def mean is define."
   ]
  },
  {
   "cell_type": "code",
   "execution_count": 61,
   "metadata": {},
   "outputs": [
    {
     "name": "stdout",
     "output_type": "stream",
     "text": [
      "Hello World\n",
      "Hello World\n",
      "Hello World\n",
      "Hello World\n"
     ]
    }
   ],
   "source": [
    "def say_hello():\n",
    "    print(\"Hello World\")\n",
    "    \n",
    "say_hello() \n",
    "say_hello() \n",
    "say_hello() \n",
    "say_hello() \n",
    "    "
   ]
  },
  {
   "cell_type": "markdown",
   "metadata": {},
   "source": [
    "# Argument vs. Parameters \n",
    "موقعی که ما تابعی رو داریم میسازیم به اون متغیر ها پارامتر گفته میشه و موقعی که داریم صداشون میزنیم ، به اون متغیر ها آرگومان گفته میشه.\n",
    "```py\n",
    "\n",
    "def say_hello(name):#parameter\n",
    "    print(f\"Hello {name}\")\n",
    "\n",
    "say_hello(\"alireza\") # argument\n",
    "\n",
    "```"
   ]
  },
  {
   "cell_type": "code",
   "execution_count": 4,
   "metadata": {},
   "outputs": [
    {
     "name": "stdout",
     "output_type": "stream",
     "text": [
      "Hello sajjad 😂\n"
     ]
    }
   ],
   "source": [
    "def say_hello(name, emoje):  # parameter\n",
    "    print(f\"Hello {name} {emoje}\")\n",
    "\n",
    "\n",
    "say_hello(\"sajjad\", \"😂\")  # argument\n",
    "# call or invoke function"
   ]
  },
  {
   "cell_type": "markdown",
   "metadata": {},
   "source": [
    "## Positional argument\n",
    "به آرگومانی که به صورت ترتیبی نوشته میشه ، آرگومان پوزیشنی گفته میشود.\n",
    "```py\n",
    "\n",
    "say_hello('alireza', '19')\n",
    "\n",
    "```"
   ]
  },
  {
   "cell_type": "code",
   "execution_count": 6,
   "metadata": {},
   "outputs": [
    {
     "name": "stdout",
     "output_type": "stream",
     "text": [
      "Hello sajjad 😂\n",
      "Hello saman 💣\n"
     ]
    }
   ],
   "source": [
    "def say_hello(name, emoje):  # parameter\n",
    "    print(f\"Hello {name} {emoje}\")\n",
    "\n",
    "\n",
    "say_hello(\"sajjad\", \"😂\")  # argument\n",
    "say_hello(emoje=\"💣\", name=\"saman\") # keyword argument\n"
   ]
  },
  {
   "cell_type": "markdown",
   "metadata": {},
   "source": [
    "## Keyword argument\n",
    "به این صورت هستش که ما آرگومان هارو با استفاده از نام کلیدی اونا جایگذاری میکنیم و دیگه کاری به ترتیب نداره."
   ]
  },
  {
   "cell_type": "code",
   "execution_count": 7,
   "metadata": {},
   "outputs": [
    {
     "name": "stdout",
     "output_type": "stream",
     "text": [
      "Hello saman 💣\n"
     ]
    }
   ],
   "source": [
    "say_hello(emoje=\"💣\", name=\"saman\")  # keyword argument"
   ]
  },
  {
   "cell_type": "markdown",
   "metadata": {},
   "source": [
    "## default parameter"
   ]
  },
  {
   "cell_type": "code",
   "execution_count": 12,
   "metadata": {},
   "outputs": [
    {
     "name": "stdout",
     "output_type": "stream",
     "text": [
      "Hi user\n"
     ]
    }
   ],
   "source": [
    "def say_hello(name=\"user\"):\n",
    "    print(f\"Hi {name}\")\n",
    "    \n",
    "say_hello()"
   ]
  },
  {
   "cell_type": "markdown",
   "metadata": {},
   "source": [
    "## return in function\n"
   ]
  },
  {
   "cell_type": "code",
   "execution_count": 18,
   "metadata": {},
   "outputs": [
    {
     "name": "stdout",
     "output_type": "stream",
     "text": [
      "Hi alireza. your birth in 2005\n"
     ]
    }
   ],
   "source": [
    "def calculate_birth(age):\n",
    "    now = 2024\n",
    "    calculate = now - age\n",
    "\n",
    "    return calculate\n",
    "    \n",
    "    \n",
    "def say_hello(name, age):\n",
    "    print(f'Hi {name}. your birth in {age}')\n",
    "    \n",
    "\n",
    "\n",
    "say_hello(\"alireza\", calculate_birth(19))"
   ]
  },
  {
   "cell_type": "code",
   "execution_count": 24,
   "metadata": {},
   "outputs": [
    {
     "name": "stdout",
     "output_type": "stream",
     "text": [
      "8\n"
     ]
    }
   ],
   "source": [
    "def calculate_number(num_one, num_two):\n",
    "    total = num_one + num_two\n",
    "\n",
    "    def calc_two():\n",
    "        return total * 2\n",
    "    \n",
    "    return calc_two()\n",
    "\n",
    "print(calculate_number(2, 2))"
   ]
  },
  {
   "cell_type": "markdown",
   "metadata": {},
   "source": [
    "## docstring\n",
    "با استفاده از این روش ما میتونیم برای فانکشنمون یک توضیحات بنویسم تا بقیه بتونن به راحتی ازش استفاده بکنن. \n",
    "این اپشن خیلی به درد میخوره ، به عنوان مثال ممکنه پروژه بزرگ بشه و چندین فایل باشه و طرف ندونه مورد استفاده این فانکشن کجاست ، با این نوشته راحت میفهمه کاربرد این فانکشن کجاست."
   ]
  },
  {
   "cell_type": "code",
   "execution_count": 25,
   "metadata": {},
   "outputs": [
    {
     "name": "stdout",
     "output_type": "stream",
     "text": [
      "alrieza\n"
     ]
    }
   ],
   "source": [
    "def say_hello(name):\n",
    "    '''\n",
    "        This is alireza function for say hello to another persons.\n",
    "        \n",
    "        made in iran\n",
    "    '''\n",
    "    \n",
    "    print(name)\n",
    "    \n",
    "    \n",
    "say_hello(\"alrieza\")"
   ]
  },
  {
   "cell_type": "markdown",
   "metadata": {},
   "source": [
    "help function\n",
    "\n",
    "این فانکشن برای ما ، داک استرینگ های هر فانکشن و متودی رو بر میگردونه."
   ]
  },
  {
   "cell_type": "code",
   "execution_count": 28,
   "metadata": {},
   "outputs": [
    {
     "name": "stdout",
     "output_type": "stream",
     "text": [
      "Help on function say_hello in module __main__:\n",
      "\n",
      "say_hello(name)\n",
      "    This is alireza function for say hello to another persons.\n",
      "    \n",
      "    made in iran\n",
      "\n",
      "Help on built-in function print in module builtins:\n",
      "\n",
      "print(*args, sep=' ', end='\\n', file=None, flush=False)\n",
      "    Prints the values to a stream, or to sys.stdout by default.\n",
      "    \n",
      "    sep\n",
      "      string inserted between values, default a space.\n",
      "    end\n",
      "      string appended after the last value, default a newline.\n",
      "    file\n",
      "      a file-like object (stream); defaults to the current sys.stdout.\n",
      "    flush\n",
      "      whether to forcibly flush the stream.\n",
      "\n",
      "Help on built-in function round in module builtins:\n",
      "\n",
      "round(number, ndigits=None)\n",
      "    Round a number to a given precision in decimal digits.\n",
      "    \n",
      "    The return value is an integer if ndigits is omitted or None.  Otherwise\n",
      "    the return value has the same type as the number.  ndigits may be negative.\n",
      "\n"
     ]
    }
   ],
   "source": [
    "help(say_hello)\n",
    "help(print)\n",
    "help(round)"
   ]
  },
  {
   "cell_type": "markdown",
   "metadata": {},
   "source": [
    "doc method: \n",
    "با استفاده از این متود هم میشه فهمید که هر فانکشن یا متودی کاربردش چیه و داک استرینگش رو برای ما بر میگردونه"
   ]
  },
  {
   "cell_type": "code",
   "execution_count": 29,
   "metadata": {},
   "outputs": [
    {
     "name": "stdout",
     "output_type": "stream",
     "text": [
      "\n",
      "        This is alireza function for say hello to another persons.\n",
      "        \n",
      "        made in iran\n",
      "    \n",
      "Round a number to a given precision in decimal digits.\n",
      "\n",
      "The return value is an integer if ndigits is omitted or None.  Otherwise\n",
      "the return value has the same type as the number.  ndigits may be negative.\n"
     ]
    }
   ],
   "source": [
    "print(say_hello.__doc__)\n",
    "print(round.__doc__)"
   ]
  },
  {
   "cell_type": "markdown",
   "metadata": {},
   "source": [
    "# *args and **kwargs"
   ]
  },
  {
   "cell_type": "code",
   "execution_count": 6,
   "metadata": {},
   "outputs": [
    {
     "data": {
      "text/plain": [
       "21"
      ]
     },
     "execution_count": 6,
     "metadata": {},
     "output_type": "execute_result"
    }
   ],
   "source": [
    "def super_func(*args):\n",
    "    return sum(args)\n",
    "\n",
    "super_func(1, 2, 3, 4, 5, 6)"
   ]
  },
  {
   "cell_type": "code",
   "execution_count": 22,
   "metadata": {},
   "outputs": [
    {
     "name": "stdout",
     "output_type": "stream",
     "text": [
      "invite sended to alireza  1ms\n",
      "invite sended to sasan  2ms\n",
      "invite sended to mohammad  3ms\n",
      "invite sended to ali  4ms\n",
      "invite sended to javad  5ms\n",
      "invite sended to amir  6ms\n"
     ]
    }
   ],
   "source": [
    "def send_invite(*users):\n",
    "\n",
    "        \n",
    "    for count, name in enumerate(users):\n",
    "        msg = f'invite sended to {name}  {count+1}ms'\n",
    "        print(msg)\n",
    "\n",
    "send_invite(\"alireza\", \"sasan\", \"mohammad\", \"ali\", \"javad\", \"amir\")"
   ]
  },
  {
   "cell_type": "markdown",
   "metadata": {},
   "source": [
    "**kwargs"
   ]
  },
  {
   "cell_type": "code",
   "execution_count": 17,
   "metadata": {},
   "outputs": [
    {
     "name": "stdout",
     "output_type": "stream",
     "text": [
      "None\n"
     ]
    }
   ],
   "source": [
    "def user_list(**kwargs):\n",
    "    us_req = kwargs\n",
    "    \n",
    "    print(us_req.get(\"num1\"))\n",
    "    \n",
    "user_list(num3=1, num2=3)"
   ]
  },
  {
   "cell_type": "markdown",
   "metadata": {},
   "source": [
    "## Rule of using args and kwargs : \n",
    "params, *args, default parameters, **kwargs"
   ]
  },
  {
   "cell_type": "code",
   "execution_count": 18,
   "metadata": {},
   "outputs": [],
   "source": [
    "def super_func(username, *args, phone_number=98, **kwargs):\n",
    "    pass\n",
    "\n",
    "super_func()"
   ]
  },
  {
   "cell_type": "markdown",
   "metadata": {},
   "source": [
    "# Exercise"
   ]
  },
  {
   "cell_type": "code",
   "execution_count": 27,
   "metadata": {},
   "outputs": [
    {
     "data": {
      "text/plain": [
       "22"
      ]
     },
     "execution_count": 27,
     "metadata": {},
     "output_type": "execute_result"
    }
   ],
   "source": [
    "def highest_even(numbers_list):\n",
    "    even_list = []\n",
    "    for num in numbers_list:\n",
    "        if num % 2 == 0:\n",
    "            even_list.append(num)\n",
    "            \n",
    "    return max(even_list)\n",
    "\n",
    "highest_even([1, 10 , 6, 5, 15, 20 , 16, 12, 21, 22])"
   ]
  },
  {
   "cell_type": "markdown",
   "metadata": {},
   "source": [
    "# Walrus \n",
    "با استفاده از این قابلیت ، میتواندر درون یک استیتمنت از یک متغیر استفاده کرد ، به عنوان مثال میتوان از والروس در شرط ها و حلقه ها استفاده کرد و یک متغیر جدید در آن ایجاد کرد."
   ]
  },
  {
   "cell_type": "code",
   "execution_count": 33,
   "metadata": {},
   "outputs": [
    {
     "name": "stdout",
     "output_type": "stream",
     "text": [
      "your length is 20\n"
     ]
    }
   ],
   "source": [
    "# if (n := 10) > 0:\n",
    "#     print(\"its 10\", n)\n",
    "\n",
    "\n",
    "n = \"helloooooooooooooooo\"\n",
    "\n",
    "if (length := len(n)) > 10:\n",
    "    print(f\"your length is {length}\")"
   ]
  },
  {
   "cell_type": "code",
   "execution_count": 38,
   "metadata": {},
   "outputs": [
    {
     "name": "stdout",
     "output_type": "stream",
     "text": [
      "List is too long (13 elements, expected <= 10)\n"
     ]
    }
   ],
   "source": [
    "a = [1, 2, 3, 4, 5, 6, 7, 8, 9, 10, 11, 12, 13]\n",
    "\n",
    "if (n := len(a)) > 10:\n",
    "    print(f\"List is too long ({n} elements, expected <= 10)\")"
   ]
  },
  {
   "cell_type": "markdown",
   "metadata": {},
   "source": [
    "## Scope in python\n",
    "scope simply means what variable do i have access to?\n",
    "\n",
    "- global scope\n",
    "- function scope\n",
    "- "
   ]
  },
  {
   "cell_type": "code",
   "execution_count": 5,
   "metadata": {},
   "outputs": [
    {
     "name": "stdout",
     "output_type": "stream",
     "text": [
      "200\n",
      "10\n"
     ]
    }
   ],
   "source": [
    "# global scope\n",
    "total = 100\n",
    "\n",
    "def super_func():\n",
    "    #function scope\n",
    "    total = 200\n",
    "    print(total)\n",
    "    \n",
    "\n",
    "super_func()\n",
    "\n",
    "\n",
    "if True:\n",
    "    x = 10\n",
    "    \n",
    "    \n",
    "print(x)\n"
   ]
  },
  {
   "cell_type": "markdown",
   "metadata": {},
   "source": [
    "## Scopes order in python\n",
    "\n",
    "1. start with local\n",
    "2. check parent local\n",
    "3. global scope \n",
    "4. built in python functions . like sum() function"
   ]
  },
  {
   "cell_type": "markdown",
   "metadata": {},
   "source": [
    "## Global keyword\n",
    "با استفاده از این کلمه کلیدی ما میتوانیم یک متغیر گلوبال را تبدیل به یک متغیر لوکال در درون یک فانکشن یا استیتمنت دیگر کنیم."
   ]
  },
  {
   "cell_type": "code",
   "execution_count": 11,
   "metadata": {},
   "outputs": [
    {
     "name": "stdout",
     "output_type": "stream",
     "text": [
      "11\n"
     ]
    }
   ],
   "source": [
    "total = 10\n",
    "\n",
    "def counter():\n",
    "    global total\n",
    "    total += 1\n",
    "    return total\n",
    "\n",
    "print(counter())"
   ]
  },
  {
   "cell_type": "markdown",
   "metadata": {},
   "source": [
    "## Trick : dependency injection\n",
    "\n",
    "در این روش یا تریک ما دیگر از کلمه کلیدی گلوبال استفاده نمیکنیم بلکه میایم از نام متغیر به عنوان پارامتر استفاده میکنیم."
   ]
  },
  {
   "cell_type": "code",
   "execution_count": 13,
   "metadata": {},
   "outputs": [
    {
     "name": "stdout",
     "output_type": "stream",
     "text": [
      "13\n"
     ]
    }
   ],
   "source": [
    "total = 10\n",
    "\n",
    "\n",
    "def counter(total):\n",
    "    total += 1\n",
    "    return total\n",
    "\n",
    "print(counter(counter(counter(total))))"
   ]
  },
  {
   "cell_type": "markdown",
   "metadata": {},
   "source": [
    "## nonlocal keyword\n",
    "این وقتی در اسکوپ پایینی استفاده میشه ، جامپ میزنه میره اسکوپ بالایی و اون متغیری که ما میخوایم از لوکال در بیاریم رو در میاره و به اسکوپ  پایینی دسترسی میده. و فقط مورد استفاده این کلمه کلیدی در فانکشن هستش."
   ]
  },
  {
   "cell_type": "code",
   "execution_count": 15,
   "metadata": {},
   "outputs": [
    {
     "name": "stdout",
     "output_type": "stream",
     "text": [
      "inner :  nonlocal\n",
      "0\n",
      "outer :  nonlocal\n"
     ]
    }
   ],
   "source": [
    "\n",
    "\n",
    "def u():\n",
    "    y = 0\n",
    "    def outer():\n",
    "        x = \"local\"\n",
    "        def inner():\n",
    "            nonlocal x \n",
    "            x = \"nonlocal\"\n",
    "            print(\"inner : \", x)\n",
    "            \n",
    "            nonlocal y\n",
    "            print(y)\n",
    "        inner()\n",
    "        print(\"outer : \",x)\n",
    "    return outer()\n",
    "    \n",
    "u()"
   ]
  },
  {
   "cell_type": "markdown",
   "metadata": {},
   "source": [
    "> بي نهايت = infinite | علامت یادگیری = symptom of learning"
   ]
  },
  {
   "cell_type": "markdown",
   "metadata": {},
   "source": [
    "## .stripe()\n",
    "\n",
    "این متود میاد از اسپیس های اول استرینگ و اخر استرینگ رو پاک میکنه."
   ]
  },
  {
   "cell_type": "code",
   "execution_count": 17,
   "metadata": {},
   "outputs": [
    {
     "name": "stdout",
     "output_type": "stream",
     "text": [
      "alireza fazeli     .\n"
     ]
    }
   ],
   "source": [
    "name  = \"    alireza fazeli     .   \"\n",
    "name = name.strip()\n",
    "print(name)"
   ]
  },
  {
   "cell_type": "markdown",
   "metadata": {},
   "source": [
    "## Impostor Syndrome \n",
    "سندرومی هستش که به ما میگه به اندازه کافی در زمینه ای یا کلا در زندگی خوبی نیستی.\n",
    "وقتی دچار  سندروم ایمپاستر شدید نترسید و جا نزنید ، بلکه ادامه بدید چون سندروم ایمپاستر نشونه این هستش که شما دارید راه درستی رو میرید پس ادامه بدید.\n"
   ]
  }
 ],
 "metadata": {
  "kernelspec": {
   "display_name": "Python 3",
   "language": "python",
   "name": "python3"
  },
  "language_info": {
   "codemirror_mode": {
    "name": "ipython",
    "version": 3
   },
   "file_extension": ".py",
   "mimetype": "text/x-python",
   "name": "python",
   "nbconvert_exporter": "python",
   "pygments_lexer": "ipython3",
   "version": "3.11.5"
  }
 },
 "nbformat": 4,
 "nbformat_minor": 2
}
