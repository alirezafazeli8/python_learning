{
 "cells": [
  {
   "cell_type": "markdown",
   "metadata": {},
   "source": [
    "# Welcome to python basics part two\n",
    "\n",
    "![](../image/flow.png)"
   ]
  },
  {
   "cell_type": "markdown",
   "metadata": {},
   "source": [
    "# Conditional Logic\n",
    "\n",
    "conditional logic refers to executing different actions in a program or process based on whether certain conditions are met. It's like the brain's decision-making process: if 'this' happens, do 'that. ' Programming languages represent conditional logic with 'if,' 'else,' and 'switch' statements.\n",
    "\n"
   ]
  },
  {
   "cell_type": "markdown",
   "metadata": {},
   "source": [
    "### If statement\n",
    "\n",
    "- if\n",
    "- else\n",
    "- elif\n",
    "- and"
   ]
  },
  {
   "cell_type": "code",
   "execution_count": 21,
   "metadata": {},
   "outputs": [
    {
     "name": "stdout",
     "output_type": "stream",
     "text": [
      "go back to home 🎲\n"
     ]
    }
   ],
   "source": [
    "# is_old = False\n",
    "# is_licensed = False\n",
    "\n",
    "# if is_old:\n",
    "#     print(\"You are old. 🔴\")\n",
    "# elif is_licensed:\n",
    "#     print(\"You have license 🚓.\")\n",
    "# else:\n",
    "#     print(\"You are not old. 🟩\")\n",
    "    \n",
    "# print(\"System Check\")\n",
    "\n",
    "user_age = 18\n",
    "user_licensed = False\n",
    "\n",
    "# if user_age >= 18:\n",
    "#     print(\"You can drive a car 🚓.\")\n",
    "# elif user_age < 18:\n",
    "#     print(\"Go back to home 🔴\")\n",
    "# else: \n",
    "#     print(\"System Error, Try Again 🔴🔴\")\n",
    "\n",
    "if user_age >= 18 and user_licensed:\n",
    "    print(\"You can drive 🚓\")\n",
    "else:\n",
    "    print(\"go back to home 🎲\")\n"
   ]
  }
 ],
 "metadata": {
  "kernelspec": {
   "display_name": "Python 3",
   "language": "python",
   "name": "python3"
  },
  "language_info": {
   "codemirror_mode": {
    "name": "ipython",
    "version": 3
   },
   "file_extension": ".py",
   "mimetype": "text/x-python",
   "name": "python",
   "nbconvert_exporter": "python",
   "pygments_lexer": "ipython3",
   "version": "3.11.5"
  }
 },
 "nbformat": 4,
 "nbformat_minor": 2
}
