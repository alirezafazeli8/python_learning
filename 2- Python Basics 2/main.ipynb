{
 "cells": [
  {
   "cell_type": "markdown",
   "metadata": {},
   "source": [
    "# Welcome to python basics part two\n",
    "\n",
    "![](../image/flow.png)"
   ]
  },
  {
   "cell_type": "markdown",
   "metadata": {},
   "source": [
    "# Conditional Logic\n",
    "\n",
    "conditional logic refers to executing different actions in a program or process based on whether certain conditions are met. It's like the brain's decision-making process: if 'this' happens, do 'that. ' Programming languages represent conditional logic with 'if,' 'else,' and 'switch' statements.\n",
    "\n"
   ]
  },
  {
   "cell_type": "markdown",
   "metadata": {},
   "source": [
    "### If statement\n",
    "\n",
    "- if\n",
    "- else\n",
    "- elif\n",
    "- and"
   ]
  },
  {
   "cell_type": "code",
   "execution_count": null,
   "metadata": {
    "is_executing": true
   },
   "outputs": [],
   "source": [
    "# is_old = False\n",
    "# is_licensed = False\n",
    "\n",
    "# if is_old:\n",
    "#     print(\"You are old. 🔴\")\n",
    "# elif is_licensed:\n",
    "#     print(\"You have license 🚓.\")\n",
    "# else:\n",
    "#     print(\"You are not old. 🟩\")\n",
    "    \n",
    "# print(\"System Check\")\n",
    "\n",
    "user_age = 18\n",
    "user_licensed = False\n",
    "\n",
    "# if user_age >= 18:\n",
    "#     print(\"You can drive a car 🚓.\")\n",
    "# elif user_age < 18:\n",
    "#     print(\"Go back to home 🔴\")\n",
    "# else: \n",
    "#     print(\"System Error, Try Again 🔴🔴\")\n",
    "\n",
    "if user_age >= 18 and user_licensed:\n",
    "    print(\"You can drive 🚓\")\n",
    "else:\n",
    "    print(\"go back to home \")\n"
   ]
  },
  {
   "cell_type": "markdown",
   "metadata": {},
   "source": [
    "## Indentation in Python\n",
    "فاصله گذاری ها در زبان پایتون یک معنای خاصی برای مفسر پایتون دارن. فاصله گذاری ها نحوه استفاده از این زبانه. به عنوان مثال ما بعد شرط میایم فاصله میزاریم این برای پایتون این معنی رو داره که این دستور برای شرط نوشته شده."
   ]
  },
  {
   "cell_type": "markdown",
   "metadata": {},
   "source": [
    "# Truthy vs. Falsey\n",
    "وقتی در شرط ها ما از متغیر ها استفاده میکنم در درون اون شرط به عنوان مثال  و while , if , میاد اونو به boolean تبدیل میکنه\n",
    "جالا در این تبدیل ها ، یکسری چیزا در زبان پایتون بعد از تبدیل True هستند\n",
    "و یکسری چیز ها بعد تبدیل False هستند"
   ]
  },
  {
   "cell_type": "markdown",
   "metadata": {},
   "source": [
    "اگر ما، مقادیر زیر رو به بولین تبدیل کنیم میبینیم که این مقادیر تبدیل به True میشن\n",
    "ما به این مقادیر Truthy میگیم.\n",
    "هر نوع مقادیری که در درون اون پر باشن از ایتمی اونا بعداز تبدیل truthy میشن."
   ]
  },
  {
   "cell_type": "code",
   "execution_count": 3,
   "metadata": {},
   "outputs": [
    {
     "name": "stdout",
     "output_type": "stream",
     "text": [
      "True\n",
      "True\n",
      "True\n",
      "True\n",
      "False\n",
      "False\n"
     ]
    }
   ],
   "source": [
    "name = \"alireza\"\n",
    "age = 19\n",
    "arr = [\"ali\", \"sara\"]\n",
    "obj = {\"name\" : \"alireza\"}\n",
    "\n",
    "print(bool(name))\n",
    "print(bool(age))\n",
    "print(bool(arr))\n",
    "print(bool(obj))"
   ]
  },
  {
   "cell_type": "markdown",
   "metadata": {},
   "source": [
    "هرچیزی که خالی باشه ، مثل استرینگ خالی ، دیشکنری خالیف لیست خالی ، ست خالی ....\n",
    "اینا falsey هستند.\n",
    "و عدد 0 هم جزو فالسی ها هستش.\n",
    "None فالسی است."
   ]
  },
  {
   "cell_type": "code",
   "execution_count": 6,
   "metadata": {},
   "outputs": [
    {
     "name": "stdout",
     "output_type": "stream",
     "text": [
      "False\n",
      "False\n",
      "False\n",
      "False\n",
      "False\n",
      "False\n"
     ]
    }
   ],
   "source": [
    "print(bool(0))\n",
    "print(bool([]))\n",
    "print(bool({}))\n",
    "print(bool(()))\n",
    "print(bool(\"\"))\n",
    "print(bool(None))"
   ]
  },
  {
   "cell_type": "code",
   "execution_count": 8,
   "metadata": {},
   "outputs": [
    {
     "name": "stdout",
     "output_type": "stream",
     "text": [
      "Pleas complete the fill (X)\n"
     ]
    }
   ],
   "source": [
    "username = \"\"\n",
    "password = 12345\n",
    "\n",
    "if username and password:\n",
    "    print(\"You can continue -> \")\n",
    "else:\n",
    "    print(\"Pleas complete the fill (X)\")"
   ]
  },
  {
   "cell_type": "markdown",
   "metadata": {},
   "source": [
    "## Ternary Operator or Conditional Expression\n",
    "we can write conditional or if statement code in one line.\n",
    "با این روش میتونیم در یک خط شرط بنویسیم"
   ]
  },
  {
   "cell_type": "code",
   "execution_count": 15,
   "metadata": {},
   "outputs": [
    {
     "name": "stdout",
     "output_type": "stream",
     "text": [
      "You cant send Message, He is Married 💍\n"
     ]
    }
   ],
   "source": [
    "is_married = True\n",
    "\n",
    "# print(\"Hes is Married\") if is_married else print(\"He is not married\")\n",
    "is_married_msg = \"You cant send Message, He is Married 💍\" if is_married else \"Yay He is single. let message to him 💬\"\n",
    "print(is_married_msg)\n",
    "\n",
    "\n"
   ]
  },
  {
   "cell_type": "markdown",
   "metadata": {},
   "source": [
    "## Short Circuiting "
   ]
  },
  {
   "cell_type": "code",
   "execution_count": 23,
   "metadata": {},
   "outputs": [
    {
     "name": "stdout",
     "output_type": "stream",
     "text": [
      "True\n",
      "False\n",
      "False\n",
      "True\n",
      "True\n",
      "False\n"
     ]
    }
   ],
   "source": [
    "print(True and True) # True\n",
    "print(True and False) # False\n",
    "print(False and False) # False\n",
    "print(True or True) # True\n",
    "print(True or False) # True\n",
    "print(False or False) # False\n",
    "\n",
    "\n"
   ]
  },
  {
   "cell_type": "markdown",
   "metadata": {},
   "source": [
    "# Logical Operator\n",
    "\n",
    "allows us to perform logic\n",
    "\n",
    "- and\n",
    "- or\n",
    "- \\>\n",
    "- =>\n",
    "- <=\n",
    "- \\<\n",
    "- ==\n",
    "- !="
   ]
  },
  {
   "cell_type": "code",
   "execution_count": 6,
   "metadata": {},
   "outputs": [
    {
     "name": "stdout",
     "output_type": "stream",
     "text": [
      "False\n",
      "True\n",
      "True\n",
      "True\n",
      "97\n",
      "65\n"
     ]
    }
   ],
   "source": [
    "number_one = 3\n",
    "number_two = 3\n",
    "number_three = 6\n",
    "\n",
    "print(number_two > number_three)\n",
    "print(number_two < number_three)\n",
    "print(number_two == number_one)\n",
    "print(number_two >= number_one)\n",
    "\n",
    "print(ord(\"a\"))\n",
    "print(ord(\"A\"))"
   ]
  },
  {
   "cell_type": "code",
   "execution_count": 11,
   "metadata": {},
   "outputs": [
    {
     "name": "stdout",
     "output_type": "stream",
     "text": [
      "97\n"
     ]
    }
   ],
   "source": [
    "print(ord('a'))"
   ]
  },
  {
   "cell_type": "code",
   "execution_count": 10,
   "metadata": {},
   "outputs": [
    {
     "name": "stdout",
     "output_type": "stream",
     "text": [
      "65\n"
     ]
    }
   ],
   "source": [
    "print(ord('A'))"
   ]
  },
  {
   "cell_type": "code",
   "execution_count": 3,
   "metadata": {},
   "outputs": [
    {
     "name": "stdout",
     "output_type": "stream",
     "text": [
      "False\n",
      "True\n"
     ]
    }
   ],
   "source": [
    "print(0 != 0)\n",
    "print(0 == 0)"
   ]
  },
  {
   "cell_type": "markdown",
   "metadata": {},
   "source": [
    "# not , keyword\n",
    "In its simplest form, the ‘not’ keyword in Python is used to reverse the truth value of the operand it precedes. If the operand is True, ‘not’ will return False, and if the operand is False, ‘not’ will return True. This is a fundamental aspect of Python’s logical operations.\n",
    "این کلمه کلیدی کارش اینه که هرچی بولین ما بودش رو برعکس میکنه\n",
    "یعنی اگه True بود\\\n",
    "میکنه false\\\n",
    "اگه false بود\\\n",
    "میکنه True"
   ]
  },
  {
   "cell_type": "code",
   "execution_count": 11,
   "metadata": {},
   "outputs": [
    {
     "name": "stdout",
     "output_type": "stream",
     "text": [
      "False\n",
      "True\n",
      "True\n",
      "False\n",
      "True\n"
     ]
    }
   ],
   "source": [
    "print(not True)\n",
    "print(not False)\n",
    "print(not 0)\n",
    "print(not \"a\")\n",
    "print(not None)"
   ]
  },
  {
   "cell_type": "markdown",
   "metadata": {},
   "source": [
    "## not()\n",
    "این تابع کارش اینه که هرچی بولین ما بودش رو برعکس میکنه\n",
    "یعنی اگه True بود\\\n",
    "میکنه false\\\n",
    "اگه false بود\\\n",
    "میکنه True"
   ]
  },
  {
   "cell_type": "code",
   "execution_count": 8,
   "metadata": {},
   "outputs": [
    {
     "name": "stdout",
     "output_type": "stream",
     "text": [
      "False\n",
      "False\n",
      "True\n"
     ]
    }
   ],
   "source": [
    "married = True\n",
    "married =  not(married)\n",
    "\n",
    "print(married)\n",
    "\n",
    "print(not(\"a\"))\n",
    "print(not(0))"
   ]
  },
  {
   "cell_type": "markdown",
   "metadata": {},
   "source": [
    "# Quote \n",
    "## There are many ways to solve a problem, but the  key is to solve it in a simple manner that is readable."
   ]
  },
  {
   "cell_type": "markdown",
   "metadata": {},
   "source": [
    "_____________________________________________________________________________________"
   ]
  },
  {
   "cell_type": "markdown",
   "metadata": {},
   "source": [
    "## is vs. =="
   ]
  },
  {
   "cell_type": "markdown",
   "metadata": {},
   "source": [
    "double quote check equality of value\\\n",
    "دابل کوت میاد از لحاظ مقداری مقایسه میکنه.\n",
    "## نکته : موقعی که یک بولین با یک مقدار دیگه داره مقایسه میشه اون مقدار دیگه در این مقایسه تبدیل به بولین میشه و بعد مقایسه میشه"
   ]
  },
  {
   "cell_type": "code",
   "execution_count": 14,
   "metadata": {},
   "outputs": [
    {
     "name": "stdout",
     "output_type": "stream",
     "text": [
      "True\n",
      "False\n",
      "False\n",
      "True\n",
      "True\n"
     ]
    }
   ],
   "source": [
    "print(True == 1) # True\n",
    "print('' == 1) # False\n",
    "print([] == 1) # False\n",
    "print(10 == 10.0) # True\n",
    "print([] == []) # True"
   ]
  },
  {
   "cell_type": "markdown",
   "metadata": {},
   "source": [
    "# is, keyword\n",
    "is is for reference equality. It's used to know if two references refer (or point) to the same object, i.e if they're identical. Two objects are identical if they have the same memory address.\n",
    "برای این استفاده میشه که چک بکنیم آیا دوتا مقدار از یک آدرس مموری استفاده میکنن ؟ از یک آبجکت استفاده میکنن؟ در یک ادرس مموری قرار دارند آیا؟"
   ]
  },
  {
   "cell_type": "code",
   "execution_count": 20,
   "metadata": {},
   "outputs": [
    {
     "name": "stdout",
     "output_type": "stream",
     "text": [
      "True\n",
      "False\n",
      "2622291842112\n",
      "2622291842112\n",
      "2622292169792\n"
     ]
    }
   ],
   "source": [
    "a = [1, 2]\n",
    "b = a\n",
    "c = a.copy()\n",
    "\n",
    "print(a is b) # because reference memory is same\n",
    "print(c is a) # because reference memory is not same\n",
    "\n",
    "# memory address\n",
    "print(id(a)) \n",
    "print(id(b))\n",
    "print(id(c))"
   ]
  },
  {
   "cell_type": "markdown",
   "metadata": {},
   "source": [
    "## id()\n",
    "its return object memory address"
   ]
  },
  {
   "cell_type": "code",
   "execution_count": 21,
   "metadata": {},
   "outputs": [
    {
     "name": "stdout",
     "output_type": "stream",
     "text": [
      "2622291956480\n",
      "2622292192256\n"
     ]
    }
   ],
   "source": [
    "a = [1, 2]\n",
    "b = [3, 4]\n",
    "print(id(a))\n",
    "print(id(b))"
   ]
  },
  {
   "cell_type": "markdown",
   "metadata": {},
   "source": [
    "# Loops"
   ]
  },
  {
   "cell_type": "markdown",
   "metadata": {},
   "source": [
    "## For loop"
   ]
  },
  {
   "cell_type": "code",
   "execution_count": 39,
   "metadata": {},
   "outputs": [],
   "source": [
    "# for item in \"Hello From Iran\":\n",
    "#     print(item)\n",
    "    \n",
    "# num = [1, 2, 3, 4, 5]\n",
    "# names = [\"ali\", \"sara\", \"hasan\", \"javad\", \"amir\"]\n",
    "\n",
    "# for nums in num:\n",
    "#     for name in names:\n",
    "#         print(names[nums])"
   ]
  },
  {
   "cell_type": "markdown",
   "metadata": {},
   "source": [
    "## Iterable\n",
    "یعنی چیزی که قابل تکرار شدن است . مانند : \\\n",
    "list - dict - tuple - set - str \\ \n",
    "چون قابل تکرار شدن هستند\\\n",
    "به این معنا که ما میتونیم تک تک آیتم های درون یک کالکشنی مانند لیست رو ، یک به یک چک بکنیم.\\"
   ]
  },
  {
   "cell_type": "code",
   "execution_count": 49,
   "metadata": {},
   "outputs": [
    {
     "name": "stdout",
     "output_type": "stream",
     "text": [
      "name alireza\n",
      "age 19\n",
      "country iran\n",
      "single True\n"
     ]
    }
   ],
   "source": [
    "user_info = {\n",
    "    \"name\": \"alireza\",\n",
    "    \"age\": 19,\n",
    "    \"country\": \"iran\",\n",
    "    \"single\": True\n",
    "}\n",
    "\n",
    "# for info in user_info.items():\n",
    "#     # print(f'{info[0]} :|: {info[1]}')\n",
    "#     key_item, value_item = info # sexy code\n",
    "#     print(key_item, value_item) \n",
    "\n",
    "\n",
    "# more sexy code\n",
    "for key_item, value_item in user_info.items():\n",
    "    print(key_item, value_item) "
   ]
  },
  {
   "cell_type": "markdown",
   "metadata": {},
   "source": [
    ".items() method in dict : this method return key value tuple for us."
   ]
  },
  {
   "cell_type": "markdown",
   "metadata": {},
   "source": [
    "note: int is not iterable"
   ]
  },
  {
   "cell_type": "markdown",
   "metadata": {},
   "source": [
    "## range()\n",
    "ما بهش عدد میدیم . میگیم از عدد فلان تا فلان رو برای ما بر گردن . مثلا عدد 100. این میاد یک رینجی که یک ابجکت مخصوص در پایتون هستش رو از صفر تا عدد 100 برای ما بر میگردونه. حالا که برگردوند ما میتونیم روی اون لوپ بزنیم و کارهامون رو بر اساس اون تعداد عدد پیش ببریم\n",
    "این تابع سه تا پارامتر میگیره . به ترتیب : \\\n",
    "start - stop - stepover"
   ]
  },
  {
   "cell_type": "code",
   "execution_count": 63,
   "metadata": {},
   "outputs": [
    {
     "name": "stdout",
     "output_type": "stream",
     "text": [
      "0\n",
      "5\n",
      "10\n",
      "15\n",
      "20\n",
      "25\n",
      "30\n",
      "35\n",
      "40\n",
      "45\n",
      "50\n",
      "55\n",
      "60\n",
      "65\n",
      "70\n",
      "75\n",
      "80\n",
      "85\n",
      "90\n",
      "95\n"
     ]
    }
   ],
   "source": [
    "for i in range(0, 100, 5):\n",
    "    print(i)\n",
    "\n",
    "# list_numbers = list(range(0, 100))\n",
    "\n",
    "# print(list_numbers)"
   ]
  },
  {
   "cell_type": "code",
   "execution_count": 52,
   "metadata": {},
   "outputs": [
    {
     "name": "stdout",
     "output_type": "stream",
     "text": [
      "number  1\n",
      "number  2\n",
      "number  3\n",
      "number  4\n",
      "number  5\n",
      "number  6\n",
      "number  7\n",
      "number  8\n",
      "number  9\n",
      "number  10\n"
     ]
    }
   ],
   "source": [
    "user_input = int(input(\"pleas enter your number : \"))\n",
    "\n",
    "for num in range(user_input):\n",
    "    print(\"number \", num + 1)"
   ]
  },
  {
   "cell_type": "markdown",
   "metadata": {},
   "source": [
    "reverse number in python : "
   ]
  },
  {
   "cell_type": "code",
   "execution_count": 61,
   "metadata": {},
   "outputs": [
    {
     "name": "stdout",
     "output_type": "stream",
     "text": [
      "10\n",
      "9\n",
      "8\n",
      "7\n",
      "6\n",
      "5\n",
      "4\n",
      "3\n",
      "2\n",
      "1\n"
     ]
    }
   ],
   "source": [
    "# print(range(10,0, -1))\n",
    "for i in range(10, 0, -1):\n",
    "    print(i)"
   ]
  },
  {
   "cell_type": "markdown",
   "metadata": {},
   "source": [
    "## Enumerate\n",
    "این میاد هر چیز ایتربلی رو برای ما به شکل قابل شمارش و تکه تکه میکنه. مثلا میاد میگه که اقا ، کرکتر اول این استرینگ فلانه اینم ایندکسش. به همین آسونی"
   ]
  },
  {
   "cell_type": "code",
   "execution_count": 66,
   "metadata": {},
   "outputs": [
    {
     "name": "stdout",
     "output_type": "stream",
     "text": [
      "0 a\n",
      "1 b\n",
      "2 c\n"
     ]
    }
   ],
   "source": [
    "for a, b in enumerate(['a', 'b', 'c']):\n",
    "    print(a, b)"
   ]
  },
  {
   "cell_type": "code",
   "execution_count": 73,
   "metadata": {},
   "outputs": [
    {
     "name": "stdout",
     "output_type": "stream",
     "text": [
      "51\n"
     ]
    }
   ],
   "source": [
    "for index, item in enumerate(list(range(1, 100))):\n",
    "    if index == 50:\n",
    "        print(item)"
   ]
  },
  {
   "cell_type": "markdown",
   "metadata": {},
   "source": [
    "## While loop\n",
    "why we use else ? because if we use break in while loop , after that not show the else block."
   ]
  },
  {
   "cell_type": "code",
   "execution_count": null,
   "metadata": {},
   "outputs": [],
   "source": [
    "i = 0\n",
    "while i < 50:\n",
    "    print(i)\n",
    "    i += 1"
   ]
  },
  {
   "cell_type": "code",
   "execution_count": 80,
   "metadata": {},
   "outputs": [
    {
     "name": "stdout",
     "output_type": "stream",
     "text": [
      "Enter Correct Number !\n",
      "Enter Correct Number !\n",
      "Enter Correct Number !\n",
      "Enter Correct Number !\n",
      "Enter Correct Number !\n",
      "Enter Correct Number !\n",
      "Enter Correct Number !\n",
      "Enter Correct Number !\n",
      "Enter Correct Number !\n",
      "Enter Correct Number !\n",
      "Correct !\n",
      "Your Password is : 1234\n"
     ]
    }
   ],
   "source": [
    "user_input = int(input(\"enter 1 : \"))\n",
    "\n",
    "while user_input != 1:\n",
    "    user_input = int(input(\"enter 1 : \"))\n",
    "    print(\"Enter Correct Number !\")\n",
    "else:\n",
    "    print(\"Correct !\")\n",
    "    print(\"Your Password is : 1234\")"
   ]
  }
 ],
 "metadata": {
  "kernelspec": {
   "display_name": "Python 3",
   "language": "python",
   "name": "python3"
  },
  "language_info": {
   "codemirror_mode": {
    "name": "ipython",
    "version": 3
   },
   "file_extension": ".py",
   "mimetype": "text/x-python",
   "name": "python",
   "nbconvert_exporter": "python",
   "pygments_lexer": "ipython3",
   "version": "3.11.5"
  }
 },
 "nbformat": 4,
 "nbformat_minor": 2
}
