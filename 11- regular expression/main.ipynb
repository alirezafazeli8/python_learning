{
 "cells": [
  {
   "cell_type": "markdown",
   "metadata": {},
   "source": [
    "# Regular Expression\n",
    "\n",
    "رگولار ها مختص به پایتون نیستند البته که در همه زبان های برنامه نویسی وجود دارند.\n",
    "رگولار ها برای این کاربرد دارند که تکه متنی را درون استرینگی پیدا کنیم. مثلا یکی پسورد قوی نوشته یا ایمیلشو درست نوشته یا نه\n",
    "رگولار اکسپرشن به ما قابلیت های زیادی برای گشتن و جستجو در استرینگ  میده.\n",
    "\n",
    "- re module : \n",
    "  - .search()\n",
    "  این ماژول برای پیدا کردن یک استرینگ درون یک استرینگ دیگه هست که اطلاعاتی شامل ادرس اون استرینگ هستش.\n",
    "    - .search().span() : \n",
    "      ادرس استرینگ پیدا شده رو میده\n",
    "    - .search().start() : \n",
    "      - از کجا شروع میشه\n",
    "    - .search().end() : \n",
    "      - پایانش کجاست\n",
    "    - .search().group() :\n",
    "      - استرینگ پیدا شده چیه "
   ]
  },
  {
   "cell_type": "code",
   "execution_count": 11,
   "metadata": {},
   "outputs": [
    {
     "name": "stdout",
     "output_type": "stream",
     "text": [
      "<re.Match object; span=(17, 24), match='alireza'>\n",
      "17\n",
      "24\n",
      "alireza\n",
      "17\n",
      "24\n"
     ]
    }
   ],
   "source": [
    "import re\n",
    "\n",
    "sentence = 'Hello my name is alireza fazeli. are you alireza fazeli ? '\n",
    "search_text = re.search(\"alireza\", sentence)\n",
    "print(search_text)\n",
    "print(search_text.span()[0])\n",
    "print(search_text.span()[1])\n",
    "print(search_text.group())\n",
    "print(search_text.start())\n",
    "print(search_text.end())\n"
   ]
  },
  {
   "cell_type": "markdown",
   "metadata": {},
   "source": [
    "re.compile method : با استفاده از این متود ما میتونیم پترن های مختلف بسازیم و روی استرینگ کاوش کنیم و نسبت به متود سرچ قابلیت های بیشتری به ما میده.\n",
    "\n",
    "    - .search() : میره تکست مارو درون استرینگ پیدا میکنه\n",
    "    - .findall() : میره تمامی استرینگ هایی که برابر با تکست ما باشنو در قالب لیست پیدا میکنه و میاره\n",
    "    - .fullmatch() : این یعنی آیا تکست ما دقیقا برابر با استرینگی هستش که ما بهش دادیم؟\n",
    "    - .match() : این میاد میگه که ایا قسمتی از استرینگ من با پترن من یکی هستش یا نه\n"
   ]
  },
  {
   "cell_type": "code",
   "execution_count": 39,
   "metadata": {},
   "outputs": [
    {
     "name": "stdout",
     "output_type": "stream",
     "text": [
      "<re.Match object; span=(17, 24), match='alireza'>\n",
      "['alireza', 'alireza']\n",
      "None\n",
      "<re.Match object; span=(0, 5), match='salam'>\n",
      "Hello my name is alireza fazeli. are you alireza fazeli\n"
     ]
    }
   ],
   "source": [
    "import re\n",
    "\n",
    "sentence = \"Hello my name is alireza fazeli. are you alireza fazeli ? \"\n",
    "pattern = re.compile(\"alireza\")\n",
    "\n",
    "print(pattern.search(sentence))\n",
    "print(pattern.findall(sentence))\n",
    "\n",
    "print(pattern.fullmatch(sentence))\n",
    "print(re.compile(\"salam\").fullmatch(\"salam\"))\n",
    "\n",
    "print(\n",
    "    re.match(\n",
    "        \"Hello my name is alireza fazeli. are you alireza fazeli\",\n",
    "        \"Hello my name is alireza fazeli. are you alireza fazeli !!!dasdasdasdasdsdsadasdddsadasdsad jadyasdasdh\",\n",
    "    ).group()\n",
    ")"
   ]
  },
  {
   "cell_type": "markdown",
   "metadata": {},
   "source": [
    "regex101.com : این سایتی هستش که باهاش میتونیم رجکسامونو تست کنیم"
   ]
  },
  {
   "cell_type": "markdown",
   "metadata": {},
   "source": [
    "raw string : اگر قبل استرینگ حرف r انگلیسی رو بزاریم داریم به پایتون میفهمونیم که آقا هرچی داخل استرینگ هستشو استرینگ در نظر بگیر و از اسکیپ سکیونس ها استفاده نکن و کامپایل نکن."
   ]
  },
  {
   "cell_type": "markdown",
   "metadata": {},
   "source": [
    "### Password Checkers Exercise : "
   ]
  },
  {
   "cell_type": "code",
   "execution_count": 56,
   "metadata": {},
   "outputs": [
    {
     "name": "stdout",
     "output_type": "stream",
     "text": [
      "None\n"
     ]
    }
   ],
   "source": [
    "import re\n",
    "\n",
    "def password_checker(password):\n",
    "    # my pattern :\n",
    "    # pattern = re.compile(r\"^(?=.*\\d)(?=.*[a-z])(?=.*[A-Z]).{8,}$\")\n",
    "    # course pattern :\n",
    "    pattern = re.compile(r\"[A-Za-z0-9$%#@]{8, }\\d\")\n",
    "    check_password = pattern.fullmatch(password)\n",
    "\n",
    "    print(check_password)\n",
    "\n",
    "    if check_password:\n",
    "        return \"Password Is Strong\"\n",
    "    else:\n",
    "        return \"Password Is Weak\"\n",
    "\n",
    "# print(password_checker(\"Asasdadsads@88\"))\n",
    "\n",
    "\n",
    "p = re.compile(r\"[a-zA-Z0-9%$#@]\")\n",
    "check_password = re.fullmatch(p, \"Alireza@gmailcom88\")\n",
    "\n",
    "print(check_password)"
   ]
  },
  {
   "cell_type": "markdown",
   "metadata": {},
   "source": [
    "- \\d : all numbers between 0 - 9\n",
    "- \\D : none digits character\n",
    "- [A - Z] : uppercase letters\n",
    "- [a - z] : lowercase letters\n",
    "- [0 - 9] : numbers\n",
    "- (condition | condition | condition ) : you can use if statement in regex\n"
   ]
  },
  {
   "cell_type": "code",
   "execution_count": 51,
   "metadata": {},
   "outputs": [
    {
     "name": "stdout",
     "output_type": "stream",
     "text": [
      "None\n"
     ]
    }
   ],
   "source": [
    "import re\n",
    "\n",
    "p = re.compile(r\"[a-zA-Z0-9]+@[a-zA-Z0-9]+\\.(com|ir|dev)\")\n",
    "print(re.fullmatch(p, \"alireza@gmail.iran\"))"
   ]
  }
 ],
 "metadata": {
  "kernelspec": {
   "display_name": "base",
   "language": "python",
   "name": "python3"
  },
  "language_info": {
   "codemirror_mode": {
    "name": "ipython",
    "version": 3
   },
   "file_extension": ".py",
   "mimetype": "text/x-python",
   "name": "python",
   "nbconvert_exporter": "python",
   "pygments_lexer": "ipython3",
   "version": "3.12.4"
  }
 },
 "nbformat": 4,
 "nbformat_minor": 2
}
