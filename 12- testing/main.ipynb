{
 "cells": [
  {
   "cell_type": "markdown",
   "metadata": {},
   "source": [
    "# Testing : \n",
    "وقتی ما شروع میکنیم یا کار میکنیم روی پروژه های بزرگ با صد ها هزار خط کد ممکنه با باگ هایی مواجه بشیم یاشرکتی برنامه نویس هایی رو استخدام میکنه که روی پروژشون کار بکنه و این برنامه نویس تازه کاره و روی کد های قدیمی کار میکنه و طرز فکر و شیوه کدزنی متفاوتی رو داره یا کدی رو مینویسیم که ممکنه جای دیگری از برناممون رو خراب بکنه. برای جلوگیری از این بروز چنین مشکل هایی هستش که تست نویسی به کمک ما میاد.\n",
    "تست نویسی روشی هستش که فانکشن ها و ماژول های مارو تست میکنه که ببینه به درستی کار میکنه؟ چه خروجی هایی رو داره؟\n",
    "تست نویسی به شدت در کاریابی مهمه. چون تمامی شرکت های بزرگ تست نویسی میکنن و از شما به عنوان برنامه نویس میخوان که تست نویسی بکنین"
   ]
  },
  {
   "cell_type": "markdown",
   "metadata": {},
   "source": [
    "---\n",
    "\n",
    " > در تست نویسی هر فایل ، فایل تست جداگانه خودشو داره\n",
    "\n",
    " ## unittest module : \n",
    " این ماژولی هستش که ما باهاش تست نویسی رو انجام میدیم\n",
    " "
   ]
  },
  {
   "cell_type": "markdown",
   "metadata": {},
   "source": [
    "---\n",
    "\n",
    "نمونه ای از یونیت تست نویسی : \n",
    "\n",
    "```py\n",
    "\n",
    "import unittest\n",
    "import main\n",
    "\n",
    "\n",
    "class TestMain(unittest.TestCase):\n",
    "    def test_do_stuff(self):\n",
    "        test_param = 8\n",
    "        result = main.do_stuff(test_param)\n",
    "        self.assertEqual(result, 13)\n",
    "\n",
    "\n",
    "unittest.main()\n",
    "\n",
    "```"
   ]
  },
  {
   "cell_type": "markdown",
   "metadata": {},
   "source": [
    "> باید اول اسم ماژول هامون با  test شروع بشه. غیر اون تست ما کار نمیکنه"
   ]
  },
  {
   "cell_type": "markdown",
   "metadata": {},
   "source": [
    "> بعد از اینکه تست های ما رد شد ، باید فانکشن خودمونو بهتر بکنیم و ارور های مربوط به دلیل رد شدن رو فیکش بکنیم تا زمانی که فانکشن یا کد ما تستش تایید بشه"
   ]
  },
  {
   "cell_type": "markdown",
   "metadata": {},
   "source": [
    "> یونیت تست به زبان ساده یعنی تست کردن فانکشن یا کلاس ها و بهبود آنها"
   ]
  },
  {
   "cell_type": "markdown",
   "metadata": {},
   "source": [
    "## unittest methods : \n",
    "- .assertEqual(a, b) : این متود کارش اینه که تست میکنه آیا دو پارامتر مقادیرشون باهم برابر هست یا نه\n",
    "- .assertTrue() - assertFalse() : تست میکنن که آیا پارامتر ما مقدارش ترو هست یا فالس\n",
    "- .assertRaises(TypeError, module, result) : این تست میکنه که آیا ماژول ما اون ارور مد نظر ما را بر میگردونه یا نه. \n",
    "- .assertIsInstance(a, b) : این میاد تست میکنه که پارامتر اولی آیا از پارامتر دومی ارث برده شده یا نه"
   ]
  },
  {
   "cell_type": "markdown",
   "metadata": {},
   "source": [
    "## setUp method : \n",
    "میتونیم درون این متود هر کاری خواستیم رو بهش بدیم و این میاد با هربار تستی که ران میشه اینم کنارش ران میشه و دستورات رو انجام میده\n",
    "\n",
    "> setUp and tearDown are optional methods to help you setup and well.. tear down the testing environment. They are commonly used to, for example, create and remove temporary folders to store output or setup a (mocked) database-connection during tests\n",
    "\n",
    "## tearDown method : \n",
    "این متود در پایان هر تست متودی که نوشته شده اجرا میشه. مثلا در ست اپ یک متغیر هایی ساخته میشه در متود تست ، تست میشن و در تیرداون هم اون متغیر ها حذف میشن"
   ]
  },
  {
   "cell_type": "markdown",
   "metadata": {},
   "source": [
    "> The idea is to write to good quality tests that cover most of your cases"
   ]
  }
 ],
 "metadata": {
  "language_info": {
   "name": "python"
  }
 },
 "nbformat": 4,
 "nbformat_minor": 2
}
