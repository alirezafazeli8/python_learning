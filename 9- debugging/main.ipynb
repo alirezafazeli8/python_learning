{
 "cells": [
  {
   "cell_type": "markdown",
   "metadata": {},
   "source": [
    "# Debugging in python : \n",
    "\n",
    "- linting  : در پایتون یا از ide استفاده کنیم یا اکستنشن های مخصوص اون زبان در کد ادیتور ها که در همان اول نوشتن کد اگر مشکل سینتکسی داشتم به ما ارور بده تا از باگ جلوگیری بکنیم.\n",
    "\n",
    "- Use IDE : از ide استفاده کنید چونکه یک پکیج کاملی از ابزار های پایتونه که در همون مرحله اول اگر اروری داشته باشیم به ما نشون میده یا جلوگیری میکنه.\n",
    "- Read Error : از ارور ها درس بگیرید و نوع ارور هارو بشناسید\n",
    "- PDB (python debug) : این یک ماژول بیلت این در پایتون هستش. با استفاده از این ماژول به راحتی و با قابلیت های بیشتر میشه کدمونو دیباگ کنیم.\n",
    "    - .set_trace() : ما اینو در هرجایی از کدمون که مشکل داره یا میخوایم ببینیم که چه اتفاقی داره میوفته ران میکنیم و بعد اون از جایی که کد پایتونی شروع میشه ران شدن تا جایی که میرسه به اون قطعه کد ما که گفتیم اونجارو چک کن اون خط به خط به ما میگه که چه اتفاقی داره میوفته.\n",
    "    - pdb console : بعد از فراخوانی pdb توی کنسول به دسترسی میده.\n",
    "        ما با فراخانی هر متغیری در کنسول میتونیم ببینیم محتواهاش چیه و چی قرار گرفته در اون لحظه\n",
    "\n",
    "        - step : با استفاده از این دستور ما میتونیم کدمونو خط به خط ران بکنیم و ببینیم دقیق چه اتفاقی میوفته.\n",
    "        - continue : هرجایی از کد باشیم وقتی تو دیباگر اینو بنویسیم کد مارو تا جایی که ارور هست ران میکنه"
   ]
  },
  {
   "cell_type": "code",
   "execution_count": 1,
   "metadata": {},
   "outputs": [
    {
     "name": "stdout",
     "output_type": "stream",
     "text": [
      "> \u001b[1;32mc:\\users\\alireza\\appdata\\local\\temp\\ipykernel_4900\\3231121343.py\u001b[0m(5)\u001b[0;36msum\u001b[1;34m()\u001b[0m\n",
      "\n"
     ]
    }
   ],
   "source": [
    "import pdb\n",
    "\n",
    "def sum(v1, v2):\n",
    "    pdb.set_trace()\n",
    "    return v1 + v2\n",
    "\n",
    "print(sum(\"a\", 2))"
   ]
  }
 ],
 "metadata": {
  "kernelspec": {
   "display_name": "base",
   "language": "python",
   "name": "python3"
  },
  "language_info": {
   "codemirror_mode": {
    "name": "ipython",
    "version": 3
   },
   "file_extension": ".py",
   "mimetype": "text/x-python",
   "name": "python",
   "nbconvert_exporter": "python",
   "pygments_lexer": "ipython3",
   "version": "3.12.4"
  }
 },
 "nbformat": 4,
 "nbformat_minor": 2
}
