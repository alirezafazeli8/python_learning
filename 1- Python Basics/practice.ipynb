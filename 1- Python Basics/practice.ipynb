{
 "cells": [
  {
   "cell_type": "code",
   "execution_count": 5,
   "metadata": {},
   "outputs": [
    {
     "name": "stdout",
     "output_type": "stream",
     "text": [
      "['alireza', 'sasan', 'sara', 'saman', 'reza', 'ahmad']\n",
      "['rajab', 'sasan', 'sara', 'saman', 'reza', 'ahmad']\n"
     ]
    }
   ],
   "source": [
    "names = [\"alireza\", \"sasan\", \"sara\", \"saman\", \"reza\", \"ahmad\"]\n",
    "\n",
    "# names_two = names[:]\n",
    "names_two = names.copy()\n",
    "\n",
    "names_two[0] = \"rajab\"\n",
    "print(names)\n",
    "print(names_two)\n",
    "\n",
    "\n",
    "# print(names[1:4])\n"
   ]
  },
  {
   "cell_type": "code",
   "execution_count": 2,
   "metadata": {},
   "outputs": [],
   "source": [
    "names = [\"alireza\", \"sasan\", \"sara\", \"saman\", \"reza\", \"ahmad\", \"sara\"]\n",
    "teachers = [\"Javanmard\", \"fazeli\", \"mohseni\"]\n",
    "num = [2, 3, 4, 6, 1, 10, 9, 7]\n",
    "\n",
    "# names.append(\"new_name\")\n",
    "# names.insert(5, \"mohammad\")\n",
    "# names.extend(teachers)\n",
    "# names.pop()\n",
    "# names.pop()\n",
    "# names.pop()\n",
    "# teachers.remove(\"Javanmard\")\n",
    "# teachers.clear()\n",
    "\n",
    "# print(teachers)"
   ]
  },
  {
   "cell_type": "code",
   "execution_count": 5,
   "metadata": {},
   "outputs": [
    {
     "name": "stdout",
     "output_type": "stream",
     "text": [
      "[2, 3, 4, 6, 1, 10, 9, 7]\n",
      "[1, 2, 3, 4, 6, 7, 9, 10]\n",
      "[10, 9, 7, 6, 4, 3, 2, 1]\n"
     ]
    }
   ],
   "source": [
    "# print(names.index(\"sara\", 3))\n",
    "# print(names.count(\"sara\"))\n",
    "# num.sort()\n",
    "# names.sort()\n",
    "# print(names)\n",
    "# print(num)\n",
    "\n",
    "\n",
    "\n",
    "new_sorted_num = sorted(num)\n",
    "print(num)\n",
    "# print(num)\n",
    "print(new_sorted_num)\n",
    "new_sorted_num.reverse()\n",
    "print(new_sorted_num)"
   ]
  },
  {
   "cell_type": "code",
   "execution_count": 8,
   "metadata": {},
   "outputs": [
    {
     "name": "stdout",
     "output_type": "stream",
     "text": [
      "alireza\n",
      "sasan\n",
      "sara\n",
      "['saman', 'reza', 'ahmad', 'sara']\n"
     ]
    }
   ],
   "source": [
    "user_one, user_two, user_three, *another_users = [\"alireza\", \"sasan\", \"sara\", \"saman\", \"reza\", \"ahmad\", \"sara\"]\n",
    "\n",
    "print(user_one)\n",
    "print(user_two)\n",
    "print(user_three)\n",
    "print(another_users)\n",
    "\n",
    "# print(\"alirezaa\" in names)"
   ]
  },
  {
   "cell_type": "code",
   "execution_count": 26,
   "metadata": {},
   "outputs": [
    {
     "name": "stdout",
     "output_type": "stream",
     "text": [
      "{'first_name': 'alireza', 'last_name': 'fazeli', 'age': 20, 'friends': ['mohammad', 'javad', 'amir', 'ali'], 'phone': 1134725}\n"
     ]
    }
   ],
   "source": [
    "user_information = {\n",
    "    \"first_name\": \"alireza\",\n",
    "    \"last_name\": \"fazeli\",\n",
    "    \"age\": 19,\n",
    "    \"friends\": [\"mohammad\", \"javad\", 'amir', \"ali\"]\n",
    "}\n",
    "\n",
    "# user_info = user_information.items()\n",
    "# for item in user_info:\n",
    "#     print(f'''\\n\n",
    "#            ( {item[0]} : {item[1]} )\n",
    "          \n",
    "#           ''')\n",
    "\n",
    "# # print(user_information.get(\"age\"))\n",
    "# # print(user_information.keys())\n",
    "# # print(user_information.values())\n",
    "# print(user_information.items())\n",
    "\n",
    "# user_information.pop(\"age\")\n",
    "# user_information.popitem()\n",
    "# user_information.update(age=20)\n",
    "# user_information.update(phone=1134725)\n",
    "\n",
    "# print(user_information)"
   ]
  },
  {
   "cell_type": "code",
   "execution_count": 27,
   "metadata": {},
   "outputs": [
    {
     "name": "stdout",
     "output_type": "stream",
     "text": [
      "{'name': 'benz', 'country': 'germany', 'color': 'red'}\n"
     ]
    }
   ],
   "source": [
    "car = dict(name=\"benz\", country=\"germany\", color=\"red\")\n",
    "\n",
    "print(car)"
   ]
  },
  {
   "cell_type": "code",
   "execution_count": 29,
   "metadata": {},
   "outputs": [
    {
     "name": "stdout",
     "output_type": "stream",
     "text": [
      "3.2832\n"
     ]
    }
   ],
   "source": [
    "geolocation = (3.2832, 4.9810)\n",
    "\n",
    "# geolocation[0] = 2.672\n",
    "\n",
    "print(geolocation[0])"
   ]
  },
  {
   "cell_type": "code",
   "execution_count": 34,
   "metadata": {},
   "outputs": [
    {
     "name": "stdout",
     "output_type": "stream",
     "text": [
      "{1, 2, 3, 4, 5, 78}\n"
     ]
    }
   ],
   "source": [
    "my_set = {1, 1, 1, 2, 3, 3, 3,4, 5}\n",
    "my_set.add(78)\n",
    "\n",
    "# print(my_set[1])\n",
    "print(my_set)"
   ]
  },
  {
   "cell_type": "code",
   "execution_count": 10,
   "metadata": {},
   "outputs": [
    {
     "name": "stdout",
     "output_type": "stream",
     "text": [
      "{1, 2, 3, 4, 5, 6, 7, 8}\n"
     ]
    }
   ],
   "source": [
    "set_one = {1, 2, 3, 4}\n",
    "set_two = {5, 6, 7, 8}\n",
    "\n",
    "# print(set_one.difference(set_two))\n",
    "# set_two.discard(5)\n",
    "# print(set_two)\n",
    "# set_one.difference_update(set_two)\n",
    "# print(set_one)\n",
    "\n",
    "all_sets = set_one.union(set_two)\n",
    "\n",
    "print(all_sets)"
   ]
  }
 ],
 "metadata": {
  "kernelspec": {
   "display_name": "Python 3",
   "language": "python",
   "name": "python3"
  },
  "language_info": {
   "codemirror_mode": {
    "name": "ipython",
    "version": 3
   },
   "file_extension": ".py",
   "mimetype": "text/x-python",
   "name": "python",
   "nbconvert_exporter": "python",
   "pygments_lexer": "ipython3",
   "version": "3.11.5"
  }
 },
 "nbformat": 4,
 "nbformat_minor": 2
}
