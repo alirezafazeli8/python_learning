{
 "cells": [
  {
   "cell_type": "markdown",
   "metadata": {},
   "source": [
    "# Python Objects and Data Structure Basics"
   ]
  },
  {
   "cell_type": "markdown",
   "metadata": {},
   "source": [
    "## Python Data Types\n",
    "\n",
    "- int\n",
    "- float\n",
    "- str\n",
    "- list\n",
    "- dict\n",
    "- tuples\n",
    "- set\n",
    "- bool"
   ]
  },
  {
   "cell_type": "markdown",
   "metadata": {},
   "source": [
    "# INT"
   ]
  },
  {
   "cell_type": "code",
   "execution_count": 2,
   "metadata": {},
   "outputs": [
    {
     "data": {
      "text/plain": [
       "2"
      ]
     },
     "execution_count": 2,
     "metadata": {},
     "output_type": "execute_result"
    }
   ],
   "source": [
    "1 + 1"
   ]
  },
  {
   "cell_type": "code",
   "execution_count": 3,
   "metadata": {},
   "outputs": [
    {
     "data": {
      "text/plain": [
       "1"
      ]
     },
     "execution_count": 3,
     "metadata": {},
     "output_type": "execute_result"
    }
   ],
   "source": [
    "\n",
    "2 - 1"
   ]
  },
  {
   "cell_type": "code",
   "execution_count": 4,
   "metadata": {},
   "outputs": [
    {
     "data": {
      "text/plain": [
       "4"
      ]
     },
     "execution_count": 4,
     "metadata": {},
     "output_type": "execute_result"
    }
   ],
   "source": [
    "2*2"
   ]
  },
  {
   "cell_type": "code",
   "execution_count": 5,
   "metadata": {},
   "outputs": [
    {
     "data": {
      "text/plain": [
       "3.0"
      ]
     },
     "execution_count": 5,
     "metadata": {},
     "output_type": "execute_result"
    }
   ],
   "source": [
    "6 / 2"
   ]
  },
  {
   "cell_type": "code",
   "execution_count": 8,
   "metadata": {},
   "outputs": [
    {
     "data": {
      "text/plain": [
       "1"
      ]
     },
     "execution_count": 8,
     "metadata": {},
     "output_type": "execute_result"
    }
   ],
   "source": [
    "6 % 5"
   ]
  },
  {
   "cell_type": "code",
   "execution_count": 8,
   "metadata": {},
   "outputs": [
    {
     "data": {
      "text/plain": [
       "8"
      ]
     },
     "execution_count": 8,
     "metadata": {},
     "output_type": "execute_result"
    }
   ],
   "source": [
    "2 ** 3"
   ]
  },
  {
   "cell_type": "markdown",
   "metadata": {},
   "source": [
    "#the floor division // rounds the result down to the nearest whole number\n"
   ]
  },
  {
   "cell_type": "code",
   "execution_count": 12,
   "metadata": {},
   "outputs": [
    {
     "data": {
      "text/plain": [
       "2.0"
      ]
     },
     "execution_count": 12,
     "metadata": {},
     "output_type": "execute_result"
    }
   ],
   "source": [
    "6 // 3"
   ]
  },
  {
   "cell_type": "code",
   "execution_count": 1,
   "metadata": {},
   "outputs": [
    {
     "data": {
      "text/plain": [
       "2410"
      ]
     },
     "execution_count": 1,
     "metadata": {},
     "output_type": "execute_result"
    }
   ],
   "source": [
    "(2 + 8) + (20 * 20) * (2 * 3)"
   ]
  },
  {
   "cell_type": "markdown",
   "metadata": {},
   "source": [
    "# Math Functions"
   ]
  },
  {
   "cell_type": "markdown",
   "metadata": {},
   "source": [
    "### round()\n",
    "#### makes round a number for us"
   ]
  },
  {
   "cell_type": "code",
   "execution_count": 15,
   "metadata": {},
   "outputs": [
    {
     "name": "stdout",
     "output_type": "stream",
     "text": [
      "2\n",
      "2\n",
      "3\n"
     ]
    }
   ],
   "source": [
    "print(round(2.1))\n",
    "print(round(2.5))\n",
    "print(round(2.6))"
   ]
  },
  {
   "cell_type": "markdown",
   "metadata": {},
   "source": [
    "# abs()\n",
    "Return the absolute value of a number"
   ]
  },
  {
   "cell_type": "markdown",
   "metadata": {},
   "source": [
    "with abs we can see the real value of complex number"
   ]
  },
  {
   "cell_type": "code",
   "execution_count": 2,
   "metadata": {},
   "outputs": [
    {
     "name": "stdout",
     "output_type": "stream",
     "text": [
      "1\n",
      "1\n",
      "1.5\n",
      "5.830951894845301\n"
     ]
    }
   ],
   "source": [
    "print(abs(+1))\n",
    "print(abs(-1))\n",
    "print(abs(-1.5))\n",
    "print(abs(3+5j)) # complex value"
   ]
  },
  {
   "cell_type": "markdown",
   "metadata": {},
   "source": [
    "# int()\n",
    "its make string number to real int type and float number to real int type.\n"
   ]
  },
  {
   "cell_type": "code",
   "execution_count": 6,
   "metadata": {},
   "outputs": [
    {
     "name": "stdout",
     "output_type": "stream",
     "text": [
      "8\n",
      "8\n",
      "<class 'int'>\n",
      "<class 'int'>\n"
     ]
    }
   ],
   "source": [
    "numberOne = '8'\n",
    "numberTwo = 8.6\n",
    "\n",
    "print(int(numberOne))\n",
    "print(int(numberTwo))\n",
    "print(type(int(numberOne)))\n",
    "print(type(int(numberTwo)))"
   ]
  },
  {
   "cell_type": "markdown",
   "metadata": {},
   "source": [
    "# float()\n",
    "its make string float to real float type and  int to real float type.\n"
   ]
  },
  {
   "cell_type": "code",
   "execution_count": 8,
   "metadata": {},
   "outputs": [
    {
     "name": "stdout",
     "output_type": "stream",
     "text": [
      "8.0\n",
      "8.0\n",
      "<class 'float'>\n",
      "<class 'float'>\n"
     ]
    }
   ],
   "source": [
    "numberOne = \"8\"\n",
    "numberTwo = 8\n",
    "\n",
    "print(float(numberOne))\n",
    "print(float(numberTwo))\n",
    "print(type(float(numberOne)))\n",
    "print(type(float(numberTwo)))"
   ]
  },
  {
   "cell_type": "markdown",
   "metadata": {},
   "source": [
    "# Operator Precedence\n",
    "> Precedence = تقدم\n",
    "1. ()\n",
    "2. **\n",
    "3. `*`\n",
    "4. /\n",
    "5. `+`\n",
    "6. `-`"
   ]
  },
  {
   "cell_type": "code",
   "execution_count": 3,
   "metadata": {},
   "outputs": [
    {
     "name": "stdout",
     "output_type": "stream",
     "text": [
      "30.5\n"
     ]
    }
   ],
   "source": [
    "print((2+2) * 6 + 7 - 2 / 2 ** 2)"
   ]
  },
  {
   "cell_type": "markdown",
   "metadata": {},
   "source": [
    "# Variable Assignment \n",
    "\n",
    "> Note : python is dynamic type\n",
    "> python variable name type should be snake case\n",
    ">> pros and cons = مزایا و معایب\n",
    ">>> aware of = آگاهی از"
   ]
  },
  {
   "cell_type": "code",
   "execution_count": 6,
   "metadata": {},
   "outputs": [],
   "source": [
    "user_name = \"Alireza\"\n",
    "user_id = 140264\n",
    "user_books = [\"lex\", \"ilon musk\", \"learning python\"]"
   ]
  },
  {
   "cell_type": "markdown",
   "metadata": {},
   "source": [
    "snake case variable : "
   ]
  },
  {
   "cell_type": "code",
   "execution_count": 10,
   "metadata": {},
   "outputs": [
    {
     "data": {
      "text/plain": [
       "'Alireza'"
      ]
     },
     "execution_count": 10,
     "metadata": {},
     "output_type": "execute_result"
    }
   ],
   "source": [
    "user_name"
   ]
  },
  {
   "cell_type": "markdown",
   "metadata": {},
   "source": [
    "# Constant Variable\n",
    "for write constant variable we should write constant variable letter to uppercase and seprate them with underline like this : \n",
    "- PI \n",
    "- USERNAME\n",
    "- USER_ID\n",
    "- PHONE_NUMBER"
   ]
  },
  {
   "cell_type": "code",
   "execution_count": 12,
   "metadata": {},
   "outputs": [
    {
     "name": "stdout",
     "output_type": "stream",
     "text": [
      "Your unique user id is : 8882457\n"
     ]
    }
   ],
   "source": [
    "USER_ID = 8882457\n",
    "print(f\"Your unique user id is : {USER_ID}\")\n"
   ]
  },
  {
   "cell_type": "markdown",
   "metadata": {},
   "source": [
    "### Type() : this function allow us to know what is our variable type."
   ]
  },
  {
   "cell_type": "code",
   "execution_count": 12,
   "metadata": {},
   "outputs": [
    {
     "name": "stdout",
     "output_type": "stream",
     "text": [
      "<class 'int'>\n",
      "<class 'str'>\n",
      "<class 'list'>\n",
      "<class 'float'>\n"
     ]
    }
   ],
   "source": [
    "a = 8\n",
    "b = \"saman\"\n",
    "c = [\"a\", \"b\", \"c\"]\n",
    "d = 3.5\n",
    "\n",
    "print(type(a))\n",
    "print(type(b))\n",
    "print(type(c))\n",
    "print(type(d))"
   ]
  },
  {
   "cell_type": "markdown",
   "metadata": {},
   "source": [
    "# Expression vs. Statement\n",
    "\n",
    "Expression : the peace of code that produce a value."
   ]
  },
  {
   "cell_type": "code",
   "execution_count": 13,
   "metadata": {},
   "outputs": [],
   "source": [
    "2 * 2 # Expression"
   ]
  },
  {
   "cell_type": "markdown",
   "metadata": {},
   "source": [
    "> perform : اجرا کردن ،‌به جا آوردن"
   ]
  },
  {
   "cell_type": "markdown",
   "metadata": {},
   "source": [
    "Statement : Entire line of code that perform some action."
   ]
  },
  {
   "cell_type": "code",
   "execution_count": 14,
   "metadata": {},
   "outputs": [],
   "source": [
    "do_math = 2 * 2 # this is statement"
   ]
  },
  {
   "cell_type": "markdown",
   "metadata": {},
   "source": [
    "### Mini Project (calculate Tax)"
   ]
  },
  {
   "cell_type": "code",
   "execution_count": 15,
   "metadata": {},
   "outputs": [
    {
     "name": "stdout",
     "output_type": "stream",
     "text": [
      "You should pay 10.0$\n"
     ]
    }
   ],
   "source": [
    "user_income = int(input(\"Pleas Enter Your Income : \"))\n",
    "state_tax = 0.01\n",
    "calculate_tax = user_income * state_tax\n",
    "\n",
    "print(f'You should pay {calculate_tax}$')"
   ]
  },
  {
   "cell_type": "markdown",
   "metadata": {},
   "source": [
    "# Augmented Assignment Operator"
   ]
  },
  {
   "cell_type": "code",
   "execution_count": 19,
   "metadata": {},
   "outputs": [
    {
     "name": "stdout",
     "output_type": "stream",
     "text": [
      "16\n"
     ]
    }
   ],
   "source": [
    "some_value = 8\n",
    "# some_value += 8\n",
    "# some_value -= 2\n",
    "# some_value /= 2\n",
    "some_value *= 2\n",
    "\n",
    "print(some_value)"
   ]
  },
  {
   "cell_type": "markdown",
   "metadata": {},
   "source": [
    "# String\n",
    "> Note : Because string are ordered sequences it means we can using indexing and slicing to grab sub-sections of the string.\n",
    "> Indexing notation uses [] notation after string (or variable assigned the string)\n",
    "> Indexing allows you to grab a single character from the string.\n",
    "\n",
    "> notation : نشانه گذاری\n",
    "\n",
    "![](../image/string_index.png)"
   ]
  },
  {
   "cell_type": "code",
   "execution_count": 38,
   "metadata": {},
   "outputs": [
    {
     "name": "stdout",
     "output_type": "stream",
     "text": [
      "Hello This is Alireza\n",
      "Hello This is Alireza\n",
      "\n",
      "    hello This is alireza\n",
      "    fazeli in this code\n",
      "\n",
      "\n",
      "this is 'alireza' \n",
      "\n",
      "\n",
      "    this is\n",
      "    alireza \n",
      "    fazeli\n",
      "\n",
      "\n"
     ]
    }
   ],
   "source": [
    "print(\"Hello This is Alireza\")\n",
    "\n",
    "print('Hello This is Alireza')\n",
    "\n",
    "print(\"\"\"\n",
    "    hello This is alireza\n",
    "    fazeli in this code\n",
    "\n",
    "\"\"\")\n",
    "\n",
    "print(\"this is 'alireza' \")\n",
    "\n",
    "\n",
    "print('''\n",
    "\n",
    "    this is\n",
    "    alireza \n",
    "    fazeli\n",
    "\n",
    "''')"
   ]
  },
  {
   "cell_type": "markdown",
   "metadata": {},
   "source": [
    "# String Concatenation\n",
    "\n",
    "> we cant concat string with int. first we should convert str to int\n",
    "> \n",
    "> concatenation : الحاق"
   ]
  },
  {
   "cell_type": "code",
   "execution_count": null,
   "metadata": {},
   "outputs": [
    {
     "name": "stdout",
     "output_type": "stream",
     "text": [
      "Hi alirezafazeli. You last password is : 1234 . Pleas be safe !\n"
     ]
    }
   ],
   "source": [
    "user_name = \"alirezafazeli\"\n",
    "password = \"1234\"\n",
    "\n",
    "msg_server = \"Hi \" + user_name + \". You last password is : \" + password + \" . Pleas be safe !\"\n",
    "\n",
    "print(msg_server)\n"
   ]
  },
  {
   "cell_type": "markdown",
   "metadata": {},
   "source": [
    "# Escape Sequence"
   ]
  },
  {
   "cell_type": "markdown",
   "metadata": {},
   "source": [
    "### \\n : this is in the string make new line."
   ]
  },
  {
   "cell_type": "code",
   "execution_count": 39,
   "metadata": {},
   "outputs": [
    {
     "name": "stdout",
     "output_type": "stream",
     "text": [
      "Hi Guys. \n",
      " How You Doing Today? \n",
      " tell me more.\n"
     ]
    }
   ],
   "source": [
    "print(\"Hi Guys. \\n How You Doing Today? \\n tell me more.\")"
   ]
  },
  {
   "cell_type": "markdown",
   "metadata": {},
   "source": [
    "### \\t : this make tab for us in text."
   ]
  },
  {
   "cell_type": "code",
   "execution_count": 41,
   "metadata": {},
   "outputs": [
    {
     "name": "stdout",
     "output_type": "stream",
     "text": [
      "hi \t alireza. \t shut up\n"
     ]
    }
   ],
   "source": [
    "print(\"hi \\t alireza. \\t shut up\")"
   ]
  },
  {
   "cell_type": "markdown",
   "metadata": {},
   "source": [
    "\\ : everything after this would be a string."
   ]
  },
  {
   "cell_type": "code",
   "execution_count": 29,
   "metadata": {},
   "outputs": [
    {
     "name": "stdout",
     "output_type": "stream",
     "text": [
      "\\t hi \" \n"
     ]
    }
   ],
   "source": [
    "text = \"\\\\t hi \\\" \"\n",
    "print(text)"
   ]
  },
  {
   "cell_type": "markdown",
   "metadata": {},
   "source": [
    "## len() : len function count the string and array item length."
   ]
  },
  {
   "cell_type": "code",
   "execution_count": 43,
   "metadata": {},
   "outputs": [
    {
     "name": "stdout",
     "output_type": "stream",
     "text": [
      "7\n",
      "4\n"
     ]
    }
   ],
   "source": [
    "name = \"alireza\"\n",
    "print(len(name))\n",
    "\n",
    "names = [\"alireza\", \"sara\", \"sasan\", \"arash\"]\n",
    "print(len(names))"
   ]
  },
  {
   "cell_type": "markdown",
   "metadata": {},
   "source": [
    "# Slice String \n",
    "### : slicing allows you to grab a subsection of multiple characters, a \"slice\" of the string.\n",
    "\n",
    "[start:stop:step]"
   ]
  },
  {
   "cell_type": "code",
   "execution_count": 1,
   "metadata": {},
   "outputs": [
    {
     "name": "stdout",
     "output_type": "stream",
     "text": [
      "Aiea\n",
      "Alireza Fazeli\n"
     ]
    }
   ],
   "source": [
    "full_name = \"Alireza Fazeli\"\n",
    "\n",
    "print(full_name[0:7:2])\n",
    "print(full_name[::1])"
   ]
  },
  {
   "cell_type": "code",
   "execution_count": 4,
   "metadata": {},
   "outputs": [
    {
     "data": {
      "text/plain": [
       "'Fazeli'"
      ]
     },
     "execution_count": 4,
     "metadata": {},
     "output_type": "execute_result"
    }
   ],
   "source": [
    "full_name[8:]"
   ]
  },
  {
   "cell_type": "code",
   "execution_count": 9,
   "metadata": {},
   "outputs": [
    {
     "name": "stdout",
     "output_type": "stream",
     "text": [
      "ilezaF azerilA\n"
     ]
    }
   ],
   "source": [
    "# full_name[:7]\n",
    "print(full_name[::-1])"
   ]
  },
  {
   "cell_type": "markdown",
   "metadata": {},
   "source": [
    "# String \n",
    "> Strings are not mutable. they're immutable"
   ]
  },
  {
   "cell_type": "code",
   "execution_count": 10,
   "metadata": {},
   "outputs": [
    {
     "ename": "TypeError",
     "evalue": "'str' object does not support item assignment",
     "output_type": "error",
     "traceback": [
      "\u001b[1;31m---------------------------------------------------------------------------\u001b[0m",
      "\u001b[1;31mTypeError\u001b[0m                                 Traceback (most recent call last)",
      "\u001b[1;32md:\\02_code\\MAINSRC\\GITHUB\\python_learning\\1- python objects and data structure basics\\main.ipynb Cell 32\u001b[0m line \u001b[0;36m2\n\u001b[0;32m      <a href='vscode-notebook-cell:/d%3A/02_code/MAINSRC/GITHUB/python_learning/1-%20python%20objects%20and%20data%20structure%20basics/main.ipynb#X43sZmlsZQ%3D%3D?line=0'>1</a>\u001b[0m name \u001b[39m=\u001b[39m \u001b[39m\"\u001b[39m\u001b[39mSasan\u001b[39m\u001b[39m\"\u001b[39m\n\u001b[1;32m----> <a href='vscode-notebook-cell:/d%3A/02_code/MAINSRC/GITHUB/python_learning/1-%20python%20objects%20and%20data%20structure%20basics/main.ipynb#X43sZmlsZQ%3D%3D?line=1'>2</a>\u001b[0m name[\u001b[39m2\u001b[39;49m] \u001b[39m=\u001b[39m \u001b[39m\"\u001b[39m\u001b[39mm\u001b[39m\u001b[39m\"\u001b[39m\n\u001b[0;32m      <a href='vscode-notebook-cell:/d%3A/02_code/MAINSRC/GITHUB/python_learning/1-%20python%20objects%20and%20data%20structure%20basics/main.ipynb#X43sZmlsZQ%3D%3D?line=3'>4</a>\u001b[0m \u001b[39mprint\u001b[39m(name)\n",
      "\u001b[1;31mTypeError\u001b[0m: 'str' object does not support item assignment"
     ]
    }
   ],
   "source": [
    "name = \"Sasan\"\n",
    "name[2] = \"m\"\n",
    "\n",
    "print(name)"
   ]
  },
  {
   "cell_type": "markdown",
   "metadata": {},
   "source": [
    "# Str()\n",
    "with this method we can convert everythings to string"
   ]
  },
  {
   "cell_type": "code",
   "execution_count": 27,
   "metadata": {},
   "outputs": [
    {
     "name": "stdout",
     "output_type": "stream",
     "text": [
      "<class 'int'>\n",
      "<class 'list'>\n",
      "<class 'str'>\n",
      "<class 'str'>\n"
     ]
    }
   ],
   "source": [
    "user_id = 1345454354\n",
    "names = ['sara', 'mohsen', 'ali', 'javad']\n",
    "print(type(user_id))\n",
    "print(type(names))\n",
    "\n",
    "user_id = str(user_id)\n",
    "names = str(names)\n",
    "\n",
    "print(type(user_id))\n",
    "print(type(names))\n"
   ]
  },
  {
   "cell_type": "markdown",
   "metadata": {},
   "source": [
    "# Formatted String"
   ]
  },
  {
   "cell_type": "markdown",
   "metadata": {},
   "source": [
    "f\"\""
   ]
  },
  {
   "cell_type": "code",
   "execution_count": 30,
   "metadata": {},
   "outputs": [
    {
     "name": "stdout",
     "output_type": "stream",
     "text": [
      "\n",
      "    Hi alirezafazeli with user id 25545\n",
      "    we sent message to your phone : 09386835771\n",
      "    pleas Answer our question in soon.\n",
      "    \n",
      "\n",
      "\n"
     ]
    }
   ],
   "source": [
    "user_name = \"alirezafazeli\"\n",
    "user_id = 25545\n",
    "phone_number = \"09386835771\"\n",
    "\n",
    "server_msg = f\"\"\"\n",
    "    Hi {user_name} with user id {user_id}\n",
    "    we sent message to your phone : {phone_number}\n",
    "    pleas Answer our question in soon.\n",
    "    \n",
    "\n",
    "\"\"\"\n",
    "\n",
    "print(server_msg)"
   ]
  },
  {
   "cell_type": "markdown",
   "metadata": {},
   "source": [
    ".format()"
   ]
  },
  {
   "cell_type": "code",
   "execution_count": 34,
   "metadata": {},
   "outputs": [
    {
     "name": "stdout",
     "output_type": "stream",
     "text": [
      "\n",
      "    Hi alirezafazeli with user id 25545\n",
      "    we sent message to your phone : 09386835771\n",
      "    pleas Answer our question in soon.\n",
      "    \n",
      "\n",
      "\n"
     ]
    }
   ],
   "source": [
    "user_name = \"alirezafazeli\"\n",
    "user_id = 25545\n",
    "phone_number = \"09386835771\"\n",
    "\n",
    "server_msg = \"\"\"\n",
    "    Hi {} with user id {}\n",
    "    we sent message to your phone : {}\n",
    "    pleas Answer our question in soon.\n",
    "    \n",
    "\n",
    "\"\"\".format(user_name, user_id, phone_number)\n",
    "\n",
    "print(server_msg)"
   ]
  },
  {
   "cell_type": "markdown",
   "metadata": {},
   "source": [
    "## String Built in Functions"
   ]
  },
  {
   "cell_type": "markdown",
   "metadata": {},
   "source": [
    "- .upper()\n",
    "- .lower()\n",
    "- .capitalize()\n",
    "- .find()\n",
    "- .replace()\n"
   ]
  },
  {
   "cell_type": "code",
   "execution_count": 42,
   "metadata": {},
   "outputs": [
    {
     "name": "stdout",
     "output_type": "stream",
     "text": [
      "ALIREZA\n",
      "alireza\n",
      "To be or not to be\n",
      "6\n",
      "to NEW or not to NEW\n"
     ]
    }
   ],
   "source": [
    "name = \"Alireza\"\n",
    "text = \"to be or not to be\"\n",
    "\n",
    "print(name.upper())\n",
    "print(name.lower())\n",
    "print(text.capitalize())\n",
    "print(text.find(\"or\", 5, 10))\n",
    "print(text.replace(\"be\", \"NEW\")) # it will be changed all worlds\n"
   ]
  },
  {
   "cell_type": "markdown",
   "metadata": {},
   "source": [
    "# Booleans\n",
    "True\n",
    "False"
   ]
  },
  {
   "cell_type": "code",
   "execution_count": 43,
   "metadata": {},
   "outputs": [],
   "source": [
    "is_cool = True\n",
    "married = False\n",
    "male = True\n",
    "win = False\n"
   ]
  },
  {
   "cell_type": "markdown",
   "metadata": {},
   "source": [
    "bool()\\\n",
    " it will be converted string type bool to boolean type."
   ]
  },
  {
   "cell_type": "code",
   "execution_count": 44,
   "metadata": {},
   "outputs": [
    {
     "name": "stdout",
     "output_type": "stream",
     "text": [
      "<class 'bool'>\n"
     ]
    }
   ],
   "source": [
    "is_cool = \"True\"\n",
    "is_cool = bool(is_cool)\n",
    "\n",
    "print(type(is_cool))"
   ]
  },
  {
   "cell_type": "markdown",
   "metadata": {},
   "source": [
    "## Mini Project : calculate the age"
   ]
  },
  {
   "cell_type": "code",
   "execution_count": 46,
   "metadata": {},
   "outputs": [
    {
     "name": "stdout",
     "output_type": "stream",
     "text": [
      "Your are 20, years old\n"
     ]
    }
   ],
   "source": [
    "user_year_born = input(\"What year were you born ?\")\n",
    "now_year = 2024\n",
    "calculate_age = 2024 - int(user_year_born)\n",
    "print(f\"Your are {calculate_age}, years old\")"
   ]
  },
  {
   "cell_type": "markdown",
   "metadata": {},
   "source": [
    "> if we multiple string to numbers , string will be multiple\n",
    "\n",
    "```py\n",
    "\n",
    "print(\"*\" * 10) # **********\n",
    "\n",
    "```"
   ]
  },
  {
   "cell_type": "markdown",
   "metadata": {},
   "source": [
    "## Mini Project : Password Checker"
   ]
  },
  {
   "cell_type": "code",
   "execution_count": 53,
   "metadata": {},
   "outputs": [
    {
     "name": "stdout",
     "output_type": "stream",
     "text": [
      "Your Password length is *******\n"
     ]
    }
   ],
   "source": [
    "user_password = input(\"Pleas Enter Your Password : \")\n",
    "calculate_len = \"*\" * int(len(user_password))\n",
    "text_msg = f\"Your Password length is {calculate_len}\"\n",
    "print(text_msg)"
   ]
  },
  {
   "cell_type": "markdown",
   "metadata": {},
   "source": [
    "# List"
   ]
  },
  {
   "cell_type": "code",
   "execution_count": 56,
   "metadata": {},
   "outputs": [
    {
     "name": "stdout",
     "output_type": "stream",
     "text": [
      "sajjad\n"
     ]
    }
   ],
   "source": [
    "names = [\"alireza\", \"saman\", \"sajjad\", \"sajjad\"]\n",
    "\n",
    "print(names[3])"
   ]
  },
  {
   "cell_type": "markdown",
   "metadata": {},
   "source": [
    "List slicing"
   ]
  },
  {
   "cell_type": "code",
   "execution_count": 64,
   "metadata": {},
   "outputs": [
    {
     "name": "stdout",
     "output_type": "stream",
     "text": [
      "['book', 'pen', 'pencil', 'glasses', 'keyboard', 'Mouse', 'Monitor']\n",
      "['book', 'pen', 'pencil', 'Airpod', 'keyboard', 'Mouse', 'Monitor']\n",
      "['Airpod', 'keyboard']\n",
      "['book', 'pencil', 'keyboard']\n"
     ]
    }
   ],
   "source": [
    "shopping_card = [\n",
    "    \"book\",\n",
    "    \"pen\",\n",
    "    \"pencil\",\n",
    "    \"glasses\",\n",
    "    \"keyboard\",\n",
    "    \"Mouse\",\n",
    "    \"Monitor\"\n",
    "]\n",
    "\n",
    "shopping_card_two = shopping_card[::]\n",
    "shopping_card_two[3] = \"Airpod\"\n",
    "\n",
    "print(shopping_card)\n",
    "print(shopping_card_two)\n",
    "\n",
    "print(shopping_card_two[3:5])\n",
    "print(shopping_card_two[:5:2])\n"
   ]
  },
  {
   "cell_type": "markdown",
   "metadata": {},
   "source": [
    "# Matrix\n",
    "a way to describe 2d list. this topics is lot used in machine learning and computer vision."
   ]
  },
  {
   "cell_type": "code",
   "execution_count": 67,
   "metadata": {},
   "outputs": [
    {
     "name": "stdout",
     "output_type": "stream",
     "text": [
      "0\n"
     ]
    }
   ],
   "source": [
    "matrix = [\n",
    "    [1,0,1],\n",
    "    [0,1,0],\n",
    "    [1,0,1]\n",
    "] # it will represent a X\n",
    "\n",
    "print(matrix[0][1])\n"
   ]
  },
  {
   "cell_type": "markdown",
   "metadata": {},
   "source": [
    "# List Methods\n",
    "\n",
    "1. len()\n",
    "2. .append()\n",
    "3. .insert()\n",
    "4. .extend()\n",
    "5. .pop()\n",
    "6. .remove()\n",
    "7. .clear()\n"
   ]
  },
  {
   "cell_type": "code",
   "execution_count": 90,
   "metadata": {},
   "outputs": [
    {
     "name": "stdout",
     "output_type": "stream",
     "text": [
      "[]\n"
     ]
    }
   ],
   "source": [
    "numbers = [1, 2, 3, 4, 5, \"alireza\", {\"name\": \"alireza\"}]\n",
    "number_two = [6, 7, 8, 9]\n",
    "\n",
    "# print(len(numbers))\n",
    "# numbers.append(6)\n",
    "# numbers.insert(6, 6)\n",
    "# numbers.extend(number_two)\n",
    "\n",
    "# number_three = numbers.extend(number_two)\n",
    "\n",
    "# numbers.pop()\n",
    "numbers.remove({\"name\": \"alireza\"})\n",
    "numbers.clear()\n",
    "\n",
    "print(numbers)\n",
    "# print(number_three)"
   ]
  },
  {
   "cell_type": "markdown",
   "metadata": {},
   "source": [
    "# List Methods Part 2\n",
    "\n",
    "- .index() with this methods we can find what index of specific value (Return first index of value.)\n",
    "- .count() Return number of occurrences of value.\n",
    "- .sort() Sort the list in ascending order and return None.\n",
    "- sorted() : Return a new list containing all items from the iterable in ascending order. این فانکشن برای ما جای اینکه خود متغیر اصلی رو تغییر بده میاد اون لیست رو برای ما کامل مرتب میکنه و به عنوان یک لیست جدید به ما میده.\n",
    "- .copy() Return a shallow copy of the list. این میاد کل محتویات یک لیستو کپی میکنه و به عنوان لیست جدید برای میفرسته . اینجوری دیگه تداخل در آیتم های لیست مبدا پیش نمیاد .و توی رم یک آدرس جداگانه ای دارن.\n",
    "- .reverse() : its reverse all value in the list\n"
   ]
  },
  {
   "cell_type": "code",
   "execution_count": 29,
   "metadata": {},
   "outputs": [
    {
     "name": "stdout",
     "output_type": "stream",
     "text": [
      "1\n",
      "3\n",
      "[1, 2, 3, 4, 5, 1, 3, 5, 6, 2, 1]\n",
      "['a', 'c', 'd', 'j', 'h', 'g', 'x', 'z', 'n']\n",
      "['a', 'c', 'd', 'g', 'h', 'j', 'n', 'x', 'z']\n",
      "['a', 'c', 'd', 'g', 'h', 'j', 'n', 'x', 'z']\n",
      "[1, 2, 3, 4, 5, 1, 3, 5, 6, 2, 1]\n",
      "['a', 2, 3, 4, 5, 1, 3, 5, 6, 2, 1]\n",
      "['n', 'z', 'x', 'g', 'h', 'j', 'd', 'c', 'a']\n"
     ]
    }
   ],
   "source": [
    "numbers = [1, 2, 3, 4, 5, 1, 3, 5, 6, 2, 1]\n",
    "alphabet = [\"a\", \"c\", \"d\", \"j\", \"h\", \"g\", \"x\", \"z\", \"n\"]\n",
    "\n",
    "print(numbers.index(2, 0, 8))\n",
    "print(numbers.count(1))\n",
    "\n",
    "# numbers.sort()\n",
    "# alphabet.sort()\n",
    "\n",
    "print(numbers)\n",
    "print(alphabet)\n",
    "\n",
    "new_sorted_alphabet  = sorted(alphabet)\n",
    "print(new_sorted_alphabet)\n",
    "\n",
    "# instead of sorted we con doing like this :\n",
    "new_sorted_alphabet_two = alphabet[:]\n",
    "new_sorted_alphabet_two.sort()\n",
    "\n",
    "print(new_sorted_alphabet_two)\n",
    "\n",
    "new_numbers = numbers.copy()\n",
    "new_numbers[0] = \"a\"\n",
    "\n",
    "print(numbers)\n",
    "print(new_numbers)\n",
    "\n",
    "alphabet.reverse()\n",
    "print(alphabet)\n",
    "\n"
   ]
  },
  {
   "cell_type": "markdown",
   "metadata": {},
   "source": [
    "( in ) keyword : this keyword can search in anything and if there he back say i find it "
   ]
  },
  {
   "cell_type": "code",
   "execution_count": 15,
   "metadata": {},
   "outputs": [
    {
     "name": "stdout",
     "output_type": "stream",
     "text": [
      "False\n",
      "True\n",
      "False\n"
     ]
    }
   ],
   "source": [
    "text = \"hi my name is alireza and im so happy.\"\n",
    "person = {\"name\": \"alireza\", \"age\": 18, \"last_name\": \"fazeli\"}\n",
    "alphabet = [\"a\", 'b', 'c', 'd', 'e', 'f']\n",
    "\n",
    "print(\"alirezaa\" in text)\n",
    "print(\"age\" in person) # just search object keyword\n",
    "print(\"j\" in alphabet)\n"
   ]
  },
  {
   "cell_type": "markdown",
   "metadata": {},
   "source": [
    "List Unpacking\\\n",
    "یعنی اینکه ما بیایم به طور خیلی ساده و راحت تک تک مقادیر درون یک لیست رو به یک متغیر اختصاص بدیم.\\\n",
    "اگر ما فقط به چندتا از آیتم های درون این لیست نیاز داشته باشیم و متغیر اختصاص بدیم و به بقیش احتیاج نداشته باشیم یا بخوایم به یک متغیر دیگه همیشو اختصاص بدیم فقط کافیه که از * استفاده کنیم.\n"
   ]
  },
  {
   "cell_type": "code",
   "execution_count": 37,
   "metadata": {},
   "outputs": [
    {
     "name": "stdout",
     "output_type": "stream",
     "text": [
      "alirezafazeli 1234 19\n",
      "['Iran', 'i like to save money']\n",
      "benz\n",
      "3000$\n"
     ]
    }
   ],
   "source": [
    "username, password, age, *user_information, user_car, user_budget = [\"alirezafazeli\", \"1234\", \"19\", \"Iran\", \"i like to save money\", \"benz\", \"3000$\"]\n",
    "\n",
    "print(username, password, age)\n",
    "print(user_information)\n",
    "print(user_car)\n",
    "print(user_budget)\n"
   ]
  },
  {
   "cell_type": "markdown",
   "metadata": {},
   "source": [
    "# None,  data type\n",
    "The None keyword is used to define a null variable or an object\\\n",
    "یعنی هیچی ، یعنی چیزی به عنوان داده درون یک متغیر یا آبجکت وجود نداره، هیچی نیست."
   ]
  },
  {
   "cell_type": "code",
   "execution_count": 39,
   "metadata": {},
   "outputs": [],
   "source": [
    "weapons = None\n",
    "books = None"
   ]
  },
  {
   "cell_type": "markdown",
   "metadata": {},
   "source": [
    "# Dictionary\n",
    "its way for use to oragnize data"
   ]
  },
  {
   "cell_type": "code",
   "execution_count": 26,
   "metadata": {},
   "outputs": [
    {
     "name": "stdout",
     "output_type": "stream",
     "text": [
      "\n",
      "\n",
      "      username: alirezaZx41\n",
      "      first name: alireza\n",
      "      last name : fazeli\n",
      "      books he have: ['anathomy', 'b', 'c']\n",
      "      Loved Book: anathomy\n",
      "      \n",
      "      \n",
      "alirezaZx41 is winned the game\n"
     ]
    }
   ],
   "source": [
    "user_information = {\n",
    "    \"user_name\" : \"alirezaZx41\",\n",
    "    \"name\": \"alireza\",\n",
    "    \"last_name\": \"fazeli\",\n",
    "    \"age\": 19,\n",
    "    \"books\": [\"anathomy\", \"b\", \"c\"]\n",
    "}\n",
    "\n",
    "\n",
    "print(f\"\"\"\\n\n",
    "      username: {user_information[\"user_name\"]}\n",
    "      first name: {user_information[\"name\"]}\n",
    "      last name : {user_information[\"last_name\"]}\n",
    "      books he have: {user_information[\"books\"]}\n",
    "      Loved Book: {user_information[\"books\"][0]}\n",
    "      \n",
    "      \"\"\")\n",
    "\n",
    "\n",
    "# make choice random user project\n",
    "\n",
    "import random\n",
    "\n",
    "users = [\n",
    "    {\n",
    "        \"user_name\" : \"javadDasd\",\n",
    "        \"name\": \"javad\",\n",
    "        \"last_name\": \"lemani\",\n",
    "        \"age\": 23,\n",
    "        \"books\": [\"asdsaa\", \"b\", \"c\"]\n",
    "    },\n",
    "    {\n",
    "        \"user_name\" : \"rezaMohseni\",\n",
    "        \"name\": \"reaza\",\n",
    "        \"last_name\": \"mohseni\",\n",
    "        \"age\": 46,\n",
    "        \"books\": [\"Iran Atom\", \"b\", \"c\"]\n",
    "    },\n",
    "    {\n",
    "        \"user_name\" : \"alirezaZx41\",\n",
    "        \"name\": \"alireza\",\n",
    "        \"last_name\": \"fazeli\",\n",
    "        \"age\": 19,\n",
    "        \"books\": [\"anathomy\", \"b\", \"c\"]\n",
    "    },\n",
    "]\n",
    "\n",
    "choiced_user = users[random.randint(0, len(users)) - 1]\n",
    "\n",
    "print(choiced_user[\"user_name\"] + \" is winned the game\")\n",
    "\n"
   ]
  },
  {
   "cell_type": "markdown",
   "metadata": {},
   "source": [
    "# Understanding Data Structure\n",
    "\n",
    "a good programmer is a programmer to decide what data structure to use and when.\\\n",
    "if you want have ordered data you should use list if your data is unordered like user information you properly use dictionary.\\\n",
    "In Summery You Should Know To Use What And When.\n",
    "\n"
   ]
  },
  {
   "cell_type": "markdown",
   "metadata": {},
   "source": [
    "Dictionary Keys\\\n",
    "we cant use list for key name in dict. باید مقادیری به عنوان کلید در دیکشنری قرار بگیره که غیر قابل تغییر باشن نه مثل لیست تغییر پذیر باشن.\\\n",
    "if we use two similar key name , and call them. it return back last similar key name.\\\n",
    "a key in dictionary has to be unique."
   ]
  },
  {
   "cell_type": "code",
   "execution_count": 59,
   "metadata": {},
   "outputs": [
    {
     "name": "stdout",
     "output_type": "stream",
     "text": [
      "['anathomy', 'b', 'c']\n"
     ]
    }
   ],
   "source": [
    "user_information = {\n",
    "    122 : \"alirezaZx41\",\n",
    "    \"name\": \"alireza\",\n",
    "    \"last_name\": \"fazeli\",\n",
    "    \"[100]\": 19,\n",
    "    122: [\"anathomy\", \"b\", \"c\"]\n",
    "}\n",
    "print(user_information[122])"
   ]
  },
  {
   "cell_type": "markdown",
   "metadata": {},
   "source": [
    "# Dictionary Methods\n",
    "\n",
    "- .get() : ما بهش اون کلیدی که در دیکشنری دنبالش هستیم رو میدیم ، اگر بودش، برای همون مقدار درون اون کلید رو بر میگردونه اگر نبودش که برای ما None  بر میگردونه. \n",
    "- .keys() : it returns the dict keys.\n",
    "- .values() : it returns the dict values.\n",
    "- .items() : its make key value to array.\n",
    "- .clear() : it clear all items in the object.\n",
    "- .copy() : its like list copy method.'\n",
    "- .pop() : این میاد آیتم دلخواه مارو که از طریق پارامتر بهش میدیم رو حذف میکنه.\n",
    "- .popitem() : it remove one item from last.\n",
    "- .update({key: value}) : it update our dictionary. اگر اون کلید وجود داشته باشه ، مقدار داخلی اونو اپدیت میکنه و اگر وجود نداشته باشه از اخر به عنوان مقدار جدید به دیشکنری اضافه میکنه."
   ]
  },
  {
   "cell_type": "markdown",
   "metadata": {},
   "source": [
    "و با استفاده از پارامتر دوم متود گت مینونیم تعریف کنیم جای None چی قرار بده."
   ]
  },
  {
   "cell_type": "code",
   "execution_count": 84,
   "metadata": {},
   "outputs": [
    {
     "name": "stdout",
     "output_type": "stream",
     "text": [
      "بابابزرگ بفرمایید شام\n",
      "dict_keys(['user_name', 'name', 'last_name', 'age', 'books'])\n",
      "dict_values(['javadDasd', 'javad', 'lemani', 23, ['asdsaa', 'b', 'c']])\n",
      "dict_items([('user_name', 'javadDasd'), ('name', 'javad'), ('last_name', 'lemani'), ('age', 23), ('books', ['asdsaa', 'b', 'c'])])\n",
      "{'user_name': 'javadDasd', 'name': 'javad', 'last_name': 'lemani', 'age': 23, 'books': ['asdsaa', 'b', 'c']}\n"
     ]
    }
   ],
   "source": [
    "user =  {\n",
    "    \"user_name\" : \"javadDasd\",\n",
    "    \"name\": \"javad\",\n",
    "    \"last_name\": \"lemani\",\n",
    "    \"age\": 23,\n",
    "    \"books\": [\"asdsaa\", \"b\", \"c\"]\n",
    "}\n",
    "\n",
    "\n",
    "# print(user.get(\"user_namee\", \"بابابزرگ بفرمایید شام\" ))\n",
    "\n",
    "\n",
    "# print(user.keys())\n",
    "# print(user.values())\n",
    "# print(user.items())\n",
    "\n",
    "# user_two = user\n",
    "\n",
    "\n",
    "# user_two = user.copy()\n",
    "# user_two[\"name\"] = \"ali\"\n",
    "\n",
    "# print(user)\n",
    "\n",
    "# user.clear()\n",
    "\n",
    "# print(user)\n",
    "\n",
    "# for items in user.keys():\n",
    "#     print(items)"
   ]
  },
  {
   "cell_type": "code",
   "execution_count": 90,
   "metadata": {},
   "outputs": [
    {
     "name": "stdout",
     "output_type": "stream",
     "text": [
      "{'user_name': 'javadDasd', 'name': 'javaddddd', 'last_name': 'lemani', 'age': 23, 'books': ['asdsaa', 'b', 'c']}\n"
     ]
    }
   ],
   "source": [
    "user =  {\n",
    "    \"user_name\" : \"javadDasd\",\n",
    "    \"name\": \"javad\",\n",
    "    \"last_name\": \"lemani\",\n",
    "    \"age\": 23,\n",
    "    \"books\": [\"asdsaa\", \"b\", \"c\"]\n",
    "}\n",
    "\n",
    "\n",
    "# user.pop(\"name\")\n",
    "# user.popitem()\n",
    "user.update({\"name\": \"javaddddd\"})\n",
    "\n",
    "print(user)"
   ]
  },
  {
   "cell_type": "markdown",
   "metadata": {},
   "source": [
    "## Dict() : we can make dictionary with dict function"
   ]
  },
  {
   "cell_type": "code",
   "execution_count": 70,
   "metadata": {},
   "outputs": [
    {
     "name": "stdout",
     "output_type": "stream",
     "text": [
      "alireza\n"
     ]
    }
   ],
   "source": [
    "user_info = dict(name=\"alireza\", last_name=\"fazeli\", age=19)\n",
    "print(user_info[\"name\"])"
   ]
  },
  {
   "cell_type": "markdown",
   "metadata": {},
   "source": [
    "# Tuples\n",
    "مثل لیست هستش ولی ما نمیتونیم اونو تغییر بدیم و غیر قابل تغییره. تاپل ها immutable هستن.\\\n",
    "تاپل ها از لیست ها سریع تر هستند\n",
    "\n",
    "### tuple methods : \n",
    "- index\n",
    "- count"
   ]
  },
  {
   "cell_type": "code",
   "execution_count": 108,
   "metadata": {},
   "outputs": [
    {
     "name": "stdout",
     "output_type": "stream",
     "text": [
      "(1, 2, 3, 4, 5)\n",
      "(1, 3)\n",
      "1\n",
      "[4, 5, 6]\n"
     ]
    }
   ],
   "source": [
    "my_tuple = (1,  2, 3, 4, 5)\n",
    "\n",
    "# my_tuple[0] = 0\n",
    "\n",
    "print(my_tuple)\n",
    "# print(my_tuple.count(5))\n",
    "\n",
    "print(my_tuple[0:3: 2])\n",
    "\n",
    "num_1, num_2, num_3, *other_num = (1, 2, 3, 4, 5, 6)\n",
    "\n",
    "print(num_1)\n",
    "print(other_num)\n"
   ]
  },
  {
   "cell_type": "markdown",
   "metadata": {},
   "source": [
    "# Set\n",
    "set collection of unordered unique object.\n",
    "\n",
    "معنی unordered یعنی اینکه ترتیب مشخصی آیتم ها ندارن\n",
    "\n",
    "## Set Methods : \n",
    "\n",
    "- .add()\n",
    "- .copy()\n",
    "- .clear()"
   ]
  },
  {
   "cell_type": "code",
   "execution_count": 124,
   "metadata": {},
   "outputs": [
    {
     "name": "stdout",
     "output_type": "stream",
     "text": [
      "{1, 2, 3, 4, 5, 'hi', 'say'}\n",
      "{1, 2, 3, 4, 5, 'hi'}\n"
     ]
    }
   ],
   "source": [
    "my_set = {1, 2, 3, 4, 5, 5, 5, \"hi\", \"hi\"}\n",
    "\n",
    "my_set.add(\"say\")\n",
    "\n",
    "print(my_set)\n",
    "\n",
    "\n",
    "my_list = [1, 2, 3, 4, 5, 5, 5, \"hi\", \"hi\"]\n",
    "\n",
    "print(set(my_list))\n",
    "\n",
    "# print(my_set[0])"
   ]
  },
  {
   "cell_type": "markdown",
   "metadata": {},
   "source": [
    "- .difference() میگه که ست اولی چه آیتم هایی رو در ست دومی نداره !. Return the difference of two or more sets as a new set.\n",
    "\n",
    "- .discard() : we can remove specific item from set\n",
    "\n",
    "- .difference_update() : برو آیتم هایی رو که ست دومی نداره و ست اولی داره رو درون ست اولی بریز. Remove all elements of another set from this set\n",
    "\n",
    "- .intersection() : Return the intersection of two sets as a new set . چه آیتم هایی در دو ست باهم برار هستند.\n",
    "\n",
    "- .isdisjoint() : اگر هیچکدوم از آیتم های درون ست اول در ست دومی نبود برای ما ترو بر میگردونه غیر اون فالس\n",
    "- .issubset() : آیا تمامی آیتم های درون ست من در درون ست تو وجود دارند؟\n",
    "- .issuperset() آیا تمامی آیتم های درون تو در من وجو دارند؟\n",
    "- .union() : Return the union of sets as a new set. آیتم های دوتا ستو توی یک ست جمع میکنه و بر میگردونه\n"
   ]
  },
  {
   "cell_type": "code",
   "execution_count": 20,
   "metadata": {},
   "outputs": [
    {
     "name": "stdout",
     "output_type": "stream",
     "text": [
      "True\n"
     ]
    }
   ],
   "source": [
    "my_set = {5, 6}\n",
    "your_set = {5, 6, 7, 8, 9, 10}\n",
    "\n",
    "# print(my_set.difference(your_set))\n",
    "# my_set.discard(3)\n",
    "# print(my_set)\n",
    "\n",
    "# my_set.difference_update(your_set)\n",
    "\n",
    "# print(my_set)\n",
    "\n",
    "# print(my_set.intersection(your_set))\n",
    "# print(my_set.isdisjoint(your_set))\n",
    "\n",
    "# print(my_set.union(your_set))\n",
    "# print(my_set.issubset(your_set))\n",
    "print(your_set.issuperset(my_set))"
   ]
  }
 ],
 "metadata": {
  "kernelspec": {
   "display_name": "Python 3",
   "language": "python",
   "name": "python3"
  },
  "language_info": {
   "codemirror_mode": {
    "name": "ipython",
    "version": 3
   },
   "file_extension": ".py",
   "mimetype": "text/x-python",
   "name": "python",
   "nbconvert_exporter": "python",
   "pygments_lexer": "ipython3",
   "version": "3.11.2"
  },
  "orig_nbformat": 4
 },
 "nbformat": 4,
 "nbformat_minor": 2
}
