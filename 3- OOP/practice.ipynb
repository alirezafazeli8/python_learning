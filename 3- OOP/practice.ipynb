{
 "cells": [
  {
   "cell_type": "code",
   "execution_count": 10,
   "metadata": {},
   "outputs": [
    {
     "name": "stdout",
     "output_type": "stream",
     "text": [
      "False\n",
      "Run alireza\n",
      "You are javad dehghan . Your age is : 20 years old.\n",
      "mohammad\n",
      "saniei\n"
     ]
    }
   ],
   "source": [
    "class Human:\n",
    "    is_human = True\n",
    "\n",
    "    def __init__(self, name, last_name, age):\n",
    "        if self.is_human:\n",
    "            self.name = name\n",
    "            self.last_name = last_name\n",
    "            self.age = age\n",
    "\n",
    "    def run(self):\n",
    "        print(f'Run {self.name}')\n",
    "\n",
    "    def info(self):\n",
    "        print(f'You are {self.name} {self.last_name} . Your age is : {self.age} years old.')\n",
    "\n",
    "\n",
    "human1 = Human(\"alireza\",\"fazeli\", 19)\n",
    "human1.is_human = False\n",
    "print(human1.is_human)\n",
    "human1.run()\n",
    "human2 = Human(\"javad\",\"dehghan\", 20)\n",
    "human2.info()\n",
    "human3 = Human(\"mohammad\",\"saniei\", 21)\n",
    "print(human3.name)\n",
    "print(human3.last_name)"
   ]
  },
  {
   "cell_type": "code",
   "execution_count": 4,
   "metadata": {},
   "outputs": [
    {
     "name": "stdout",
     "output_type": "stream",
     "text": [
      "The oldest cat is 10 years old.\n"
     ]
    }
   ],
   "source": [
    "# Given the below class:\n",
    "class Cat:\n",
    "    species = \"mammal\"\n",
    "\n",
    "    def __init__(self, name, age):\n",
    "        self.name = name\n",
    "        self.age = age\n",
    "\n",
    "\n",
    "# 1 Instantiate the Cat object with 3 cats\n",
    "cat1 = Cat(\"Rocky\", 5)\n",
    "cat2 = Cat(\"James\", 10)\n",
    "cat3 = Cat(\"Lily\", 3)\n",
    "\n",
    "\n",
    "# 2 Create a function that finds the oldest cat\n",
    "def find_oldest_cat(*args):\n",
    "    cat_ages = []\n",
    "    \n",
    "    for cat in args:\n",
    "        cat_ages.append(cat.age)\n",
    "    \n",
    "    return max(cat_ages)  \n",
    "\n",
    "oldest_cat_age = find_oldest_cat(cat1, cat2, cat3)\n",
    "\n",
    "# 3 Print out: \"The oldest cat is x years old.\". x will be the oldest cat age by using the function in #2\n",
    "print(f\"The oldest cat is {oldest_cat_age} years old.\")"
   ]
  },
  {
   "cell_type": "code",
   "execution_count": 16,
   "metadata": {},
   "outputs": [
    {
     "name": "stdout",
     "output_type": "stream",
     "text": [
      "Amg is started .\n",
      "name : Amg | color : red\n",
      "You can drive with\n"
     ]
    }
   ],
   "source": [
    "class Car:\n",
    "    def __init__(self, name, color):\n",
    "        self.name = name\n",
    "        self.color = color\n",
    "        \n",
    "    def start(self):\n",
    "        print(f\"{self.name} is started .\")\n",
    "    \n",
    "    def info(self):\n",
    "        print(f'name : {self.name} | color : {self.color}')\n",
    "    \n",
    "    # @classmethod\n",
    "    # def can_i_drive(cls, age):\n",
    "        \n",
    "    #     car = Car(\"benz\", \"white\")\n",
    "        \n",
    "    #     if age >= 18:\n",
    "    #         print(f\"You can drive with : {car.name}\")\n",
    "    #     else:\n",
    "    #         print(\"you cant\")\n",
    "    \n",
    "    @staticmethod\n",
    "    def can_i_drive(age):\n",
    "        \n",
    "        if age >= 18:\n",
    "            print(f\"You can drive with\")\n",
    "        else:\n",
    "            print(\"you cant\")\n",
    "        \n",
    "\n",
    "benz = Car(\"Amg\", \"red\")\n",
    "benz.start()\n",
    "benz.info()\n",
    "benz.can_i_drive(18)\n"
   ]
  }
 ],
 "metadata": {
  "kernelspec": {
   "display_name": "Python 3",
   "language": "python",
   "name": "python3"
  },
  "language_info": {
   "codemirror_mode": {
    "name": "ipython",
    "version": 3
   },
   "file_extension": ".py",
   "mimetype": "text/x-python",
   "name": "python",
   "nbconvert_exporter": "python",
   "pygments_lexer": "ipython3",
   "version": "3.11.5"
  }
 },
 "nbformat": 4,
 "nbformat_minor": 2
}
