{
 "cells": [
  {
   "cell_type": "code",
   "execution_count": 10,
   "metadata": {},
   "outputs": [
    {
     "name": "stdout",
     "output_type": "stream",
     "text": [
      "False\n",
      "Run alireza\n",
      "You are javad dehghan . Your age is : 20 years old.\n",
      "mohammad\n",
      "saniei\n"
     ]
    }
   ],
   "source": [
    "class Human:\n",
    "    is_human = True\n",
    "\n",
    "    def __init__(self, name, last_name, age):\n",
    "        if self.is_human:\n",
    "            self.name = name\n",
    "            self.last_name = last_name\n",
    "            self.age = age\n",
    "\n",
    "    def run(self):\n",
    "        print(f'Run {self.name}')\n",
    "\n",
    "    def info(self):\n",
    "        print(f'You are {self.name} {self.last_name} . Your age is : {self.age} years old.')\n",
    "\n",
    "\n",
    "human1 = Human(\"alireza\",\"fazeli\", 19)\n",
    "human1.is_human = False\n",
    "print(human1.is_human)\n",
    "human1.run()\n",
    "human2 = Human(\"javad\",\"dehghan\", 20)\n",
    "human2.info()\n",
    "human3 = Human(\"mohammad\",\"saniei\", 21)\n",
    "print(human3.name)\n",
    "print(human3.last_name)"
   ]
  }
 ],
 "metadata": {
  "kernelspec": {
   "display_name": "Python 3",
   "language": "python",
   "name": "python3"
  },
  "language_info": {
   "codemirror_mode": {
    "name": "ipython",
    "version": 3
   },
   "file_extension": ".py",
   "mimetype": "text/x-python",
   "name": "python",
   "nbconvert_exporter": "python",
   "pygments_lexer": "ipython3",
   "version": "3.11.5"
  }
 },
 "nbformat": 4,
 "nbformat_minor": 2
}
