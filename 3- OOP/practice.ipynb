{
 "cells": [
  {
   "cell_type": "code",
   "execution_count": 10,
   "metadata": {},
   "outputs": [
    {
     "name": "stdout",
     "output_type": "stream",
     "text": [
      "False\n",
      "Run alireza\n",
      "You are javad dehghan . Your age is : 20 years old.\n",
      "mohammad\n",
      "saniei\n"
     ]
    }
   ],
   "source": [
    "class Human:\n",
    "    is_human = True\n",
    "\n",
    "    def __init__(self, name, last_name, age):\n",
    "        if self.is_human:\n",
    "            self.name = name\n",
    "            self.last_name = last_name\n",
    "            self.age = age\n",
    "\n",
    "    def run(self):\n",
    "        print(f'Run {self.name}')\n",
    "\n",
    "    def info(self):\n",
    "        print(f'You are {self.name} {self.last_name} . Your age is : {self.age} years old.')\n",
    "\n",
    "\n",
    "human1 = Human(\"alireza\",\"fazeli\", 19)\n",
    "human1.is_human = False\n",
    "print(human1.is_human)\n",
    "human1.run()\n",
    "human2 = Human(\"javad\",\"dehghan\", 20)\n",
    "human2.info()\n",
    "human3 = Human(\"mohammad\",\"saniei\", 21)\n",
    "print(human3.name)\n",
    "print(human3.last_name)"
   ]
  },
  {
   "cell_type": "code",
   "execution_count": 4,
   "metadata": {},
   "outputs": [
    {
     "name": "stdout",
     "output_type": "stream",
     "text": [
      "The oldest cat is 10 years old.\n"
     ]
    }
   ],
   "source": [
    "# Given the below class:\n",
    "class Cat:\n",
    "    species = \"mammal\"\n",
    "\n",
    "    def __init__(self, name, age):\n",
    "        self.name = name\n",
    "        self.age = age\n",
    "\n",
    "\n",
    "# 1 Instantiate the Cat object with 3 cats\n",
    "cat1 = Cat(\"Rocky\", 5)\n",
    "cat2 = Cat(\"James\", 10)\n",
    "cat3 = Cat(\"Lily\", 3)\n",
    "\n",
    "\n",
    "# 2 Create a function that finds the oldest cat\n",
    "def find_oldest_cat(*args):\n",
    "    cat_ages = []\n",
    "    \n",
    "    for cat in args:\n",
    "        cat_ages.append(cat.age)\n",
    "    \n",
    "    return max(cat_ages)  \n",
    "\n",
    "oldest_cat_age = find_oldest_cat(cat1, cat2, cat3)\n",
    "\n",
    "# 3 Print out: \"The oldest cat is x years old.\". x will be the oldest cat age by using the function in #2\n",
    "print(f\"The oldest cat is {oldest_cat_age} years old.\")"
   ]
  },
  {
   "cell_type": "code",
   "execution_count": 16,
   "metadata": {},
   "outputs": [
    {
     "name": "stdout",
     "output_type": "stream",
     "text": [
      "Amg is started .\n",
      "name : Amg | color : red\n",
      "You can drive with\n"
     ]
    }
   ],
   "source": [
    "class Car:\n",
    "    def __init__(self, name, color):\n",
    "        self.name = name\n",
    "        self.color = color\n",
    "        \n",
    "    def start(self):\n",
    "        print(f\"{self.name} is started .\")\n",
    "    \n",
    "    def info(self):\n",
    "        print(f'name : {self.name} | color : {self.color}')\n",
    "    \n",
    "    # @classmethod\n",
    "    # def can_i_drive(cls, age):\n",
    "        \n",
    "    #     car = Car(\"benz\", \"white\")\n",
    "        \n",
    "    #     if age >= 18:\n",
    "    #         print(f\"You can drive with : {car.name}\")\n",
    "    #     else:\n",
    "    #         print(\"you cant\")\n",
    "    \n",
    "    @staticmethod\n",
    "    def can_i_drive(age):\n",
    "        \n",
    "        if age >= 18:\n",
    "            print(f\"You can drive with\")\n",
    "        else:\n",
    "            print(\"you cant\")\n",
    "        \n",
    "\n",
    "benz = Car(\"Amg\", \"red\")\n",
    "benz.start()\n",
    "benz.info()\n",
    "benz.can_i_drive(18)\n"
   ]
  },
  {
   "cell_type": "code",
   "execution_count": 18,
   "metadata": {},
   "outputs": [
    {
     "name": "stdout",
     "output_type": "stream",
     "text": [
      "User is Login .\n",
      "Attack From Rocky\n",
      "Rocky is attacking now with fire\n",
      "\n",
      "User is Login .\n",
      "Attack From Adrian\n",
      "Adrian is attacking now with 1000-left arrows\n"
     ]
    }
   ],
   "source": [
    "# game user\n",
    "class User:\n",
    "    # user login message\n",
    "    def user_login(self):\n",
    "        print(\"User is Login .\")\n",
    "\n",
    "    def attack(self):\n",
    "        print(f\"Attack From {self.name}\")\n",
    "\n",
    "class Wizard(User):\n",
    "    def __init__(self, name, power):\n",
    "        self.name = name\n",
    "        self.power = power\n",
    "\n",
    "    def attack(self):\n",
    "        User.attack(self)\n",
    "        print(f\"{self.name} is attacking now with {self.power}\")\n",
    "\n",
    "\n",
    "class Archer(User):\n",
    "    def __init__(self, name, arrow):\n",
    "        self.name = name\n",
    "        self.arrow = arrow\n",
    "\n",
    "    def attack(self):\n",
    "        User.attack(self)\n",
    "        print(f\"{self.name} is attacking now with {self.arrow}-left arrows\")\n",
    "\n",
    "\n",
    "wizard1 = Wizard(\"Rocky\", \"fire\")\n",
    "archer1 = Archer(\"Adrian\", 1000)\n",
    "\n",
    "wizard1.user_login()\n",
    "wizard1.attack()\n",
    "print()\n",
    "archer1.user_login()\n",
    "archer1.attack()"
   ]
  },
  {
   "cell_type": "code",
   "execution_count": 3,
   "metadata": {},
   "outputs": [
    {
     "name": "stdout",
     "output_type": "stream",
     "text": [
      "True\n"
     ]
    }
   ],
   "source": [
    "class User:\n",
    "    def sign_in(self):\n",
    "        print(\"User Logged in .\")\n",
    "\n",
    "\n",
    "# game character\n",
    "class Wizard(User):\n",
    "    def __init__(self, name, power):\n",
    "        self.name = name\n",
    "        self.power = power\n",
    "\n",
    "    def attack(self):\n",
    "        print(f\"attacking with power of {self.power}\")\n",
    "\n",
    "\n",
    "class Archer(User):\n",
    "    def __init__(self, name, num_arrows):\n",
    "        self.name = name\n",
    "        self.num_arrows = num_arrows\n",
    "\n",
    "    def attack(self):\n",
    "        print(f\"attacking with arrows : arrow left-{self.num_arrows}\")\n",
    "        \n",
    "        \n",
    "wizard1 = Wizard(\"wizard\", \"fire\")\n",
    "\n",
    "print(isinstance(wizard1, User))\n"
   ]
  },
  {
   "cell_type": "code",
   "execution_count": 29,
   "metadata": {},
   "outputs": [
    {
     "data": {
      "text/plain": [
       "'benz-amg drive now !'"
      ]
     },
     "execution_count": 29,
     "metadata": {},
     "output_type": "execute_result"
    }
   ],
   "source": [
    "class Vehicle:\n",
    "    def __init__(self, brand, model):\n",
    "        self.brand = brand\n",
    "        self.model = model\n",
    "        \n",
    "    def move(self, word):\n",
    "        return f\"{self.brand}-{self.model} {word} now !\"\n",
    "    \n",
    "\n",
    "car1 = Vehicle(\"benz\", \"amg\")\n",
    "car1.move(\"drive\")\n",
    "\n",
    "        "
   ]
  },
  {
   "cell_type": "code",
   "execution_count": 32,
   "metadata": {},
   "outputs": [
    {
     "name": "stdout",
     "output_type": "stream",
     "text": [
      "Drive !\n",
      "Fly !\n"
     ]
    }
   ],
   "source": [
    "class Vehicle:\n",
    "    def __init__(self, brand, model):\n",
    "        self.brand = brand\n",
    "        self.model = model\n",
    "\n",
    "    def move(self):\n",
    "        print(\"move\")\n",
    "\n",
    "\n",
    "class Car(Vehicle):\n",
    "    def move(self):\n",
    "        print(\"Drive !\")\n",
    "\n",
    "\n",
    "class Plane(Vehicle):\n",
    "    def move(self):\n",
    "        print(\"Fly !\")\n",
    "        \n",
    "        \n",
    "car1 = Car(\"bmw\", \"amg\")\n",
    "plane1 = Plane(\"bmw\", \"boaing\")\n",
    "\n",
    "car1.move()\n",
    "plane1.move()"
   ]
  },
  {
   "cell_type": "code",
   "execution_count": 76,
   "metadata": {},
   "outputs": [
    {
     "name": "stdout",
     "output_type": "stream",
     "text": [
      "as8312 attacking with power of fire\n",
      "as8312 Logged in .\n",
      "alireza129 Logged in .\n",
      "alireza129 attacking with arrows : arrow left-100\n",
      "['__class__', '__delattr__', '__dict__', '__dir__', '__doc__', '__eq__', '__format__', '__ge__', '__getattribute__', '__getstate__', '__gt__', '__hash__', '__init__', '__init_subclass__', '__le__', '__lt__', '__module__', '__ne__', '__new__', '__reduce__', '__reduce_ex__', '__repr__', '__setattr__', '__sizeof__', '__str__', '__subclasshook__', '__weakref__', 'attack', 'sign_in']\n",
      "True\n",
      "False\n"
     ]
    }
   ],
   "source": [
    "class User:\n",
    "    def __init__(self, username):\n",
    "        self.username = username\n",
    "        \n",
    "    def sign_in(self):\n",
    "        print(f\"{self.username} Logged in .\")\n",
    "\n",
    "\n",
    "# game character\n",
    "class Wizard(User):\n",
    "    def __init__(self, name, power, username):\n",
    "        # User.__init__(self, username)\n",
    "        super().__init__(username)\n",
    "        self.name = name\n",
    "        self.power = power\n",
    "        \n",
    "\n",
    "    def attack(self):\n",
    "\n",
    "        print(f\"{self.username} attacking with power of {self.power}\")\n",
    "\n",
    "\n",
    "class Archer(User):\n",
    "    def __init__(self, username, name, num_arrows):\n",
    "        # User.__init__(self, username)\n",
    "        super().__init__(username)\n",
    "        self.name = name\n",
    "        self.num_arrows = num_arrows\n",
    "\n",
    "    def attack(self):\n",
    "        print(f\"{self.username} attacking with arrows : arrow left-{self.num_arrows}\")\n",
    "        \n",
    "        \n",
    "        \n",
    "wizard1 = Wizard(\"Rocky\", \"fire\", \"as8312\")\n",
    "wizard1.attack()\n",
    "wizard1.sign_in()\n",
    "\n",
    "archer1 = Archer(\"alireza129\", \"Adrian\", 100)\n",
    "archer1.sign_in()\n",
    "archer1.attack()\n",
    "\n",
    "print(dir(Archer))\n",
    "\n",
    "print(issubclass(Archer, User))\n",
    "print(issubclass(User, Archer))"
   ]
  },
  {
   "cell_type": "code",
   "execution_count": 74,
   "metadata": {},
   "outputs": [
    {
     "name": "stdout",
     "output_type": "stream",
     "text": [
      "is deleted\n",
      "This is toy\n",
      "This is toy\n",
      "0\n",
      "0\n",
      "You can call class\n",
      "alireza\n",
      "sara\n"
     ]
    }
   ],
   "source": [
    "from typing import Any\n",
    "\n",
    "\n",
    "class Toy:\n",
    "    \n",
    "    names = [\"alireza\", \"sara\", \"sassan\", \"mohammad\"]\n",
    "    \n",
    "    def __init__(self, color, age):\n",
    "        self.color = color\n",
    "        self.age =  age\n",
    "\n",
    "    def __str__(self):\n",
    "        return \"This is toy\"\n",
    "    \n",
    "    def __len__(self):\n",
    "        return 0\n",
    "    \n",
    "    def __del__(self):\n",
    "        print(\"is deleted\")\n",
    "        \n",
    "    def __call__(self):\n",
    "        print(\"You can call class\")\n",
    "        \n",
    "    def __getitem__(self, i):\n",
    "        return self.names[i]\n",
    "\n",
    "\n",
    "toy1 = Toy(\"red\", 1)\n",
    "print(str(toy1))\n",
    "print(toy1.__str__())\n",
    "\n",
    "print(len(toy1))\n",
    "print(toy1.__len__())\n",
    "\n",
    "\n",
    "# print(Toy(\"red\", 1))\n",
    "toy1()\n",
    "\n",
    "# del toy1\n",
    "\n",
    "print(toy1[0])\n",
    "print(toy1[1])\n"
   ]
  },
  {
   "cell_type": "code",
   "execution_count": 84,
   "metadata": {},
   "outputs": [
    {
     "name": "stdout",
     "output_type": "stream",
     "text": [
      "attacking with arrows : arrow left-100\n"
     ]
    }
   ],
   "source": [
    "class User:\n",
    "    def sign_in(self):\n",
    "        print(\"User Logged in .\")\n",
    "\n",
    "\n",
    "# game character\n",
    "class Wizard(User):\n",
    "    def __init__(self, name, power):\n",
    "        self.name = name\n",
    "        self.power = power\n",
    "\n",
    "    def attack(self):\n",
    "        print(f\"attacking with power of {self.power}\")\n",
    "\n",
    "\n",
    "class Archer(User):\n",
    "    def __init__(self, name, num_arrows):\n",
    "        self.name = name\n",
    "        self.num_arrows = num_arrows\n",
    "\n",
    "    def attack(self):\n",
    "        print(f\"attacking with arrows : arrow left-{self.num_arrows}\")\n",
    "\n",
    "class Jungler(Archer, Wizard):\n",
    "    def __init__(self, name, power, num_arrows):\n",
    "        Archer.__init__(self, name, num_arrows)\n",
    "        Wizard.__init__(self, name, power)\n",
    "\n",
    "    def attack(self):\n",
    "        return Archer.attack(self)\n",
    "\n",
    "\n",
    "jungler1 = Jungler(\"Lizard\", \"fire\", 100)\n",
    "jungler1.attack()"
   ]
  },
  {
   "cell_type": "code",
   "execution_count": 85,
   "metadata": {},
   "outputs": [
    {
     "name": "stdout",
     "output_type": "stream",
     "text": [
      "32\n",
      "[<class '__main__.D'>, <class '__main__.B'>, <class '__main__.C'>, <class '__main__.A'>, <class 'object'>]\n"
     ]
    }
   ],
   "source": [
    "class A:\n",
    "    num = 20\n",
    "\n",
    "\n",
    "class B(A):\n",
    "    pass\n",
    "\n",
    "\n",
    "class C(A):\n",
    "    num = 32\n",
    "\n",
    "\n",
    "class D(B, C):\n",
    "    pass\n",
    "\n",
    "\n",
    "print(D.num)\n",
    "\n",
    "print(D.mro())"
   ]
  }
 ],
 "metadata": {
  "kernelspec": {
   "display_name": "Python 3",
   "language": "python",
   "name": "python3"
  },
  "language_info": {
   "codemirror_mode": {
    "name": "ipython",
    "version": 3
   },
   "file_extension": ".py",
   "mimetype": "text/x-python",
   "name": "python",
   "nbconvert_exporter": "python",
   "pygments_lexer": "ipython3",
   "version": "3.11.5"
  }
 },
 "nbformat": 4,
 "nbformat_minor": 2
}
