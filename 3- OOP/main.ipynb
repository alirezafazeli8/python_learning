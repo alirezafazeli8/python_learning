{
 "cells": [
  {
   "cell_type": "markdown",
   "metadata": {},
   "source": [
    "# Advanced Python Object Oriented Programming"
   ]
  },
  {
   "cell_type": "markdown",
   "metadata": {},
   "source": [
    "everything in python is an object "
   ]
  },
  {
   "cell_type": "markdown",
   "metadata": {},
   "source": [
    "اگر ما با استفاده از تابع type بیایم دیتا های مارو تایپ بگیریم ، میبینیم که اول اون ها class نوشته شده\n",
    "که این نشون دهنده اینه که همه چی در پایتون آبجکت هستش."
   ]
  },
  {
   "cell_type": "code",
   "execution_count": 2,
   "metadata": {},
   "outputs": [
    {
     "name": "stdout",
     "output_type": "stream",
     "text": [
      "<class 'NoneType'>\n",
      "<class 'bool'>\n",
      "<class 'int'>\n",
      "<class 'float'>\n",
      "<class 'str'>\n",
      "<class 'list'>\n",
      "<class 'tuple'>\n",
      "<class 'dict'>\n"
     ]
    }
   ],
   "source": [
    "print(type(None))\n",
    "print(type(True))\n",
    "print(type(5))\n",
    "print(type(5.5))\n",
    "print(type(\"a\"))\n",
    "print(type([]))\n",
    "print(type(()))\n",
    "print(type({}))"
   ]
  },
  {
   "cell_type": "markdown",
   "metadata": {},
   "source": [
    "ما با استفاده از شی گرایی میتونیم دیتا تایپ های خودمون ، متود های خودمون واتربیوت های خودمونو بسازیم."
   ]
  },
  {
   "cell_type": "markdown",
   "metadata": {},
   "source": [
    "> maintain = حفظ کردن"
   ]
  },
  {
   "cell_type": "markdown",
   "metadata": {},
   "source": [
    "oop is paradigm. its a way for us to think about our code and structure our code in away that easier to maintain, extend and write"
   ]
  },
  {
   "cell_type": "markdown",
   "metadata": {},
   "source": [
    "شی گرایی یک الگو هستش . یک راه برای فک کردن . و به ما یک ساختار به کدمون میده که بتونیم کدمون رو نگهداری بکنیم ، ارتقاش بدیم و توسعش بدیم.\n",
    "با استفاده از شی گرایی میتونیم یک الگو از قسمت های مختلف کدمون داشته باشیم و راحت تر اونو توسعه بدیم یا افراد دیگه ای با استفاده از این روش روی قسمت های مختلف دیگه کد کار بکنن  توسعه بدن"
   ]
  },
  {
   "cell_type": "markdown",
   "metadata": {},
   "source": [
    "برای نوشتن اسم کلاس در شی گرایی پایتون از نوع تایپ کمل کیس باید استفاده بکنیم."
   ]
  },
  {
   "cell_type": "code",
   "execution_count": null,
   "metadata": {},
   "outputs": [],
   "source": [
    "class BigObject:\n",
    "    pass"
   ]
  },
  {
   "cell_type": "markdown",
   "metadata": {},
   "source": [
    "ابجکت ها مثل یک بلوپرینت یا نقشه ساختمان هستن ما یکبار یک نقشه رو طراحی میکنیم و بارها و بارها با استفاده از اون نقشه ساختمان های مختلف میسازیم و دیگه نیازی به اضافه کاری و نوشتن دوباره کد نیست. یک بار کد و بارها استفاده."
   ]
  },
  {
   "cell_type": "code",
   "execution_count": 4,
   "metadata": {},
   "outputs": [
    {
     "name": "stdout",
     "output_type": "stream",
     "text": [
      "<class '__main__.BigObject'>\n"
     ]
    }
   ],
   "source": [
    "class BigObject:\n",
    "    pass\n",
    "\n",
    "obj_one = BigObject()\n",
    "\n",
    "print(type(obj_one))"
   ]
  },
  {
   "cell_type": "markdown",
   "metadata": {},
   "source": [
    "ایده پشت شی گرایی اینه که آقا ، کلاس ها یک نقشه ای از چیزی هستن که ما میخوایم بسازیم و آبجکت ها اون چیز هایی هستن که از طریق اون نقشه ساخته میشن."
   ]
  },
  {
   "cell_type": "markdown",
   "metadata": {},
   "source": [
    "![\"class\"](../image/class.png)"
   ]
  },
  {
   "cell_type": "markdown",
   "metadata": {},
   "source": [
    "> instantiate = نمونه کردن | instances = نمونه ها"
   ]
  },
  {
   "cell_type": "markdown",
   "metadata": {},
   "source": [
    "در شی گرایی  instantiate \n",
    "یعنی نمونه ساختن از class\n",
    "و instance\n",
    "ها نمونه های ساخته شده از یک کلاس هستن"
   ]
  },
  {
   "cell_type": "markdown",
   "metadata": {},
   "source": []
  }
 ],
 "metadata": {
  "kernelspec": {
   "display_name": "Python 3",
   "language": "python",
   "name": "python3"
  },
  "language_info": {
   "codemirror_mode": {
    "name": "ipython",
    "version": 3
   },
   "file_extension": ".py",
   "mimetype": "text/x-python",
   "name": "python",
   "nbconvert_exporter": "python",
   "pygments_lexer": "ipython3",
   "version": "3.11.5"
  }
 },
 "nbformat": 4,
 "nbformat_minor": 2
}
