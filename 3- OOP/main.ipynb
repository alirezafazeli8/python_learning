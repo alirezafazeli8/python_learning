{
 "cells": [
  {
   "cell_type": "markdown",
   "metadata": {},
   "source": [
    "# Advanced Python Object Oriented Programming"
   ]
  },
  {
   "cell_type": "markdown",
   "metadata": {},
   "source": [
    "everything in python is an object "
   ]
  },
  {
   "cell_type": "markdown",
   "metadata": {},
   "source": [
    "اگر ما با استفاده از تابع type بیایم دیتا های مارو تایپ بگیریم ، میبینیم که اول اون ها class نوشته شده\n",
    "که این نشون دهنده اینه که همه چی در پایتون آبجکت هستش."
   ]
  },
  {
   "cell_type": "code",
   "execution_count": 2,
   "metadata": {},
   "outputs": [
    {
     "name": "stdout",
     "output_type": "stream",
     "text": [
      "<class 'NoneType'>\n",
      "<class 'bool'>\n",
      "<class 'int'>\n",
      "<class 'float'>\n",
      "<class 'str'>\n",
      "<class 'list'>\n",
      "<class 'tuple'>\n",
      "<class 'dict'>\n"
     ]
    }
   ],
   "source": [
    "print(type(None))\n",
    "print(type(True))\n",
    "print(type(5))\n",
    "print(type(5.5))\n",
    "print(type(\"a\"))\n",
    "print(type([]))\n",
    "print(type(()))\n",
    "print(type({}))"
   ]
  },
  {
   "cell_type": "markdown",
   "metadata": {},
   "source": [
    "ما با استفاده از شی گرایی میتونیم دیتا تایپ های خودمون ، متود های خودمون واتربیوت های خودمونو بسازیم."
   ]
  },
  {
   "cell_type": "markdown",
   "metadata": {},
   "source": [
    "> maintain = حفظ کردن"
   ]
  },
  {
   "cell_type": "markdown",
   "metadata": {},
   "source": [
    "oop is paradigm. its a way for us to think about our code and structure our code in away that easier to maintain, extend and write"
   ]
  },
  {
   "cell_type": "markdown",
   "metadata": {},
   "source": [
    "شی گرایی یک الگو هستش . یک راه برای فکر کردن . و به ما یک ساختار به کدمون میده که بتونیم کدمون رو نگهداری بکنیم ، ارتقاش بدیم و توسعش بدیم.\n",
    "با استفاده از شی گرایی میتونیم یک الگو از قسمت های مختلف کدمون داشته باشیم و راحت تر اونو توسعه بدیم یا افراد دیگه ای با استفاده از این روش روی قسمت های مختلف دیگه کد کار بکنن  توسعه بدن"
   ]
  },
  {
   "cell_type": "markdown",
   "metadata": {},
   "source": [
    "برای نوشتن اسم کلاس در شی گرایی پایتون از نوع تایپ کمل کیس باید استفاده بکنیم."
   ]
  },
  {
   "cell_type": "code",
   "execution_count": null,
   "metadata": {},
   "outputs": [],
   "source": [
    "class BigObject:\n",
    "    pass"
   ]
  },
  {
   "cell_type": "markdown",
   "metadata": {},
   "source": [
    "ابجکت ها مثل یک بلوپرینت یا نقشه ساختمان هستن ما یکبار یک نقشه رو طراحی میکنیم و بارها و بارها با استفاده از اون نقشه ساختمان های مختلف میسازیم و دیگه نیازی به اضافه کاری و نوشتن دوباره کد نیست. یک بار کد و بارها استفاده."
   ]
  },
  {
   "cell_type": "code",
   "execution_count": 4,
   "metadata": {},
   "outputs": [
    {
     "name": "stdout",
     "output_type": "stream",
     "text": [
      "<class '__main__.BigObject'>\n"
     ]
    }
   ],
   "source": [
    "class BigObject:\n",
    "    pass\n",
    "\n",
    "obj_one = BigObject()\n",
    "\n",
    "print(type(obj_one))"
   ]
  },
  {
   "cell_type": "markdown",
   "metadata": {},
   "source": [
    "ایده پشت شی گرایی اینه که آقا ، کلاس ها یک نقشه ای از چیزی هستن که ما میخوایم بسازیم و آبجکت ها اون چیز هایی هستن که از طریق اون نقشه ساخته میشن."
   ]
  },
  {
   "cell_type": "markdown",
   "metadata": {},
   "source": [
    "![\"class\"](../image/class.png)"
   ]
  },
  {
   "cell_type": "markdown",
   "metadata": {},
   "source": [
    "> instantiate = نمونه کردن | instances = نمونه ها"
   ]
  },
  {
   "cell_type": "markdown",
   "metadata": {},
   "source": [
    "در شی گرایی  instantiate \n",
    "یعنی نمونه ساختن از class\n",
    "و instance\n",
    "ها نمونه های ساخته شده از یک کلاس هستن"
   ]
  },
  {
   "cell_type": "markdown",
   "metadata": {},
   "source": [
    "# create a class"
   ]
  },
  {
   "cell_type": "code",
   "execution_count": 16,
   "metadata": {},
   "outputs": [
    {
     "name": "stdout",
     "output_type": "stream",
     "text": [
      "Rocky\n",
      "19\n",
      "Rocky Run Now !\n",
      "---------\n",
      "John\n",
      "20\n",
      "John Run Now !\n",
      "20\n"
     ]
    }
   ],
   "source": [
    "# Harry Potter wizards in oop\n",
    "\n",
    "class PlayerCharacter:\n",
    "    def __init__(self, name, age):\n",
    "        self.name = name\n",
    "        self.age = age\n",
    "    \n",
    "    def run(self):\n",
    "        print(f\"{self.name} Run Now !\")\n",
    "        \n",
    "player1 = PlayerCharacter(\"Rocky\", 19)\n",
    "player2 = PlayerCharacter(\"John\", 20)\n",
    "\n",
    "print(player1.name)\n",
    "print(player1.age)\n",
    "player1.run()\n",
    "print(\"---------\")\n",
    "print(player2.name)\n",
    "print(player2.age)\n",
    "player2.run()\n",
    "\n",
    "player2.attack_speed = 20\n",
    "\n",
    "print(player2.attack_speed)\n",
    "\n",
    "# print(PlayerCharacter(\"alireza\", 21))"
   ]
  },
  {
   "cell_type": "markdown",
   "metadata": {},
   "source": [
    "> constructor = سازنده"
   ]
  },
  {
   "cell_type": "markdown",
   "metadata": {},
   "source": [
    "__init__ method is a dunder method or magic method\\\n",
    "- instantiate means is we're calling class to create an object.\n",
    "- self is refers to  whatevers to the left of the dot"
   ]
  },
  {
   "cell_type": "markdown",
   "metadata": {},
   "source": [
    "when function does'nt return anything and when we printing it we get none"
   ]
  },
  {
   "cell_type": "code",
   "execution_count": 31,
   "metadata": {},
   "outputs": [
    {
     "name": "stdout",
     "output_type": "stream",
     "text": [
      "Buy Membership\n",
      "Buy Membership\n",
      "run ! 2\n"
     ]
    }
   ],
   "source": [
    "class PlayerCharacter:\n",
    "    # class object attribute\n",
    "    membership = False\n",
    "\n",
    "    def __init__(self, name, age):\n",
    "        if self.membership:\n",
    "            # class attribute\n",
    "            self.name = name\n",
    "            # instead of self we can do this\n",
    "            PlayerCharacter.age = age\n",
    "        else:\n",
    "            print(\"Buy Membership\")\n",
    "\n",
    "    def run(self, run_num):\n",
    "        print(f\"run ! {run_num}\")\n",
    "\n",
    "player1 = PlayerCharacter(\"Jason\", 54)\n",
    "player2 = PlayerCharacter(\"Sara\", 19)\n",
    "\n",
    "player2.run(2)\n"
   ]
  },
  {
   "cell_type": "markdown",
   "metadata": {},
   "source": [
    "attribute : دیتا هایی هستن از صفت یک آبجکت که داینامیک و قابل تغییرن"
   ]
  },
  {
   "cell_type": "markdown",
   "metadata": {},
   "source": [
    "Class Object attribute : به متغیر هایی که در اول کلاس ها ایجاد میشن گفته میشوند که داینامیک نیستن بلکه استاتیکن\\\n",
    "\n",
    "Class Attribute : به متغیر هایی که در اینیت ساخته میشن و داینامیکن گفته میشن"
   ]
  },
  {
   "cell_type": "markdown",
   "metadata": {},
   "source": [
    " ## Default attribute params\n"
   ]
  },
  {
   "cell_type": "code",
   "execution_count": 26,
   "metadata": {},
   "outputs": [
    {
     "name": "stdout",
     "output_type": "stream",
     "text": [
      "sara 18 \n"
     ]
    }
   ],
   "source": [
    "class Human:\n",
    "    def __init__(self, name=\"sara\", age=18):\n",
    "        if age >= 18:\n",
    "            self.name = name\n",
    "            self.age = age\n",
    "        else:\n",
    "            print(\"Error\")\n",
    "    \n",
    "    \n",
    "    def info(self):\n",
    "        return f'{self.name} {self.age} '\n",
    "\n",
    "irani = Human(\"alireza\", 19)\n",
    "germany = Human()\n",
    "print(germany.info())\n"
   ]
  },
  {
   "cell_type": "markdown",
   "metadata": {},
   "source": [
    "## OOP Practice > cats everywhere"
   ]
  },
  {
   "cell_type": "code",
   "execution_count": 40,
   "metadata": {},
   "outputs": [
    {
     "name": "stdout",
     "output_type": "stream",
     "text": [
      "The Oldest Cat is 12 years old.\n"
     ]
    }
   ],
   "source": [
    "# Given the below class:\n",
    "class Cat:\n",
    "    species = \"mammal\"\n",
    "\n",
    "    def __init__(self, name, age):\n",
    "        self.name = name\n",
    "        self.age = age\n",
    "\n",
    "\n",
    "# 1 Instantiate the Cat object with 3 cats\n",
    "cat1 = Cat(\"Rocky\", 2)\n",
    "cat2 = Cat(\"Adrian\", 12)\n",
    "cat3 = Cat(\"Paul\", 10)\n",
    "\n",
    "# 2 Create a function that finds the oldest cat\n",
    "def find_oldest(*args):\n",
    "    cat_age = []\n",
    "\n",
    "    for cat in args:\n",
    "        cat_age.append(cat.age)\n",
    "\n",
    "    return max(cat_age)\n",
    "\n",
    "\n",
    "# 3 Print out: \"The oldest cat is x years old.\". x will be the oldest cat age by using the function in #2\n",
    "print(f\"The Oldest Cat is {find_oldest(cat1, cat2, cat3)} years old.\")"
   ]
  },
  {
   "cell_type": "markdown",
   "metadata": {},
   "source": [
    "## @classmethod"
   ]
  },
  {
   "cell_type": "markdown",
   "metadata": {},
   "source": [
    "کلاس متود روشی هست که ما با استفاده از اون میتونیم از متود بدون اینکه نیازی باشه یک شئی جدیدی بسازیم از اون متود استفاده کنیم."
   ]
  },
  {
   "cell_type": "code",
   "execution_count": 63,
   "metadata": {},
   "outputs": [
    {
     "name": "stdout",
     "output_type": "stream",
     "text": [
      "3\n"
     ]
    }
   ],
   "source": [
    "class Cat:\n",
    "\n",
    "    def __init__(self, name, age):\n",
    "        self.name = name\n",
    "        self.age = age\n",
    "\n",
    "    def info(self):\n",
    "        return f\"{self.name} {self.age} \"\n",
    "\n",
    "    @classmethod\n",
    "    def adding_things(cls, num1, num2):\n",
    "        return num1 + num2\n",
    "\n",
    "\n",
    "cat1 = Cat(\"Rocky\", \"2\")\n",
    "cat2 = Cat.adding_things(1, 2)\n",
    "\n",
    "print(cat2)"
   ]
  },
  {
   "cell_type": "markdown",
   "metadata": {},
   "source": [
    "cls parameter :\\\n",
    "این پارامتر یک رپزنتی از اون کلاس ما هستش که ما میتونیم درون متود از اون استفاده بکنیم."
   ]
  },
  {
   "cell_type": "code",
   "execution_count": 65,
   "metadata": {},
   "outputs": [
    {
     "name": "stdout",
     "output_type": "stream",
     "text": [
      "You can\n"
     ]
    }
   ],
   "source": [
    "class Car:\n",
    "    def __init__(self, name, color):\n",
    "        self.name = name\n",
    "        self.color = color\n",
    "        \n",
    "    @classmethod\n",
    "    def can_you_drive(cls, your_age):\n",
    "        if your_age >= 18:\n",
    "            print(\"You can\")\n",
    "        else:\n",
    "            print(\"You cant\")\n",
    "            \n",
    "            \n",
    "benz = Car(\"AMG\", \"Black\")\n",
    "Car.can_you_drive(19)\n"
   ]
  },
  {
   "cell_type": "code",
   "execution_count": 67,
   "metadata": {},
   "outputs": [
    {
     "name": "stdout",
     "output_type": "stream",
     "text": [
      "You can drive with AMG\n"
     ]
    }
   ],
   "source": [
    "class Car:\n",
    "    def __init__(self, name, color):\n",
    "        self.name = name\n",
    "        self.color = color\n",
    "\n",
    "    @classmethod\n",
    "    def can_you_drive(cls, name, color, your_age):\n",
    "        new_car = cls(name, color)\n",
    "        \n",
    "        if your_age >= 18:\n",
    "            print(f\"You can drive with {new_car.name}\")\n",
    "        else:\n",
    "            print(f\"You cant drive with {new_car.name}\")\n",
    "\n",
    "\n",
    "benz = Car(\"AMG\", \"Black\")\n",
    "Car.can_you_drive(\"AMG\", \"\", 19)"
   ]
  },
  {
   "cell_type": "markdown",
   "metadata": {},
   "source": [
    "## @staticmethod : \n",
    "این دقیقا مثل کلاس متود هستش با این تفاوت که این دیگه پارامتر cls دریافت نمیکنه.\n",
    "و این یک متودی هستش که ما میتونیم فقط برای یک کار مشخص بدون نیاز به ساخت کلاس اون کار رو انجام بدیم.\n"
   ]
  },
  {
   "cell_type": "code",
   "execution_count": 72,
   "metadata": {},
   "outputs": [
    {
     "name": "stdout",
     "output_type": "stream",
     "text": [
      "You can\n"
     ]
    }
   ],
   "source": [
    "class Car:\n",
    "    def __init__(self, name, color):\n",
    "        self.name = name\n",
    "        self.color = color\n",
    "\n",
    "    @staticmethod\n",
    "    def can_you_drive(your_age):\n",
    "        if your_age >= 18:\n",
    "            return \"You can\"\n",
    "        else:\n",
    "            return \"You cant\"\n",
    "\n",
    "print(Car.can_you_drive(19))"
   ]
  },
  {
   "cell_type": "markdown",
   "metadata": {},
   "source": [
    "## Pillars of OOP : \n",
    "1. Encapsulation\n",
    "2. Abstraction\n",
    "3. Inheritance\n",
    "4. Polymorphism"
   ]
  },
  {
   "cell_type": "markdown",
   "metadata": {},
   "source": [
    "# Encapsulation : \n",
    "فرآیند یا شرطی هستش که طی اون ما وقتی کلاسی رو میسازیم باید اون کلاس فایده ای داشته باشه و تمامی متود های مورد نیازش و اتربیوت های موردنیاز رو درون خودش داشته باشه و یک پکیج کاملی رو از قابلیت ها ارائه بده.\n",
    "\n",
    "- By definition, encapsulation describes bundling data and methods that work on that data within one unit.The general idea of this mechanism is simple. For example, you have an attribute that is not visible from the outside of an object. You bundle it with methods that provide read or write access. Encapsulation allows you to hide specific information and control access to the object’s internal state."
   ]
  },
  {
   "cell_type": "markdown",
   "metadata": {},
   "source": [
    "## Abstraction : \n",
    "abstraction means hiding of information or abstracting away information and giving access to only whats nessccery.\\\n",
    "یعنی اینکه ما فقط در کلاسمون به کاربر و بقیه برنامه نویس ها فقط چیزهایی رو که نیاز هستش رو ارائه و دسترسی بدیم و نیازی نیستش اونا همه چیو تغییر بدن یا به یکسری از دیتا ها از طریق اون ابجکت دسترسی داشته باشن.\\\n",
    "\n",
    "- Its main goal is to handle complexity by hiding unnecessary details from the user. \n"
   ]
  },
  {
   "cell_type": "markdown",
   "metadata": {},
   "source": [
    "private variable : \n",
    "متغیری هستش که درون کلاس ما از بیرون غیر قابل تغییره و به عنوان مثال در جاوا با کلمه کلیدی پرایوت اینکارو انجام میدن.\n",
    "ولی در پایتون همچین قابلیتی وجود نداره و بیشتر به صورت قرار دادی این قابلیت تعریف میشه.\n",
    "با استفاده از آندر اسکور میتونیم یک متغیر پرایوت تعریف کنیم."
   ]
  },
  {
   "cell_type": "code",
   "execution_count": null,
   "metadata": {},
   "outputs": [],
   "source": [
    "class Human:\n",
    "    def __init__(self, name, age):\n",
    "        self._name = name\n",
    "        self._age = age\n",
    "    \n",
    "    def info(self):\n",
    "        return f'{self._name} {self._age}'\n",
    "    \n"
   ]
  },
  {
   "cell_type": "markdown",
   "metadata": {},
   "source": [
    "# inheritance : ارث بری\n",
    "یعنی اینکه ما بتونیم اجزای درونی یک کلاسی را در درون یک کلاس دیگر استفاده کنیم یا به ارث ببریم که دیگر نیاز به دوبار نوشتن کد نباشد."
   ]
  },
  {
   "cell_type": "code",
   "execution_count": 5,
   "metadata": {},
   "outputs": [
    {
     "name": "stdout",
     "output_type": "stream",
     "text": [
      "User Logged in .\n",
      "attacking with power of fire\n",
      "User Logged in .\n",
      "attacking with arrows : arrow left-20\n"
     ]
    }
   ],
   "source": [
    "class User:\n",
    "    def sign_in(self):\n",
    "        print(\"User Logged in .\")\n",
    "\n",
    "\n",
    "# game character\n",
    "class Wizard(User):\n",
    "    def __init__(self, name, power):\n",
    "        self.name = name\n",
    "        self.power = power\n",
    "        \n",
    "    def attack(self):\n",
    "        print(f'attacking with power of {self.power}')\n",
    "\n",
    "\n",
    "class Archer(User):\n",
    "    def __init__(self, name, num_arrows):\n",
    "        self.name = name\n",
    "        self.num_arrows = num_arrows\n",
    "\n",
    "    def attack(self):\n",
    "        print(f\"attacking with arrows : arrow left-{self.num_arrows}\")\n",
    "\n",
    "\n",
    "wizard1 = Wizard(\"wizard\", \"fire\")\n",
    "wizard1.sign_in()\n",
    "wizard1.attack()\n",
    "\n",
    "archer1 = Archer(\"archer\", 20)\n",
    "archer1.sign_in()\n",
    "archer1.attack()"
   ]
  },
  {
   "cell_type": "markdown",
   "metadata": {},
   "source": [
    "## isinstance() \n",
    "این به ما میگه که آیا یک ابجکت اینستنسی از یک کلاس هستش یا نه؟"
   ]
  },
  {
   "cell_type": "code",
   "execution_count": 10,
   "metadata": {},
   "outputs": [
    {
     "name": "stdout",
     "output_type": "stream",
     "text": [
      "True\n"
     ]
    }
   ],
   "source": [
    "print(isinstance(wizard1, Wizard))"
   ]
  },
  {
   "cell_type": "markdown",
   "metadata": {},
   "source": [
    "> everything in python inherits from the base object class that python comes with and its called object"
   ]
  },
  {
   "cell_type": "code",
   "execution_count": 12,
   "metadata": {},
   "outputs": [
    {
     "name": "stdout",
     "output_type": "stream",
     "text": [
      "True\n"
     ]
    }
   ],
   "source": [
    "print(isinstance(wizard1, object)) # because everything is object."
   ]
  },
  {
   "cell_type": "markdown",
   "metadata": {},
   "source": [
    "# Polymorphism\n",
    "> poly means many and morphism means many form\n",
    "\n",
    "\n",
    "In Python, polymorphisms refer to the occurrence of something in multiple forms\n",
    "\n",
    "> The word \"polymorphism\" means \"many forms\", and in programming it refers to methods/functions/operators with the same name that can be executed on many objects or classes.\n",
    "\n",
    "یعنی اینکه ما ممکنه به شیوه های مختلفی متود ها فانکشن ها و غیره رو با نام یکسان در کلاس ها و ابجکت ها استفاده و اجرا بکنیم."
   ]
  },
  {
   "cell_type": "code",
   "execution_count": 24,
   "metadata": {},
   "outputs": [
    {
     "name": "stdout",
     "output_type": "stream",
     "text": [
      "Attack from user\n",
      "attacking with arrows : arrow left-20\n"
     ]
    }
   ],
   "source": [
    "class User:\n",
    "    def sign_in(self):\n",
    "        print(\"User Logged in .\")\n",
    "\n",
    "    def attack(self):\n",
    "        print(\"Attack from user\")\n",
    "\n",
    "# game character\n",
    "class Wizard(User):\n",
    "    def __init__(self, name, power):\n",
    "        self.name = name\n",
    "        self.power = power\n",
    "\n",
    "    def attack(self):\n",
    "        User.attack(self)\n",
    "        print(f\"attacking with power of {self.power}\")\n",
    "\n",
    "\n",
    "class Archer(User):\n",
    "    def __init__(self, name, num_arrows):\n",
    "        self.name = name\n",
    "        self.num_arrows = num_arrows\n",
    "\n",
    "    def attack(self):\n",
    "        User.attack(self)\n",
    "        print(f\"attacking with arrows : arrow left-{self.num_arrows}\")\n",
    "\n",
    "\n",
    "wizard1 = Wizard(\"wizard\", \"fire\")\n",
    "archer1 = Archer(\"archer\", 20)\n",
    "\n",
    "# def player_attack(char):\n",
    "#     char.attack()\n",
    "\n",
    "\n",
    "# for char in [wizard1, archer1]:\n",
    "#     char.attack()\n",
    "\n",
    "archer1.attack()"
   ]
  },
  {
   "cell_type": "markdown",
   "metadata": {},
   "source": [
    "## Example of polymorphism  :"
   ]
  },
  {
   "cell_type": "code",
   "execution_count": 3,
   "metadata": {},
   "outputs": [
    {
     "name": "stdout",
     "output_type": "stream",
     "text": [
      "Drive\n",
      "sail\n",
      "fly\n"
     ]
    }
   ],
   "source": [
    "class Vehicle:\n",
    "    def __init__(self, brand, model):\n",
    "        self.brand = brand\n",
    "        self.model = model\n",
    "        \n",
    "    def move(self):\n",
    "        print(\"Move\")\n",
    "\n",
    "\n",
    "class Car(Vehicle):\n",
    "    def move(self):\n",
    "        print(\"Drive\")\n",
    "\n",
    "\n",
    "class Boat(Vehicle):\n",
    "    def move(self):\n",
    "        print(\"sail\")\n",
    "\n",
    "\n",
    "class Plane(Vehicle):\n",
    "    def move(self):\n",
    "        print(\"fly\")\n",
    "\n",
    "\n",
    "car1 = Car(\"benz\", \"amg\")\n",
    "boat1 = Boat(\"bmw\", \"boat-031\")\n",
    "plane1 = Plane(\"Homa\", \"Homa214\")\n",
    "\n",
    "for move in [car1, boat1, plane1]:\n",
    "    move.move()"
   ]
  },
  {
   "cell_type": "markdown",
   "metadata": {},
   "source": [
    "## `.__init__()` : \n",
    "با استفاده از این متود میتوان متغیر های درون کلاس مادر را درون یک کلاس فرزند استفاده کرد."
   ]
  },
  {
   "cell_type": "code",
   "execution_count": 7,
   "metadata": {},
   "outputs": [
    {
     "name": "stdout",
     "output_type": "stream",
     "text": [
      "email\n"
     ]
    }
   ],
   "source": [
    "class User:\n",
    "    def __init__(self, email):\n",
    "        self.email = email\n",
    "        \n",
    "    def sign_in(self):\n",
    "        print(\"User Logged in .\")\n",
    "\n",
    "\n",
    "# game character\n",
    "class Wizard(User):\n",
    "    def __init__(self, name, power, email):\n",
    "        User.__init__(self, email)\n",
    "        self.name = name\n",
    "        self.power = power\n",
    "\n",
    "    def attack(self):\n",
    "        print(f\"attacking with power of {self.power}\")\n",
    "\n",
    "\n",
    "class Archer(User):\n",
    "    def __init__(self, name, num_arrows):\n",
    "        self.name = name\n",
    "        self.num_arrows = num_arrows\n",
    "\n",
    "    def attack(self):\n",
    "        print(f\"attacking with arrows : arrow left-{self.num_arrows}\")\n",
    "        \n",
    "wizard1 = Wizard(\"Rocky\", \"fire\", \"email\")\n",
    "print(wizard1.email)\n"
   ]
  },
  {
   "cell_type": "markdown",
   "metadata": {},
   "source": [
    "نکته : ما چرا از سوپر فانکشن استفاده میکنیم؟ به این دلیل که  ما وقتی بیایم پراپرتی های ساب کلاسمون رو تعریف بکنیم دیگه نمیتونیم از پراپرتی های سوپر کلاسمون استفاده بکنیم پس نیازه که از سوپر فانکشن استفاده بکنیم تا بتونیم به پراپرتی های سوپر کلاسمون دسترسی کامل داشته باشیم "
   ]
  },
  {
   "cell_type": "markdown",
   "metadata": {},
   "source": [
    "## `.super()` : \n",
    "این هم کارش دیقیقا مثل داندر متوداینیت هستش ، با این تفاوت که این متود خودش به صورت اتومات سوپر کلاس مارو تشخیص میده و دیگه نیازی به کلمه کیلیدی self هم نیستش."
   ]
  },
  {
   "cell_type": "code",
   "execution_count": 8,
   "metadata": {},
   "outputs": [
    {
     "name": "stdout",
     "output_type": "stream",
     "text": [
      "email\n"
     ]
    }
   ],
   "source": [
    "class User:\n",
    "    def __init__(self, email):\n",
    "        self.email = email\n",
    "\n",
    "    def sign_in(self):\n",
    "        print(\"User Logged in .\")\n",
    "\n",
    "\n",
    "# game character\n",
    "class Wizard(User):\n",
    "    def __init__(self, name, power, email):\n",
    "        # using super : \n",
    "        super().__init__(email) \n",
    "        \n",
    "        self.name = name\n",
    "        self.power = power\n",
    "\n",
    "    def attack(self):\n",
    "        print(f\"attacking with power of {self.power}\")\n",
    "\n",
    "\n",
    "class Archer(User):\n",
    "    def __init__(self, name, num_arrows):\n",
    "        self.name = name\n",
    "        self.num_arrows = num_arrows\n",
    "\n",
    "    def attack(self):\n",
    "        print(f\"attacking with arrows : arrow left-{self.num_arrows}\")\n",
    "\n",
    "\n",
    "wizard1 = Wizard(\"Rocky\", \"fire\", \"email\")\n",
    "print(wizard1.email)"
   ]
  },
  {
   "cell_type": "markdown",
   "metadata": {},
   "source": [
    "> determine = مشخص کردن\n",
    "> introspection = تفکر وتامل"
   ]
  },
  {
   "cell_type": "markdown",
   "metadata": {},
   "source": [
    "## introspection :\n",
    "introspection in computer programming means the ability to determine the type of an object at runtime.\n",
    "یعنی درون نگری و گشتن درباره یک آبجکت که چه قابلیت هایی داره ، به عنوان مثال یک ادیتور برای ما در اینتلیسنسش یک سری متود های اون ابجکت رو برای ما میاره این داره درون نگری میکنه.\\\n",
    "\n",
    "## `dir()` :\n",
    "این فانکشن دقیقا کارش انجام کار بالایی هستش . میاد تمومی متود هایی که یک ابجکت داره رو برای ما برمیگردونه"
   ]
  },
  {
   "cell_type": "code",
   "execution_count": 9,
   "metadata": {},
   "outputs": [
    {
     "name": "stdout",
     "output_type": "stream",
     "text": [
      "['__class__', '__delattr__', '__dict__', '__dir__', '__doc__', '__eq__', '__format__', '__ge__', '__getattribute__', '__getstate__', '__gt__', '__hash__', '__init__', '__init_subclass__', '__le__', '__lt__', '__module__', '__ne__', '__new__', '__reduce__', '__reduce_ex__', '__repr__', '__setattr__', '__sizeof__', '__str__', '__subclasshook__', '__weakref__']\n"
     ]
    }
   ],
   "source": [
    "class Human:\n",
    "    def __init__(self, name, age):\n",
    "        self.name = name\n",
    "        self.age = age\n",
    "        \n",
    "print(dir(Human))"
   ]
  },
  {
   "cell_type": "markdown",
   "metadata": {},
   "source": [
    "# Dunder Methods : \n",
    "\n",
    "- `def __str__(self):` : این فانکشن کارش اینه که یک متن استرینگی رو برای نشون دادن کلاس به نمایندگی ازکلاس برای ما بر میگردنه\n",
    "\n",
    "> ما میتونیم داندر متود هارو برای خودمون اوررایت بکنیم و کلا درون یک کلاس به یک چیز دیگه کاراییشون رو تبدیل بکنیم.\n",
    "\n",
    "- `__len__` : Python __len__ is one of the various magic methods in Python programming language, it is basically used to implement the len() function in Python because whenever we call the len() function then internally __len__ magic method is called.\n",
    "\n",
    "- `__del__` : __del__ is a destructor method which is called as soon as all references of the object are deleted i.e when an object is garbage collected.\n",
    "\n",
    "- `__call__` : The __call__ method enables Python programmers to write classes where the instances behave like functions and can be called like a function.\n",
    "\n",
    "- `__getitem__` : __getitem__() is a magic method in Python, which when used in a class, allows its instances to use the [] (indexer) operators.\n",
    "\n",
    "\n",
    "del keyword : این کلمه کلیدی میاد متغیر مارو کلا حذف میکنه از مموری "
   ]
  },
  {
   "cell_type": "code",
   "execution_count": 40,
   "metadata": {},
   "outputs": [
    {
     "name": "stdout",
     "output_type": "stream",
     "text": [
      "deleted\n",
      "This is Toy Class\n",
      "This is Toy Class\n",
      "This is Toy Class\n",
      "deleted\n",
      "7\n",
      "deleted\n",
      "This is Toy Class\n",
      "This is Toy Class\n",
      "deleted\n",
      "alireza\n",
      "Yess !!\n"
     ]
    }
   ],
   "source": [
    "\n",
    "class Toy:\n",
    "    def __init__(self, color, age):\n",
    "        self.color = color\n",
    "        self.age = age\n",
    "        self.item = {\n",
    "            'name': \"alireza\",\n",
    "            'age': 19\n",
    "        }\n",
    "    \n",
    "    def __str__(self):\n",
    "        return \"This is Toy Class\"\n",
    "    \n",
    "    def __len__(self):\n",
    "        return 7\n",
    "    \n",
    "    def __del__(self):\n",
    "        print(\"deleted\")\n",
    "        \n",
    "    def __call__(self):\n",
    "        print(\"Yess !!\")\n",
    "        \n",
    "    def __getitem__(self, i):\n",
    "        return self.item[i]\n",
    "\n",
    "\n",
    "toy1 = Toy(\"red\", 0)\n",
    "\n",
    "print(toy1)\n",
    "print(toy1.__str__())\n",
    "print(str(toy1))\n",
    "\n",
    "print(len(Toy(\"red\", 0)))\n",
    "print(str(Toy(\"red\", 0)))\n",
    "\n",
    "# del toy1\n",
    "print(Toy(\"red\", 0))\n",
    "\n",
    "# print(toy1[\"name\"])\n",
    "toy1()"
   ]
  },
  {
   "cell_type": "markdown",
   "metadata": {},
   "source": [
    " `issubclass(childclass , parentclass)` :  این فانکشن به ما میگه که آیا کلاس ما یک چایلد از کلاس والد خودشه؟"
   ]
  },
  {
   "cell_type": "markdown",
   "metadata": {},
   "source": [
    "# Multiple Inheritance : "
   ]
  },
  {
   "cell_type": "code",
   "execution_count": 54,
   "metadata": {},
   "outputs": [
    {
     "name": "stdout",
     "output_type": "stream",
     "text": [
      "attacking with arrows : arrow left-1000\n",
      "attacking with power of gun\n"
     ]
    }
   ],
   "source": [
    "class User:\n",
    "    def sign_in(self):\n",
    "        print(\"User Logged in .\")\n",
    "\n",
    "\n",
    "# game character\n",
    "class Wizard(User):\n",
    "    def __init__(self, name, power):\n",
    "        self.name = name\n",
    "        self.power = power\n",
    "\n",
    "    def attack(self):\n",
    "        print(f\"attacking with power of {self.power}\")\n",
    "\n",
    "\n",
    "class Archer(User):\n",
    "    def __init__(self, name, num_arrows):\n",
    "        self.name = name\n",
    "        self.num_arrows = num_arrows\n",
    "\n",
    "    def archer(self):\n",
    "        print(f\"attacking with arrows : arrow left-{self.num_arrows}\")\n",
    "    \n",
    "    def speak(self):\n",
    "        print(f'{self.name} is speaking in jungle')\n",
    "        \n",
    "        \n",
    "class Jungler(Wizard, Archer):\n",
    "    def __init__(self, name, power, num_arrows):\n",
    "        Archer.__init__(self, name, num_arrows)\n",
    "        Wizard.__init__(self, name, power)\n",
    "\n",
    "jungler1 = Jungler(\"Jungler\", \"gun\", 1000)\n",
    "\n",
    "jungler1.archer()\n",
    "jungler1.attack()\n"
   ]
  },
  {
   "cell_type": "markdown",
   "metadata": {},
   "source": [
    "# MRO - Method Resolution Order : "
   ]
  },
  {
   "cell_type": "code",
   "execution_count": 63,
   "metadata": {},
   "outputs": [
    {
     "name": "stdout",
     "output_type": "stream",
     "text": [
      "1\n",
      "[<class '__main__.D'>, <class '__main__.B'>, <class '__main__.C'>, <class '__main__.A'>, <class 'object'>]\n"
     ]
    }
   ],
   "source": [
    "class A:\n",
    "    num = 10\n",
    "    \n",
    "class B(A):\n",
    "    pass\n",
    "\n",
    "class C(A):\n",
    "    num = 1\n",
    "    \n",
    "class D(B, C):\n",
    "    pass\n",
    "    \n",
    "print(D.num)\n",
    "\n",
    "print(D.mro())"
   ]
  }
 ],
 "metadata": {
  "kernelspec": {
   "display_name": "Python 3",
   "language": "python",
   "name": "python3"
  },
  "language_info": {
   "codemirror_mode": {
    "name": "ipython",
    "version": 3
   },
   "file_extension": ".py",
   "mimetype": "text/x-python",
   "name": "python",
   "nbconvert_exporter": "python",
   "pygments_lexer": "ipython3",
   "version": "3.11.5"
  }
 },
 "nbformat": 4,
 "nbformat_minor": 2
}
