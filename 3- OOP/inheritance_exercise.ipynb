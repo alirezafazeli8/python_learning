{
 "cells": [
  {
   "cell_type": "markdown",
   "metadata": {},
   "source": [
    "# Inheritance Exercise : "
   ]
  },
  {
   "cell_type": "code",
   "execution_count": 3,
   "metadata": {},
   "outputs": [
    {
     "name": "stdout",
     "output_type": "stream",
     "text": [
      "Rocky is just walking around\n",
      "James is just walking around\n",
      "Adrian is just walking around\n"
     ]
    }
   ],
   "source": [
    "class Pets:\n",
    "    animals = []\n",
    "\n",
    "    def __init__(self, animals):\n",
    "        self.animals = animals\n",
    "\n",
    "    def walk(self):\n",
    "        for animal in self.animals:\n",
    "            print(animal.walk())\n",
    "\n",
    "\n",
    "class Cat:\n",
    "    is_lazy = True\n",
    "\n",
    "    def __init__(self, name, age):\n",
    "        self.name = name\n",
    "        self.age = age\n",
    "\n",
    "    def walk(self):\n",
    "        return f\"{self.name} is just walking around\"\n",
    "\n",
    "\n",
    "class Simon(Cat):\n",
    "    def sing(self, sounds):\n",
    "        return f\"{sounds}\"\n",
    "\n",
    "\n",
    "class Sally(Cat):\n",
    "    def sing(self, sounds):\n",
    "        return f\"{sounds}\"\n",
    "\n",
    "\n",
    "# 1 Add another Cat\n",
    "class Rocky(Cat):\n",
    "    def sing(self, sounds):\n",
    "        return f\"{sounds}\"\n",
    "\n",
    "# 2 Create a list of all of the pets (create 3 cat instances from the above)\n",
    "cat1 = Cat(\"Rocky\", 10)\n",
    "cat2 = Cat(\"James\", 10)\n",
    "cat3 = Cat(\"Adrian\", 10)\n",
    "\n",
    "my_cats = [cat1, cat2, cat3]\n",
    "\n",
    "# 3 Instantiate the Pet class with all your cats use variable my_pets\n",
    "my_pets = Pets(my_cats)\n",
    "\n",
    "# 4 Output all of the cats walking using the my_pets instance\n",
    "my_pets.walk()"
   ]
  }
 ],
 "metadata": {
  "kernelspec": {
   "display_name": "Python 3",
   "language": "python",
   "name": "python3"
  },
  "language_info": {
   "codemirror_mode": {
    "name": "ipython",
    "version": 3
   },
   "file_extension": ".py",
   "mimetype": "text/x-python",
   "name": "python",
   "nbconvert_exporter": "python",
   "pygments_lexer": "ipython3",
   "version": "3.11.5"
  }
 },
 "nbformat": 4,
 "nbformat_minor": 2
}
