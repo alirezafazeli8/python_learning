{
 "cells": [
  {
   "cell_type": "markdown",
   "metadata": {},
   "source": [
    "# Exercise Extending List : "
   ]
  },
  {
   "cell_type": "code",
   "execution_count": 6,
   "metadata": {},
   "outputs": [
    {
     "name": "stdout",
     "output_type": "stream",
     "text": [
      "2\n",
      "[1, 2, 3, 4, 5, 6]\n",
      "1000\n"
     ]
    }
   ],
   "source": [
    "class SuperList:\n",
    "    \n",
    "    def __init__(self):\n",
    "        self.my_list = [1, 2, 3, 4, 5]\n",
    "        \n",
    "    def __getitem__(self, i):\n",
    "        return self.my_list[i]\n",
    "    \n",
    "    def append(self, user_item):\n",
    "        self.my_list.append(user_item)\n",
    "        \n",
    "    def __len__(self):\n",
    "        return 1000\n",
    "    \n",
    "    \n",
    "super_list_1 = SuperList()\n",
    "print(super_list_1[1])\n",
    "super_list_1.append(6)\n",
    "print(super_list_1.my_list)\n",
    "print(len(super_list_1))"
   ]
  },
  {
   "cell_type": "code",
   "execution_count": 11,
   "metadata": {},
   "outputs": [
    {
     "name": "stdout",
     "output_type": "stream",
     "text": [
      "1000\n",
      "6\n",
      "True\n"
     ]
    }
   ],
   "source": [
    "class SuperList(list):\n",
    "\n",
    "    def __len__(self):\n",
    "        return 1000\n",
    "\n",
    "\n",
    "super_list_1 = SuperList()\n",
    "super_list_1.append(6)\n",
    "print(len(super_list_1))\n",
    "print(super_list_1[0])\n",
    "print(issubclass(SuperList, list))"
   ]
  }
 ],
 "metadata": {
  "kernelspec": {
   "display_name": "Python 3",
   "language": "python",
   "name": "python3"
  },
  "language_info": {
   "codemirror_mode": {
    "name": "ipython",
    "version": 3
   },
   "file_extension": ".py",
   "mimetype": "text/x-python",
   "name": "python",
   "nbconvert_exporter": "python",
   "pygments_lexer": "ipython3",
   "version": "3.11.5"
  }
 },
 "nbformat": 4,
 "nbformat_minor": 2
}
