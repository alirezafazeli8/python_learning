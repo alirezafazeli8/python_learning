{
 "cells": [
  {
   "cell_type": "markdown",
   "metadata": {},
   "source": [
    "# Exercise Functional 1 :"
   ]
  },
  {
   "cell_type": "code",
   "execution_count": 73,
   "metadata": {},
   "outputs": [
    {
     "name": "stdout",
     "output_type": "stream",
     "text": [
      "['Sisi', 'Bibi', 'Titi', 'Carla']\n",
      "[('a', 1), ('b', 2), ('c', 3), ('d', 4), ('e', 5)]\n",
      "[20, 19]\n",
      "***********************************\n",
      "456\n"
     ]
    }
   ],
   "source": [
    "from functools import reduce\n",
    "\n",
    "# 1 Capitalize all of the pet names and print the list\n",
    "my_pets = [\"sisi\", \"bibi\", \"titi\", \"carla\"]\n",
    "\n",
    "\n",
    "def map_func(item):\n",
    "    return item.capitalize()\n",
    "\n",
    "print(list(map(map_func, my_pets)))\n",
    "\n",
    "# 2 Zip the 2 lists into a list of tuples, but sort the numbers from lowest to highest.\n",
    "my_strings = [\"a\", \"b\", \"c\", \"d\", \"e\"]\n",
    "my_numbers = [5, 4, 3, 2, 1]\n",
    "\n",
    "def pure_sort(items):\n",
    "    new_list = items.copy()\n",
    "    new_list.sort()\n",
    "    return new_list\n",
    "\n",
    "\n",
    "print(list(zip(my_strings, pure_sort(my_numbers))))\n",
    "\n",
    "# 3 Filter the scores that pass over 50%\n",
    "scores = [73, 20, 65, 19, 76, 100, 88]\n",
    "def filter_func(items):\n",
    "    if items > 50:\n",
    "        return False\n",
    "    else:\n",
    "        return True\n",
    "\n",
    "print(list(filter(filter_func, scores)))\n",
    "\n",
    "print(\"***********************************\")\n",
    "\n",
    "\n",
    "# ---------------------------------- all is wrong code and i tested them -------------------\n",
    "\n",
    "# 4 Combine all of the numbers that are in a list on this file using reduce (my_numbers and scores). What is the total?\n",
    "# def reduce_func(acc, item):\n",
    "#     def map_func_reduce(map_item):\n",
    "#         return item\n",
    "\n",
    "#     return list(map(map_func_reduce, acc))\n",
    "\n",
    "\n",
    "# print(reduce(reduce_func, my_numbers, scores))\n",
    "# def total_map(tm_item):\n",
    "\n",
    "#     def total_reduce(acc, tr_item):\n",
    "#         return acc + tr_item\n",
    "\n",
    "#     return reduce(total_reduce, scores, tm_item)\n",
    "\n",
    "# print(list(map(total_map, my_numbers)))\n",
    "\n",
    "\n",
    "# def reduce_func(acc, item):\n",
    "#     return acc + item\n",
    "\n",
    "# first_calc = reduce(reduce_func, list(zip(scores, my_numbers)), 0)\n",
    "\n",
    "# def in_reduce_func(acc_in, item_in):\n",
    "#     return acc_in + item_in\n",
    "\n",
    "\n",
    "# last_calc = reduce(in_reduce_func, first_calc, 0)\n",
    "\n",
    "# print(last_calc)\n",
    "\n",
    "# def reduce_func(acc, item):\n",
    "\n",
    "\n",
    "# print(reduce(reduce_func, scores, 0))\n",
    "\n",
    "# ---------------------------------- all is wrong code and i tested them -------------------\n",
    "\n",
    "\n",
    "all_nums = scores.copy()\n",
    "all_nums.extend(my_numbers)\n",
    "\n",
    "def reduce_map_func(acc, item):\n",
    "    return acc + item\n",
    "\n",
    "print(reduce(reduce_map_func, all_nums, 0))"
   ]
  }
 ],
 "metadata": {
  "kernelspec": {
   "display_name": "Python 3",
   "language": "python",
   "name": "python3"
  },
  "language_info": {
   "codemirror_mode": {
    "name": "ipython",
    "version": 3
   },
   "file_extension": ".py",
   "mimetype": "text/x-python",
   "name": "python",
   "nbconvert_exporter": "python",
   "pygments_lexer": "ipython3",
   "version": "3.11.5"
  }
 },
 "nbformat": 4,
 "nbformat_minor": 2
}
