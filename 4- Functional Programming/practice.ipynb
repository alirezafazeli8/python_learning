{
 "cells": [
  {
   "cell_type": "markdown",
   "metadata": {},
   "source": [
    "# Practice : "
   ]
  },
  {
   "cell_type": "code",
   "execution_count": 2,
   "metadata": {},
   "outputs": [
    {
     "name": "stdout",
     "output_type": "stream",
     "text": [
      "[1, 4, 9, 16, 25]\n"
     ]
    }
   ],
   "source": [
    "nums = [1, 2, 3, 4, 5]\n",
    "\n",
    "\n",
    "def map_func(items):\n",
    "    return items * items\n",
    "\n",
    "print(list(map(map_func, nums)))"
   ]
  },
  {
   "cell_type": "code",
   "execution_count": 3,
   "metadata": {},
   "outputs": [
    {
     "name": "stdout",
     "output_type": "stream",
     "text": [
      "[3, 4, 7]\n"
     ]
    }
   ],
   "source": [
    "nums = [1, 2, 3, 4, 5, 5, 7, 8, 8, 8, 1, 2]\n",
    "\n",
    "def filter_func(items):\n",
    "    return not (nums.count(items) > 1)\n",
    "\n",
    "print(list(filter(filter_func, nums)))"
   ]
  },
  {
   "cell_type": "code",
   "execution_count": 5,
   "metadata": {},
   "outputs": [
    {
     "name": "stdout",
     "output_type": "stream",
     "text": [
      "[('ali', '123'), ('javad', '543543'), ('mohammad', '31421'), ('sassan', 'lasdadl')]\n"
     ]
    }
   ],
   "source": [
    "names = [\"ali\", \"javad\", \"mohammad\", \"sassan\", \"reza\"]\n",
    "passwords = [\"123\", \"543543\", '31421', 'lasdadl']\n",
    "\n",
    "print(list(zip(names, passwords)))"
   ]
  },
  {
   "cell_type": "code",
   "execution_count": 12,
   "metadata": {},
   "outputs": [
    {
     "name": "stdout",
     "output_type": "stream",
     "text": [
      "0 1\n",
      "1 2\n",
      "3 3\n",
      "6 4\n",
      "10 5\n",
      "15 5\n",
      "20 7\n",
      "27 8\n",
      "35 8\n",
      "43 8\n",
      "51 1\n",
      "52 2\n",
      "54\n"
     ]
    }
   ],
   "source": [
    "from functools import reduce\n",
    "\n",
    "nums = [1, 2, 3, 4, 5, 5, 7, 8, 8, 8, 1, 2]\n",
    "\n",
    "def reduce_func(acc, items):\n",
    "    print(acc, items)\n",
    "    return acc + items\n",
    "\n",
    "print(reduce(reduce_func, nums, 0))\n",
    "\n",
    "# print(reduce(lambda acc, item: acc + item, nums, 0))"
   ]
  }
 ],
 "metadata": {
  "kernelspec": {
   "display_name": "Python 3",
   "language": "python",
   "name": "python3"
  },
  "language_info": {
   "codemirror_mode": {
    "name": "ipython",
    "version": 3
   },
   "file_extension": ".py",
   "mimetype": "text/x-python",
   "name": "python",
   "nbconvert_exporter": "python",
   "pygments_lexer": "ipython3",
   "version": "3.11.5"
  }
 },
 "nbformat": 4,
 "nbformat_minor": 2
}
