{
 "cells": [
  {
   "cell_type": "markdown",
   "metadata": {},
   "source": [
    "# Functional Programming\n",
    "> paradigm is a way for us to think about our code and organize our code."
   ]
  },
  {
   "cell_type": "markdown",
   "metadata": {},
   "source": [
    "> concern = نگرانی ، ربط | separating : جدا سازی  | maintain : نگهداری کردن | Efficient : کارآمد"
   ]
  },
  {
   "cell_type": "markdown",
   "metadata": {},
   "source": [
    "## فانکشنال پروگرامینگ چیست؟\n",
    "ایده این کار اینه که ما کدمون رو به تیکه های مختلف تقسیم بکنیم و از این طریق مدیریتش بکنیم."
   ]
  },
  {
   "cell_type": "markdown",
   "metadata": {},
   "source": [
    "## The Goal Of Functional Programming : \n",
    "- Clear + Understandable\n",
    "- Easy to Extend\n",
    "- Easy to maintain\n",
    "- Memory Efficient \n",
    "- DRY"
   ]
  },
  {
   "cell_type": "markdown",
   "metadata": {},
   "source": [
    "# Pillars of Functional Programming : \n",
    "1. Pure Functions"
   ]
  },
  {
   "cell_type": "markdown",
   "metadata": {},
   "source": [
    "## Pure Function :\n",
    " این فانکشن یه قابلیت مشخص داره. یعنی اینکه یک کاری رو انجام میده و میلیون ها بار هم بهش یه ورودی مشخص بدی اونم یه خروجی مشخص داره. مثال یک تابعی که کارش اینه که یک عددی رو میگیره و ضربدر دو میکنه و خروجی میده. \n",
    " پیور فانکشن ما نباید هیچ ساید افکتی داشته باشه."
   ]
  },
  {
   "cell_type": "markdown",
   "metadata": {},
   "source": [
    "side effect  : یعنی اینکه فانکشن از داخل خودش به بیرون از خودش یکسری حرکات انجام بده و یکچیز هایی رو تغییر بده."
   ]
  },
  {
   "cell_type": "code",
   "execution_count": 4,
   "metadata": {},
   "outputs": [
    {
     "name": "stdout",
     "output_type": "stream",
     "text": [
      "4\n",
      "4\n",
      "4\n"
     ]
    }
   ],
   "source": [
    "# pure function\n",
    "def multiple(num):\n",
    "    return num * 2\n",
    "\n",
    "print(multiple(2))\n",
    "print(multiple(2))\n",
    "print(multiple(2))"
   ]
  },
  {
   "cell_type": "markdown",
   "metadata": {},
   "source": [
    "built in functions used in FP:\n",
    "- map\n",
    "- filter\n",
    "- zip\n",
    "- reduce\n"
   ]
  },
  {
   "cell_type": "markdown",
   "metadata": {},
   "source": [
    "map : "
   ]
  },
  {
   "cell_type": "code",
   "execution_count": 17,
   "metadata": {},
   "outputs": [
    {
     "name": "stdout",
     "output_type": "stream",
     "text": [
      "[2, 4, 6, 8, 10]\n",
      "['Alireza', 'Javad', 'Ali']\n"
     ]
    }
   ],
   "source": [
    "def multiple(item):\n",
    "    return item * 2\n",
    "\n",
    "x = list(map(multiple, [1, 2, 3, 4, 5]))\n",
    "\n",
    "print(x)\n",
    "\n",
    "\n",
    "# xxxxx its very hard coding xxxxx\n",
    "# def hard_capitalize(name_list):\n",
    "#     new_name = []\n",
    "#     for name in name_list:\n",
    "#         new_name.append(name.capitalize())\n",
    "#     return new_name\n",
    "\n",
    "# print(hard_capitalize([\"alireza\", \"javad\", \"ali\"]))\n",
    "\n",
    "def capitalize(item):\n",
    "    return item.capitalize()\n",
    "\n",
    "print(list(map(capitalize, [\"alireza\", \"javad\", \"ali\"])))"
   ]
  },
  {
   "cell_type": "markdown",
   "metadata": {},
   "source": [
    "> odd : فرد"
   ]
  },
  {
   "cell_type": "markdown",
   "metadata": {},
   "source": [
    "filter :\\\n",
    "این نحوه کارش به این صورته که اقا ، اگر برای من ترو ریترن کردی من اینو توی لیست قرار میدم. در غیر این صورت قرار نمیدم."
   ]
  },
  {
   "cell_type": "code",
   "execution_count": 25,
   "metadata": {},
   "outputs": [
    {
     "name": "stdout",
     "output_type": "stream",
     "text": [
      "[11, 9, 7, 5]\n"
     ]
    }
   ],
   "source": [
    "def check_odd(item):\n",
    "    return item % 2 != 0\n",
    "\n",
    "print(list(filter(check_odd, [12, 10, 11, 9, 8, 7, 6, 5])))"
   ]
  },
  {
   "cell_type": "markdown",
   "metadata": {},
   "source": [
    "zip :\\\n",
    "به عنوان مثال اگر شما دو لیست متفاوت داشته باشید و به فانکشن زیپ بدهید. این میاد هر ایندکس یکسانو در درون یک تاپل و بعد از آن در درون یک لیست میریزه. مثال زیر را توجه کنید :"
   ]
  },
  {
   "cell_type": "code",
   "execution_count": 27,
   "metadata": {},
   "outputs": [
    {
     "name": "stdout",
     "output_type": "stream",
     "text": [
      "[('alireza', 'fazeli'), ('mohammad', 'saniei'), ('arash', 'yahyapour')]\n"
     ]
    }
   ],
   "source": [
    "names = [\"alireza\", \"mohammad\", \"arash\"]\n",
    "last_names = [\"fazeli\", \"saniei\", \"yahyapour\"]\n",
    "\n",
    "print(list(zip(names, last_names)))"
   ]
  },
  {
   "cell_type": "markdown",
   "metadata": {},
   "source": [
    "> accumulator : انباشت کننده"
   ]
  },
  {
   "cell_type": "markdown",
   "metadata": {},
   "source": [
    "## reduce:"
   ]
  },
  {
   "cell_type": "code",
   "execution_count": 38,
   "metadata": {},
   "outputs": [
    {
     "name": "stdout",
     "output_type": "stream",
     "text": [
      "10 1\n",
      "11 2\n",
      "13 3\n",
      "16\n"
     ]
    }
   ],
   "source": [
    "from functools import reduce\n",
    "\n",
    "def accumulator(acc, item):\n",
    "     print(acc, item)\n",
    "     return acc + item\n",
    "\n",
    "print(reduce(accumulator, [1, 2, 3], 10))"
   ]
  },
  {
   "cell_type": "markdown",
   "metadata": {},
   "source": [
    "## Lambda Expression (Anonymous Function):\n",
    "lambda expressions in python are one time anonymous functions that you dont need more than once.\n",
    "\n",
    "لامبدا یک انانیموس فانکشنی هستش که ما بیشتر از یکبار نیازش نداریم. در مواقعی استفاده میشه که ما یه جا به فانکشن نیاز داریم ولی نمیخوایم یک فانکشن جدید بسازیم میخوایم توی یک خط یک فانکشن ایجاد بکنیم و درجا از اون استفاده بکنی\n",
    "\n",
    "> lambda param: action(param)"
   ]
  },
  {
   "cell_type": "code",
   "execution_count": 45,
   "metadata": {},
   "outputs": [
    {
     "name": "stdout",
     "output_type": "stream",
     "text": [
      "[2, 4, 6, 8]\n"
     ]
    }
   ],
   "source": [
    "print(list(map(lambda item: item * 2, [1, 2, 3, 4])))\n"
   ]
  },
  {
   "cell_type": "code",
   "execution_count": 46,
   "metadata": {},
   "outputs": [
    {
     "name": "stdout",
     "output_type": "stream",
     "text": [
      "[2, 4, 6]\n"
     ]
    }
   ],
   "source": [
    "print(list(filter( lambda item: True if item % 2 == 0 else False, [2, 3, 4, 5, 6, 7])))"
   ]
  },
  {
   "cell_type": "markdown",
   "metadata": {},
   "source": [
    "## Lambda Exercise :"
   ]
  },
  {
   "cell_type": "code",
   "execution_count": 1,
   "metadata": {},
   "outputs": [
    {
     "name": "stdout",
     "output_type": "stream",
     "text": [
      "[25, 16, 9]\n"
     ]
    }
   ],
   "source": [
    "my_list = [5, 4, 3]\n",
    "\n",
    "print(list(map(lambda item: item * item ,my_list)))"
   ]
  },
  {
   "cell_type": "code",
   "execution_count": 81,
   "metadata": {},
   "outputs": [
    {
     "name": "stdout",
     "output_type": "stream",
     "text": [
      "[(10, -1), (0, 2), (4, 3), (9, 9)]\n"
     ]
    }
   ],
   "source": [
    "a = [(0, 2), (4, 3), (9, 9), (10, -1)]\n",
    "\n",
    "# def sort_func(my_key):\n",
    "#     return my_key[1]\n",
    "    \n",
    "# a.sort(key=sort_func)\n",
    "\n",
    "a.sort(key=lambda li_key: li_key[1])\n",
    "\n",
    "print(a)\n"
   ]
  },
  {
   "cell_type": "markdown",
   "metadata": {},
   "source": [
    "## Note : key parameter in sort function : \n",
    "کار این پارامتر اینه که اگر ما چندتا ایتریتر درون یک لیست داشته باشیم با استفاده از این میتونیم بگیم که بر اساس کدوم ایندکس یک ایتریتر بیاد لیست مارو سورت بکنه."
   ]
  },
  {
   "cell_type": "code",
   "execution_count": 82,
   "metadata": {},
   "outputs": [
    {
     "name": "stdout",
     "output_type": "stream",
     "text": [
      "[(10, -1), (0, 2), (4, 3), (9, 9)]\n"
     ]
    }
   ],
   "source": [
    "a = [(0, 2), (4, 3), (9, 9), (10, -1)]\n",
    "a.sort(key=lambda li_key: li_key[1])\n",
    "print(a)"
   ]
  },
  {
   "cell_type": "markdown",
   "metadata": {},
   "source": [
    "> Comprehension : درک"
   ]
  },
  {
   "cell_type": "markdown",
   "metadata": {},
   "source": [
    "# Comprehensions : \n",
    "- list comprehension\n",
    "- set comprehension\n",
    "- dict comprehension\n",
    "  > theyre quick way for use to create lists or sets or dictionary in python instead of perhaps looping or appending to a bunch of items to lists."
   ]
  },
  {
   "cell_type": "markdown",
   "metadata": {},
   "source": [
    "Instead of this :"
   ]
  },
  {
   "cell_type": "code",
   "execution_count": 83,
   "metadata": {},
   "outputs": [
    {
     "name": "stdout",
     "output_type": "stream",
     "text": [
      "['h', 'e', 'l', 'l', 'o', ' ', 'w', 'o', 'r', 'l', 'd']\n"
     ]
    }
   ],
   "source": [
    "my_list = []\n",
    "\n",
    "for char in \"hello world\":\n",
    "    my_list.append(char)\n",
    "    \n",
    "print(my_list)"
   ]
  },
  {
   "cell_type": "markdown",
   "metadata": {},
   "source": [
    "do this :\\\n",
    "> `my_list = [param for param in iterable]`\n",
    "\n",
    "\n",
    "> `newlist = [expression for item in iterable if condition == True]`"
   ]
  },
  {
   "cell_type": "code",
   "execution_count": 84,
   "metadata": {},
   "outputs": [
    {
     "name": "stdout",
     "output_type": "stream",
     "text": [
      "['a', 'l', 'i', 'r', 'e', 'z', 'a']\n"
     ]
    }
   ],
   "source": [
    "my_list = [char for char in \"alireza\"]\n",
    "\n",
    "print(my_list)"
   ]
  },
  {
   "cell_type": "code",
   "execution_count": 88,
   "metadata": {},
   "outputs": [
    {
     "name": "stdout",
     "output_type": "stream",
     "text": [
      "[2, 4, 6, 8, 10, 12, 14, 16, 18, 20, 22, 24, 26, 28, 30, 32, 34, 36, 38, 40, 42, 44, 46, 48, 50, 52, 54, 56, 58, 60, 62, 64, 66, 68, 70, 72, 74, 76, 78, 80, 82, 84, 86, 88, 90, 92, 94, 96, 98, 100, 102, 104, 106, 108, 110, 112, 114, 116, 118, 120, 122, 124, 126, 128, 130, 132, 134, 136, 138, 140, 142, 144, 146, 148, 150, 152, 154, 156, 158, 160, 162, 164, 166, 168, 170, 172, 174, 176, 178, 180, 182, 184, 186, 188, 190, 192, 194, 196, 198, 200]\n"
     ]
    }
   ],
   "source": [
    "numbers = [num * 2 for num in range(1, 101)]\n",
    "\n",
    "print(numbers)"
   ]
  },
  {
   "cell_type": "code",
   "execution_count": 90,
   "metadata": {},
   "outputs": [
    {
     "name": "stdout",
     "output_type": "stream",
     "text": [
      "[2, 4, 6, 8, 10, 12, 14, 16, 18, 20, 22, 24, 26, 28, 30, 32, 34, 36, 38, 40, 42, 44, 46, 48, 50, 52, 54, 56, 58, 60, 62, 64, 66, 68, 70, 72, 74, 76, 78, 80, 82, 84, 86, 88, 90, 92, 94, 96, 98, 100]\n"
     ]
    }
   ],
   "source": [
    "numbers = [num for num in range(1, 101) if num %2 == 0]\n",
    "\n",
    "print(numbers)"
   ]
  },
  {
   "cell_type": "markdown",
   "metadata": {},
   "source": [
    "set comprehension : "
   ]
  },
  {
   "cell_type": "code",
   "execution_count": 94,
   "metadata": {},
   "outputs": [
    {
     "name": "stdout",
     "output_type": "stream",
     "text": [
      "{'e', 'h', 'l', 'o'}\n"
     ]
    }
   ],
   "source": [
    "unique_set = {char for char in \"hello\"}\n",
    "print(unique_set)"
   ]
  },
  {
   "cell_type": "markdown",
   "metadata": {},
   "source": [
    "dictionary comprehension:"
   ]
  },
  {
   "cell_type": "code",
   "execution_count": 7,
   "metadata": {},
   "outputs": [
    {
     "name": "stdout",
     "output_type": "stream",
     "text": [
      "{'a': 4, 'b': 9}\n",
      "{1: 1, 2: 2, 3: 3}\n"
     ]
    }
   ],
   "source": [
    "simple_dict = {\n",
    "    'a': 2,\n",
    "    'b': 3\n",
    "}\n",
    "\n",
    "my_dict = {key:value**2 for key,value in simple_dict.items()}\n",
    "\n",
    "print(my_dict)\n",
    "\n",
    "\n"
   ]
  },
  {
   "cell_type": "code",
   "execution_count": null,
   "metadata": {},
   "outputs": [],
   "source": [
    "my_dict2 = {num: num for num in [1, 2, 3]}\n",
    "\n",
    "print(my_dict2)"
   ]
  },
  {
   "cell_type": "markdown",
   "metadata": {},
   "source": [
    "Exercise comprehension : "
   ]
  },
  {
   "cell_type": "code",
   "execution_count": 35,
   "metadata": {},
   "outputs": [
    {
     "name": "stdout",
     "output_type": "stream",
     "text": [
      "['n', 'b']\n"
     ]
    }
   ],
   "source": [
    "some_list = ['a', 'b', 'c', 'b', 'd', 'm', 'n', 'n']\n",
    "\n",
    "duplicate = list(set([char for char in some_list if some_list.count(char) > 1]))\n",
    "\n",
    "\n",
    "print(duplicate)"
   ]
  }
 ],
 "metadata": {
  "kernelspec": {
   "display_name": "Python 3",
   "language": "python",
   "name": "python3"
  },
  "language_info": {
   "codemirror_mode": {
    "name": "ipython",
    "version": 3
   },
   "file_extension": ".py",
   "mimetype": "text/x-python",
   "name": "python",
   "nbconvert_exporter": "python",
   "pygments_lexer": "ipython3",
   "version": "3.11.5"
  }
 },
 "nbformat": 4,
 "nbformat_minor": 2
}
